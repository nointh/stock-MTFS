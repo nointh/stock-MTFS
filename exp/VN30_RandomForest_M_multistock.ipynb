{
  "cells": [
    {
      "attachments": {},
      "cell_type": "markdown",
      "metadata": {
        "id": "view-in-github"
      },
      "source": [
        "<a href=\"https://colab.research.google.com/github/srivatsan88/End-to-End-Time-Series/blob/master/Multivariate_Time_Series_using_VAR.ipynb\" target=\"_parent\"><img src=\"https://colab.research.google.com/assets/colab-badge.svg\" alt=\"Open In Colab\"/></a>"
      ]
    },
    {
      "cell_type": "code",
      "execution_count": 1,
      "metadata": {
        "id": "A8edhGvXoqdT"
      },
      "outputs": [
        {
          "data": {
            "text/html": [
              "<div>\n",
              "<style scoped>\n",
              "    .dataframe tbody tr th:only-of-type {\n",
              "        vertical-align: middle;\n",
              "    }\n",
              "\n",
              "    .dataframe tbody tr th {\n",
              "        vertical-align: top;\n",
              "    }\n",
              "\n",
              "    .dataframe thead th {\n",
              "        text-align: right;\n",
              "    }\n",
              "</style>\n",
              "<table border=\"1\" class=\"dataframe\">\n",
              "  <thead>\n",
              "    <tr style=\"text-align: right;\">\n",
              "      <th></th>\n",
              "      <th>BID</th>\n",
              "      <th>BVH</th>\n",
              "      <th>CTG</th>\n",
              "      <th>FPT</th>\n",
              "      <th>GAS</th>\n",
              "      <th>HPG</th>\n",
              "      <th>KDH</th>\n",
              "      <th>MBB</th>\n",
              "      <th>MSN</th>\n",
              "      <th>MWG</th>\n",
              "      <th>...</th>\n",
              "      <th>PNJ</th>\n",
              "      <th>REE</th>\n",
              "      <th>SBT</th>\n",
              "      <th>SSI</th>\n",
              "      <th>STB</th>\n",
              "      <th>TCH</th>\n",
              "      <th>VCB</th>\n",
              "      <th>VIC</th>\n",
              "      <th>VNM</th>\n",
              "      <th>VN30</th>\n",
              "    </tr>\n",
              "  </thead>\n",
              "  <tbody>\n",
              "    <tr>\n",
              "      <th>2016-12-30</th>\n",
              "      <td>10531.3</td>\n",
              "      <td>58200.0</td>\n",
              "      <td>15050.0</td>\n",
              "      <td>15852.0</td>\n",
              "      <td>60600.0</td>\n",
              "      <td>6770.2</td>\n",
              "      <td>9221.5</td>\n",
              "      <td>5151.6</td>\n",
              "      <td>43200.0</td>\n",
              "      <td>18328.0</td>\n",
              "      <td>...</td>\n",
              "      <td>22097.6</td>\n",
              "      <td>24650.0</td>\n",
              "      <td>20035.1</td>\n",
              "      <td>9521.4</td>\n",
              "      <td>9450.0</td>\n",
              "      <td>12181.1</td>\n",
              "      <td>26307.0</td>\n",
              "      <td>34711.0</td>\n",
              "      <td>99213.0</td>\n",
              "      <td>628.21</td>\n",
              "    </tr>\n",
              "    <tr>\n",
              "      <th>2017-01-03</th>\n",
              "      <td>11235.8</td>\n",
              "      <td>59300.0</td>\n",
              "      <td>16100.0</td>\n",
              "      <td>16158.2</td>\n",
              "      <td>60100.0</td>\n",
              "      <td>6903.6</td>\n",
              "      <td>9198.4</td>\n",
              "      <td>5059.6</td>\n",
              "      <td>43600.0</td>\n",
              "      <td>18411.0</td>\n",
              "      <td>...</td>\n",
              "      <td>22164.0</td>\n",
              "      <td>25000.0</td>\n",
              "      <td>21261.8</td>\n",
              "      <td>9740.0</td>\n",
              "      <td>8790.0</td>\n",
              "      <td>12181.1</td>\n",
              "      <td>27643.0</td>\n",
              "      <td>34380.0</td>\n",
              "      <td>100082.0</td>\n",
              "      <td>633.89</td>\n",
              "    </tr>\n",
              "    <tr>\n",
              "      <th>2017-01-04</th>\n",
              "      <td>11458.3</td>\n",
              "      <td>60100.0</td>\n",
              "      <td>16400.0</td>\n",
              "      <td>16302.3</td>\n",
              "      <td>61500.0</td>\n",
              "      <td>6903.6</td>\n",
              "      <td>9198.4</td>\n",
              "      <td>5004.4</td>\n",
              "      <td>42333.0</td>\n",
              "      <td>18481.0</td>\n",
              "      <td>...</td>\n",
              "      <td>22230.5</td>\n",
              "      <td>25000.0</td>\n",
              "      <td>20771.1</td>\n",
              "      <td>9740.0</td>\n",
              "      <td>8200.0</td>\n",
              "      <td>12109.0</td>\n",
              "      <td>27457.0</td>\n",
              "      <td>34752.0</td>\n",
              "      <td>100240.0</td>\n",
              "      <td>632.70</td>\n",
              "    </tr>\n",
              "    <tr>\n",
              "      <th>2017-01-05</th>\n",
              "      <td>11421.2</td>\n",
              "      <td>61100.0</td>\n",
              "      <td>16500.0</td>\n",
              "      <td>16248.3</td>\n",
              "      <td>61500.0</td>\n",
              "      <td>6919.3</td>\n",
              "      <td>8944.8</td>\n",
              "      <td>4967.6</td>\n",
              "      <td>42067.0</td>\n",
              "      <td>18540.0</td>\n",
              "      <td>...</td>\n",
              "      <td>22263.7</td>\n",
              "      <td>25300.0</td>\n",
              "      <td>20607.6</td>\n",
              "      <td>9764.3</td>\n",
              "      <td>8580.0</td>\n",
              "      <td>12289.2</td>\n",
              "      <td>27569.0</td>\n",
              "      <td>34959.0</td>\n",
              "      <td>100082.0</td>\n",
              "      <td>634.83</td>\n",
              "    </tr>\n",
              "    <tr>\n",
              "      <th>2017-01-06</th>\n",
              "      <td>11680.8</td>\n",
              "      <td>61400.0</td>\n",
              "      <td>16650.0</td>\n",
              "      <td>16194.3</td>\n",
              "      <td>60400.0</td>\n",
              "      <td>6809.4</td>\n",
              "      <td>9083.2</td>\n",
              "      <td>5059.6</td>\n",
              "      <td>42133.0</td>\n",
              "      <td>18540.0</td>\n",
              "      <td>...</td>\n",
              "      <td>22895.1</td>\n",
              "      <td>25000.0</td>\n",
              "      <td>20525.8</td>\n",
              "      <td>9861.4</td>\n",
              "      <td>8780.0</td>\n",
              "      <td>12217.1</td>\n",
              "      <td>28125.0</td>\n",
              "      <td>35620.0</td>\n",
              "      <td>99529.0</td>\n",
              "      <td>636.34</td>\n",
              "    </tr>\n",
              "  </tbody>\n",
              "</table>\n",
              "<p>5 rows × 22 columns</p>\n",
              "</div>"
            ],
            "text/plain": [
              "                BID      BVH      CTG      FPT      GAS     HPG     KDH  \\\n",
              "2016-12-30  10531.3  58200.0  15050.0  15852.0  60600.0  6770.2  9221.5   \n",
              "2017-01-03  11235.8  59300.0  16100.0  16158.2  60100.0  6903.6  9198.4   \n",
              "2017-01-04  11458.3  60100.0  16400.0  16302.3  61500.0  6903.6  9198.4   \n",
              "2017-01-05  11421.2  61100.0  16500.0  16248.3  61500.0  6919.3  8944.8   \n",
              "2017-01-06  11680.8  61400.0  16650.0  16194.3  60400.0  6809.4  9083.2   \n",
              "\n",
              "               MBB      MSN      MWG  ...      PNJ      REE      SBT     SSI  \\\n",
              "2016-12-30  5151.6  43200.0  18328.0  ...  22097.6  24650.0  20035.1  9521.4   \n",
              "2017-01-03  5059.6  43600.0  18411.0  ...  22164.0  25000.0  21261.8  9740.0   \n",
              "2017-01-04  5004.4  42333.0  18481.0  ...  22230.5  25000.0  20771.1  9740.0   \n",
              "2017-01-05  4967.6  42067.0  18540.0  ...  22263.7  25300.0  20607.6  9764.3   \n",
              "2017-01-06  5059.6  42133.0  18540.0  ...  22895.1  25000.0  20525.8  9861.4   \n",
              "\n",
              "               STB      TCH      VCB      VIC       VNM    VN30  \n",
              "2016-12-30  9450.0  12181.1  26307.0  34711.0   99213.0  628.21  \n",
              "2017-01-03  8790.0  12181.1  27643.0  34380.0  100082.0  633.89  \n",
              "2017-01-04  8200.0  12109.0  27457.0  34752.0  100240.0  632.70  \n",
              "2017-01-05  8580.0  12289.2  27569.0  34959.0  100082.0  634.83  \n",
              "2017-01-06  8780.0  12217.1  28125.0  35620.0   99529.0  636.34  \n",
              "\n",
              "[5 rows x 22 columns]"
            ]
          },
          "execution_count": 1,
          "metadata": {},
          "output_type": "execute_result"
        }
      ],
      "source": [
        "from math import sqrt\n",
        "import numpy as np\n",
        "import pandas as pd\n",
        "from matplotlib import pyplot as plt\n",
        "from pandas import read_csv\n",
        "from pandas import DataFrame\n",
        "from pandas import concat\n",
        "from sklearn.preprocessing import MinMaxScaler\n",
        "from sklearn import linear_model\n",
        "from sklearn.metrics import mean_squared_error\n",
        "from sklearn.ensemble import RandomForestRegressor\n",
        "\n",
        "# load dataset\n",
        "stock_price_df = read_csv('./data/VN30_price.csv', header=0, index_col=0)\n",
        "values = stock_price_df.values\n",
        "# ensure all data is float\n",
        "values = values.astype('float32')\n",
        "# normalize features\n",
        "stock_price_df.head()"
      ]
    },
    {
      "cell_type": "code",
      "execution_count": 2,
      "metadata": {},
      "outputs": [],
      "source": [
        "column_names = stock_price_df.columns"
      ]
    },
    {
      "cell_type": "code",
      "execution_count": 3,
      "metadata": {},
      "outputs": [],
      "source": [
        "# convert series to supervised learning\n",
        "def series_to_supervised(data, n_in=1, n_out=1, dropnan=True):\n",
        "\tn_vars = 1 if type(data) is list else data.shape[1]\n",
        "\tdf = DataFrame(data)\n",
        "\tcols, names = list(), list()\n",
        "\t# input sequence (t-n, ... t-1)\n",
        "\tfor i in range(n_in, 0, -1):\n",
        "\t\tcols.append(df.shift(i))\n",
        "\t\tnames += [('{}(t-{})'.format(column_names[j], i)) for j in range(n_vars)]\n",
        "\t# forecast sequence (t, t+1, ... t+n)\n",
        "\tfor i in range(0, n_out):\n",
        "\t\tcols.append(df.shift(-i))\n",
        "\t\tif i == 0:\n",
        "\t\t\tnames += [('{}(t)'.format(column_names[j])) for j in range(n_vars)]\n",
        "\t\telse:\n",
        "\t\t\tnames += [('{}(t+{})'.format(column_names[j], i)) for j in range(n_vars)]\n",
        "\t# put it all together\n",
        "\tagg = concat(cols, axis=1)\n",
        "\tagg.columns = names\n",
        "\t# drop rows with NaN values\n",
        "\tif dropnan:\n",
        "\t\tagg.dropna(inplace=True)\n",
        "\treturn agg\n"
      ]
    },
    {
      "cell_type": "code",
      "execution_count": 4,
      "metadata": {
        "id": "6_eLe27stfKq"
      },
      "outputs": [],
      "source": [
        "Shift_df = stock_price_df.copy()"
      ]
    },
    {
      "cell_type": "code",
      "execution_count": 5,
      "metadata": {},
      "outputs": [],
      "source": [
        "for col in column_names:\n",
        "    stock_price_df[\"Diff\" + column_names] = stock_price_df[column_names].diff()"
      ]
    },
    {
      "cell_type": "code",
      "execution_count": 6,
      "metadata": {},
      "outputs": [],
      "source": [
        "n_days_lag = 10\n",
        "n_features = len(column_names)\n",
        "\n",
        "reframed = series_to_supervised(stock_price_df[[f\"Diff{col}\" for col in column_names]], n_days_lag, 1)\n"
      ]
    },
    {
      "cell_type": "code",
      "execution_count": 7,
      "metadata": {},
      "outputs": [
        {
          "data": {
            "text/html": [
              "<div>\n",
              "<style scoped>\n",
              "    .dataframe tbody tr th:only-of-type {\n",
              "        vertical-align: middle;\n",
              "    }\n",
              "\n",
              "    .dataframe tbody tr th {\n",
              "        vertical-align: top;\n",
              "    }\n",
              "\n",
              "    .dataframe thead th {\n",
              "        text-align: right;\n",
              "    }\n",
              "</style>\n",
              "<table border=\"1\" class=\"dataframe\">\n",
              "  <thead>\n",
              "    <tr style=\"text-align: right;\">\n",
              "      <th></th>\n",
              "      <th>BID(t-10)</th>\n",
              "      <th>BVH(t-10)</th>\n",
              "      <th>CTG(t-10)</th>\n",
              "      <th>FPT(t-10)</th>\n",
              "      <th>GAS(t-10)</th>\n",
              "      <th>HPG(t-10)</th>\n",
              "      <th>KDH(t-10)</th>\n",
              "      <th>MBB(t-10)</th>\n",
              "      <th>MSN(t-10)</th>\n",
              "      <th>MWG(t-10)</th>\n",
              "      <th>...</th>\n",
              "      <th>PNJ(t)</th>\n",
              "      <th>REE(t)</th>\n",
              "      <th>SBT(t)</th>\n",
              "      <th>SSI(t)</th>\n",
              "      <th>STB(t)</th>\n",
              "      <th>TCH(t)</th>\n",
              "      <th>VCB(t)</th>\n",
              "      <th>VIC(t)</th>\n",
              "      <th>VNM(t)</th>\n",
              "      <th>VN30(t)</th>\n",
              "    </tr>\n",
              "  </thead>\n",
              "  <tbody>\n",
              "    <tr>\n",
              "      <th>2017-01-17</th>\n",
              "      <td>704.5</td>\n",
              "      <td>1100.0</td>\n",
              "      <td>1050.0</td>\n",
              "      <td>306.2</td>\n",
              "      <td>-500.0</td>\n",
              "      <td>133.4</td>\n",
              "      <td>-23.1</td>\n",
              "      <td>-92.0</td>\n",
              "      <td>400.0</td>\n",
              "      <td>83.0</td>\n",
              "      <td>...</td>\n",
              "      <td>-66.5</td>\n",
              "      <td>0.0</td>\n",
              "      <td>0.0</td>\n",
              "      <td>97.2</td>\n",
              "      <td>280.0</td>\n",
              "      <td>-360.3</td>\n",
              "      <td>1187.0</td>\n",
              "      <td>-165.0</td>\n",
              "      <td>-316.0</td>\n",
              "      <td>4.84</td>\n",
              "    </tr>\n",
              "    <tr>\n",
              "      <th>2017-01-18</th>\n",
              "      <td>222.5</td>\n",
              "      <td>800.0</td>\n",
              "      <td>300.0</td>\n",
              "      <td>144.1</td>\n",
              "      <td>1400.0</td>\n",
              "      <td>0.0</td>\n",
              "      <td>0.0</td>\n",
              "      <td>-55.2</td>\n",
              "      <td>-1267.0</td>\n",
              "      <td>70.0</td>\n",
              "      <td>...</td>\n",
              "      <td>99.7</td>\n",
              "      <td>750.0</td>\n",
              "      <td>0.0</td>\n",
              "      <td>-97.2</td>\n",
              "      <td>210.0</td>\n",
              "      <td>-144.2</td>\n",
              "      <td>-482.0</td>\n",
              "      <td>-455.0</td>\n",
              "      <td>-79.0</td>\n",
              "      <td>-4.44</td>\n",
              "    </tr>\n",
              "    <tr>\n",
              "      <th>2017-01-19</th>\n",
              "      <td>-37.1</td>\n",
              "      <td>1000.0</td>\n",
              "      <td>100.0</td>\n",
              "      <td>-54.0</td>\n",
              "      <td>0.0</td>\n",
              "      <td>15.7</td>\n",
              "      <td>-253.6</td>\n",
              "      <td>-36.8</td>\n",
              "      <td>-266.0</td>\n",
              "      <td>59.0</td>\n",
              "      <td>...</td>\n",
              "      <td>0.0</td>\n",
              "      <td>0.0</td>\n",
              "      <td>-245.3</td>\n",
              "      <td>-121.4</td>\n",
              "      <td>140.0</td>\n",
              "      <td>-108.1</td>\n",
              "      <td>-223.0</td>\n",
              "      <td>-82.0</td>\n",
              "      <td>0.0</td>\n",
              "      <td>-2.10</td>\n",
              "    </tr>\n",
              "    <tr>\n",
              "      <th>2017-01-20</th>\n",
              "      <td>259.6</td>\n",
              "      <td>300.0</td>\n",
              "      <td>150.0</td>\n",
              "      <td>-54.0</td>\n",
              "      <td>-1100.0</td>\n",
              "      <td>-109.9</td>\n",
              "      <td>138.4</td>\n",
              "      <td>92.0</td>\n",
              "      <td>66.0</td>\n",
              "      <td>0.0</td>\n",
              "      <td>...</td>\n",
              "      <td>0.0</td>\n",
              "      <td>-150.0</td>\n",
              "      <td>245.3</td>\n",
              "      <td>0.0</td>\n",
              "      <td>-90.0</td>\n",
              "      <td>756.8</td>\n",
              "      <td>0.0</td>\n",
              "      <td>0.0</td>\n",
              "      <td>790.0</td>\n",
              "      <td>3.28</td>\n",
              "    </tr>\n",
              "    <tr>\n",
              "      <th>2017-01-23</th>\n",
              "      <td>333.7</td>\n",
              "      <td>200.0</td>\n",
              "      <td>450.0</td>\n",
              "      <td>90.0</td>\n",
              "      <td>100.0</td>\n",
              "      <td>-39.2</td>\n",
              "      <td>0.0</td>\n",
              "      <td>-18.4</td>\n",
              "      <td>-400.0</td>\n",
              "      <td>-129.0</td>\n",
              "      <td>...</td>\n",
              "      <td>0.0</td>\n",
              "      <td>-750.0</td>\n",
              "      <td>-81.7</td>\n",
              "      <td>-72.9</td>\n",
              "      <td>50.0</td>\n",
              "      <td>0.0</td>\n",
              "      <td>75.0</td>\n",
              "      <td>0.0</td>\n",
              "      <td>790.0</td>\n",
              "      <td>1.14</td>\n",
              "    </tr>\n",
              "  </tbody>\n",
              "</table>\n",
              "<p>5 rows × 242 columns</p>\n",
              "</div>"
            ],
            "text/plain": [
              "            BID(t-10)  BVH(t-10)  CTG(t-10)  FPT(t-10)  GAS(t-10)  HPG(t-10)  \\\n",
              "2017-01-17      704.5     1100.0     1050.0      306.2     -500.0      133.4   \n",
              "2017-01-18      222.5      800.0      300.0      144.1     1400.0        0.0   \n",
              "2017-01-19      -37.1     1000.0      100.0      -54.0        0.0       15.7   \n",
              "2017-01-20      259.6      300.0      150.0      -54.0    -1100.0     -109.9   \n",
              "2017-01-23      333.7      200.0      450.0       90.0      100.0      -39.2   \n",
              "\n",
              "            KDH(t-10)  MBB(t-10)  MSN(t-10)  MWG(t-10)  ...  PNJ(t)  REE(t)  \\\n",
              "2017-01-17      -23.1      -92.0      400.0       83.0  ...   -66.5     0.0   \n",
              "2017-01-18        0.0      -55.2    -1267.0       70.0  ...    99.7   750.0   \n",
              "2017-01-19     -253.6      -36.8     -266.0       59.0  ...     0.0     0.0   \n",
              "2017-01-20      138.4       92.0       66.0        0.0  ...     0.0  -150.0   \n",
              "2017-01-23        0.0      -18.4     -400.0     -129.0  ...     0.0  -750.0   \n",
              "\n",
              "            SBT(t)  SSI(t)  STB(t)  TCH(t)  VCB(t)  VIC(t)  VNM(t)  VN30(t)  \n",
              "2017-01-17     0.0    97.2   280.0  -360.3  1187.0  -165.0  -316.0     4.84  \n",
              "2017-01-18     0.0   -97.2   210.0  -144.2  -482.0  -455.0   -79.0    -4.44  \n",
              "2017-01-19  -245.3  -121.4   140.0  -108.1  -223.0   -82.0     0.0    -2.10  \n",
              "2017-01-20   245.3     0.0   -90.0   756.8     0.0     0.0   790.0     3.28  \n",
              "2017-01-23   -81.7   -72.9    50.0     0.0    75.0     0.0   790.0     1.14  \n",
              "\n",
              "[5 rows x 242 columns]"
            ]
          },
          "execution_count": 7,
          "metadata": {},
          "output_type": "execute_result"
        }
      ],
      "source": [
        "reframed.head()"
      ]
    },
    {
      "cell_type": "code",
      "execution_count": 8,
      "metadata": {
        "colab": {
          "base_uri": "https://localhost:8080/"
        },
        "id": "zflJjxO9_k4H",
        "outputId": "b30c3928-aac3-48fe-adbb-49d57e2ad999"
      },
      "outputs": [
        {
          "name": "stdout",
          "output_type": "stream",
          "text": [
            "(1191, 220) (1191, 22) (298, 220) (298, 22)\n"
          ]
        }
      ],
      "source": [
        "# split into train and test sets\n",
        "n_obs = n_days_lag * n_features\n",
        "\n",
        "values = reframed.values\n",
        "n_train_days = int(len(reframed.index) * 0.8)\n",
        "train = values[:n_train_days, :]\n",
        "test = values[n_train_days:, :]\n",
        "# split into input and outputs\n",
        "#y is the VN30 price\n",
        "train_X, train_y = train[:, :n_obs], train[:, n_obs:]\n",
        "test_X, test_y = test[:, :n_obs], test[:, n_obs:]\n",
        "# reshape input to be 3D [samples, timesteps, features]\n",
        "# train_X = train_X.reshape((train_X.shape[0], n_days_lag, n_features))\n",
        "# test_X = test_X.reshape((test_X.shape[0], n_days_lag, n_features))\n",
        "print(train_X.shape, train_y.shape, test_X.shape, test_y.shape)"
      ]
    },
    {
      "cell_type": "code",
      "execution_count": 9,
      "metadata": {},
      "outputs": [],
      "source": [
        "test_df = stock_price_df[n_train_days:]\n",
        "train_df = stock_price_df[:n_train_days]"
      ]
    },
    {
      "cell_type": "code",
      "execution_count": 10,
      "metadata": {},
      "outputs": [
        {
          "data": {
            "text/html": [
              "<style>#sk-container-id-1 {color: black;background-color: white;}#sk-container-id-1 pre{padding: 0;}#sk-container-id-1 div.sk-toggleable {background-color: white;}#sk-container-id-1 label.sk-toggleable__label {cursor: pointer;display: block;width: 100%;margin-bottom: 0;padding: 0.3em;box-sizing: border-box;text-align: center;}#sk-container-id-1 label.sk-toggleable__label-arrow:before {content: \"▸\";float: left;margin-right: 0.25em;color: #696969;}#sk-container-id-1 label.sk-toggleable__label-arrow:hover:before {color: black;}#sk-container-id-1 div.sk-estimator:hover label.sk-toggleable__label-arrow:before {color: black;}#sk-container-id-1 div.sk-toggleable__content {max-height: 0;max-width: 0;overflow: hidden;text-align: left;background-color: #f0f8ff;}#sk-container-id-1 div.sk-toggleable__content pre {margin: 0.2em;color: black;border-radius: 0.25em;background-color: #f0f8ff;}#sk-container-id-1 input.sk-toggleable__control:checked~div.sk-toggleable__content {max-height: 200px;max-width: 100%;overflow: auto;}#sk-container-id-1 input.sk-toggleable__control:checked~label.sk-toggleable__label-arrow:before {content: \"▾\";}#sk-container-id-1 div.sk-estimator input.sk-toggleable__control:checked~label.sk-toggleable__label {background-color: #d4ebff;}#sk-container-id-1 div.sk-label input.sk-toggleable__control:checked~label.sk-toggleable__label {background-color: #d4ebff;}#sk-container-id-1 input.sk-hidden--visually {border: 0;clip: rect(1px 1px 1px 1px);clip: rect(1px, 1px, 1px, 1px);height: 1px;margin: -1px;overflow: hidden;padding: 0;position: absolute;width: 1px;}#sk-container-id-1 div.sk-estimator {font-family: monospace;background-color: #f0f8ff;border: 1px dotted black;border-radius: 0.25em;box-sizing: border-box;margin-bottom: 0.5em;}#sk-container-id-1 div.sk-estimator:hover {background-color: #d4ebff;}#sk-container-id-1 div.sk-parallel-item::after {content: \"\";width: 100%;border-bottom: 1px solid gray;flex-grow: 1;}#sk-container-id-1 div.sk-label:hover label.sk-toggleable__label {background-color: #d4ebff;}#sk-container-id-1 div.sk-serial::before {content: \"\";position: absolute;border-left: 1px solid gray;box-sizing: border-box;top: 0;bottom: 0;left: 50%;z-index: 0;}#sk-container-id-1 div.sk-serial {display: flex;flex-direction: column;align-items: center;background-color: white;padding-right: 0.2em;padding-left: 0.2em;position: relative;}#sk-container-id-1 div.sk-item {position: relative;z-index: 1;}#sk-container-id-1 div.sk-parallel {display: flex;align-items: stretch;justify-content: center;background-color: white;position: relative;}#sk-container-id-1 div.sk-item::before, #sk-container-id-1 div.sk-parallel-item::before {content: \"\";position: absolute;border-left: 1px solid gray;box-sizing: border-box;top: 0;bottom: 0;left: 50%;z-index: -1;}#sk-container-id-1 div.sk-parallel-item {display: flex;flex-direction: column;z-index: 1;position: relative;background-color: white;}#sk-container-id-1 div.sk-parallel-item:first-child::after {align-self: flex-end;width: 50%;}#sk-container-id-1 div.sk-parallel-item:last-child::after {align-self: flex-start;width: 50%;}#sk-container-id-1 div.sk-parallel-item:only-child::after {width: 0;}#sk-container-id-1 div.sk-dashed-wrapped {border: 1px dashed gray;margin: 0 0.4em 0.5em 0.4em;box-sizing: border-box;padding-bottom: 0.4em;background-color: white;}#sk-container-id-1 div.sk-label label {font-family: monospace;font-weight: bold;display: inline-block;line-height: 1.2em;}#sk-container-id-1 div.sk-label-container {text-align: center;}#sk-container-id-1 div.sk-container {/* jupyter's `normalize.less` sets `[hidden] { display: none; }` but bootstrap.min.css set `[hidden] { display: none !important; }` so we also need the `!important` here to be able to override the default hidden behavior on the sphinx rendered scikit-learn.org. See: https://github.com/scikit-learn/scikit-learn/issues/21755 */display: inline-block !important;position: relative;}#sk-container-id-1 div.sk-text-repr-fallback {display: none;}</style><div id=\"sk-container-id-1\" class=\"sk-top-container\"><div class=\"sk-text-repr-fallback\"><pre>RandomForestRegressor()</pre><b>In a Jupyter environment, please rerun this cell to show the HTML representation or trust the notebook. <br />On GitHub, the HTML representation is unable to render, please try loading this page with nbviewer.org.</b></div><div class=\"sk-container\" hidden><div class=\"sk-item\"><div class=\"sk-estimator sk-toggleable\"><input class=\"sk-toggleable__control sk-hidden--visually\" id=\"sk-estimator-id-1\" type=\"checkbox\" checked><label for=\"sk-estimator-id-1\" class=\"sk-toggleable__label sk-toggleable__label-arrow\">RandomForestRegressor</label><div class=\"sk-toggleable__content\"><pre>RandomForestRegressor()</pre></div></div></div></div></div>"
            ],
            "text/plain": [
              "RandomForestRegressor()"
            ]
          },
          "execution_count": 10,
          "metadata": {},
          "output_type": "execute_result"
        }
      ],
      "source": [
        "RFRoost_model = RandomForestRegressor()\n",
        "RFRoost_model.fit(train_X, train_y)\n"
      ]
    },
    {
      "cell_type": "code",
      "execution_count": 11,
      "metadata": {},
      "outputs": [],
      "source": [
        "train_idx = stock_price_df.index <= reframed[:n_train_days].index[-1]\n",
        "test_idx = ~train_idx\n",
        "\n",
        "train_idx[:n_days_lag+1] = False"
      ]
    },
    {
      "cell_type": "code",
      "execution_count": 12,
      "metadata": {},
      "outputs": [
        {
          "data": {
            "text/plain": [
              "0.855442551679198"
            ]
          },
          "execution_count": 12,
          "metadata": {},
          "output_type": "execute_result"
        }
      ],
      "source": [
        "RFRoost_model.score(train_X, train_y)"
      ]
    },
    {
      "cell_type": "code",
      "execution_count": 13,
      "metadata": {},
      "outputs": [
        {
          "data": {
            "text/plain": [
              "-0.11693782696510917"
            ]
          },
          "execution_count": 13,
          "metadata": {},
          "output_type": "execute_result"
        }
      ],
      "source": [
        "RFRoost_model.score(test_X, test_y)"
      ]
    },
    {
      "cell_type": "code",
      "execution_count": 14,
      "metadata": {},
      "outputs": [
        {
          "data": {
            "text/plain": [
              "(1191,)"
            ]
          },
          "execution_count": 14,
          "metadata": {},
          "output_type": "execute_result"
        }
      ],
      "source": [
        "RFRoost_model.predict(train_X)[:, 1].shape"
      ]
    },
    {
      "cell_type": "code",
      "execution_count": 15,
      "metadata": {},
      "outputs": [],
      "source": [
        "for i, col in enumerate(column_names):\n",
        "    stock_price_df[f'Shift{col}'] = stock_price_df[col].shift(1)\n",
        "    prev = stock_price_df[f'Shift{col}']\n",
        "    stock_price_df.loc[train_idx, f'{col}-RFR_1_step_train'] = prev[train_idx] + RFRoost_model.predict(train_X)[:, i]\n",
        "    stock_price_df.loc[test_idx, f'{col}-RFR_1_step_test'] = prev[test_idx] + RFRoost_model.predict(test_X)[:, i]"
      ]
    },
    {
      "cell_type": "code",
      "execution_count": 16,
      "metadata": {},
      "outputs": [],
      "source": [
        "observe_date = reframed[n_train_days-10:].index[0]"
      ]
    },
    {
      "cell_type": "code",
      "execution_count": 17,
      "metadata": {},
      "outputs": [
        {
          "data": {
            "text/plain": [
              "<Axes: >"
            ]
          },
          "execution_count": 17,
          "metadata": {},
          "output_type": "execute_result"
        },
        {
          "data": {
            "text/plain": [
              "<Figure size 1000x600 with 0 Axes>"
            ]
          },
          "metadata": {},
          "output_type": "display_data"
        },
        {
          "data": {
            "image/png": "[encoded data removed]",
            "text/plain": [
              "<Figure size 1500x500 with 1 Axes>"
            ]
          },
          "metadata": {},
          "output_type": "display_data"
        }
      ],
      "source": [
        "plt.figure(figsize=(10, 6))\n",
        "stock_price_df[stock_price_df.index > observe_date][['VN30', 'VN30-RFR_1_step_train', 'VN30-RFR_1_step_test']].plot(figsize=(15,5))"
      ]
    },
    {
      "cell_type": "code",
      "execution_count": 18,
      "metadata": {},
      "outputs": [
        {
          "data": {
            "text/plain": [
              "(1, 220)"
            ]
          },
          "execution_count": 18,
          "metadata": {},
          "output_type": "execute_result"
        }
      ],
      "source": [
        "test_X[[0], :].shape"
      ]
    },
    {
      "cell_type": "code",
      "execution_count": 19,
      "metadata": {},
      "outputs": [
        {
          "data": {
            "text/plain": [
              "array([[  197.8 ,   -99.  ,  -195.2 , ...,   300.  ,  -380.4 ,   -11.74],\n",
              "       [ -277.  , -1873.  ,   -97.6 , ...,   100.  ,  -475.4 ,     5.65],\n",
              "       [ -277.  ,   -99.  ,   -97.7 , ...,  2800.  ,   760.7 ,    33.84],\n",
              "       ...,\n",
              "       [  100.  ,  -150.  ,  -250.  , ...,   500.  ,   600.  ,    19.59],\n",
              "       [  200.  ,  -250.  ,   350.  , ...,   100.  ,   400.  ,     6.59],\n",
              "       [ -100.  ,   100.  ,  -200.  , ...,   100.  ,     0.  ,    -5.65]])"
            ]
          },
          "execution_count": 19,
          "metadata": {},
          "output_type": "execute_result"
        }
      ],
      "source": [
        "test_X"
      ]
    },
    {
      "cell_type": "code",
      "execution_count": 20,
      "metadata": {},
      "outputs": [],
      "source": [
        "n_observe_days = 5\n",
        "multistep_forecasting = []\n",
        "last_x = test_X[[0]]\n",
        "while len(multistep_forecasting) < n_observe_days:\n",
        "    p = RFRoost_model.predict(last_x)\n",
        "    multistep_forecasting.append(p)\n",
        "    last_x = np.roll(last_x, -n_features)\n",
        "    for i in range(n_features):\n",
        "        last_x[0, -(n_features-i)] = p[0, i]\n"
      ]
    },
    {
      "cell_type": "code",
      "execution_count": 21,
      "metadata": {},
      "outputs": [
        {
          "data": {
            "text/plain": [
              "5"
            ]
          },
          "execution_count": 21,
          "metadata": {},
          "output_type": "execute_result"
        }
      ],
      "source": [
        "import copy\n",
        "multistep_idx = copy.deepcopy(test_idx)\n",
        "multistep_idx[n_train_days+n_days_lag+1+n_observe_days:] = False\n",
        "multistep_idx.sum()"
      ]
    },
    {
      "cell_type": "code",
      "execution_count": 22,
      "metadata": {},
      "outputs": [],
      "source": [
        "for i, col in enumerate(column_names):\n",
        "    last_train = stock_price_df.iloc[n_train_days+n_days_lag][col]\n",
        "    stock_price_df.loc[multistep_idx, f'{col}-RFR_multistep'] = last_train + np.cumsum([p[0,i] for  p in multistep_forecasting])"
      ]
    },
    {
      "cell_type": "code",
      "execution_count": 23,
      "metadata": {},
      "outputs": [
        {
          "data": {
            "text/plain": [
              "<Axes: >"
            ]
          },
          "execution_count": 23,
          "metadata": {},
          "output_type": "execute_result"
        },
        {
          "data": {
            "image/png": "[encoded data removed]",
            "text/plain": [
              "<Figure size 1500x500 with 1 Axes>"
            ]
          },
          "metadata": {},
          "output_type": "display_data"
        }
      ],
      "source": [
        "stock_price_df[multistep_idx][['VN30', 'VN30-RFR_multistep', 'VN30-RFR_1_step_test']].plot(figsize=(15,5))"
      ]
    },
    {
      "cell_type": "code",
      "execution_count": 56,
      "metadata": {},
      "outputs": [],
      "source": [
        "from joblib import dump, load\n",
        "\n",
        "dump(RFRoost_model, 'RFRoost_model.joblib')\n",
        "\n",
        "RFRoost_model = load('RFRoost_model.joblib')\n",
        "\n",
        "\n",
        "Shift_df = stock_price_df.copy()\n",
        "for col in column_names:\n",
        "    stock_price_df[f\"Diff{col}\"] = stock_price_df[col].diff()\n",
        "\n",
        "n_days_lag = 10\n",
        "n_features = len(column_names)\n",
        "reframed = series_to_supervised(stock_price_df[[f\"Diff{col}\" for col in column_names]], n_days_lag, 1)\n",
        "n_obs = n_days_lag * n_features\n",
        "\n",
        "last_input_sequence = reframed.values[-1:, :n_obs]\n",
        "\n"
      ]
    },
    {
      "cell_type": "code",
      "execution_count": 57,
      "metadata": {},
      "outputs": [
        {
          "data": {
            "text/plain": [
              "(1, 220)"
            ]
          },
          "execution_count": 57,
          "metadata": {},
          "output_type": "execute_result"
        }
      ],
      "source": [
        "last_input_sequence.shape"
      ]
    },
    {
      "cell_type": "code",
      "execution_count": 58,
      "metadata": {},
      "outputs": [],
      "source": [
        "a = []\n",
        "b = np.random.rand(1, 22)\n",
        "a.append(b)"
      ]
    },
    {
      "cell_type": "code",
      "execution_count": 62,
      "metadata": {},
      "outputs": [
        {
          "data": {
            "text/plain": [
              "(1, 22)"
            ]
          },
          "execution_count": 62,
          "metadata": {},
          "output_type": "execute_result"
        }
      ],
      "source": [
        "prediction = RFRoost_model.predict(last_input_sequence)\n",
        "prediction.shape"
      ]
    },
    {
      "cell_type": "code",
      "execution_count": 65,
      "metadata": {},
      "outputs": [
        {
          "data": {
            "text/plain": [
              "(22,)"
            ]
          },
          "execution_count": 65,
          "metadata": {},
          "output_type": "execute_result"
        }
      ],
      "source": [
        "last_values = stock_price_df[column_names].iloc[-1]\n",
        "last_values.shape"
      ]
    },
    {
      "attachments": {},
      "cell_type": "markdown",
      "metadata": {},
      "source": [
        "PREDICT HERE"
      ]
    },
    {
      "cell_type": "code",
      "execution_count": 75,
      "metadata": {},
      "outputs": [
        {
          "data": {
            "text/html": [
              "<div>\n",
              "<style scoped>\n",
              "    .dataframe tbody tr th:only-of-type {\n",
              "        vertical-align: middle;\n",
              "    }\n",
              "\n",
              "    .dataframe tbody tr th {\n",
              "        vertical-align: top;\n",
              "    }\n",
              "\n",
              "    .dataframe thead th {\n",
              "        text-align: right;\n",
              "    }\n",
              "</style>\n",
              "<table border=\"1\" class=\"dataframe\">\n",
              "  <thead>\n",
              "    <tr style=\"text-align: right;\">\n",
              "      <th></th>\n",
              "      <th>BID</th>\n",
              "      <th>BVH</th>\n",
              "      <th>CTG</th>\n",
              "      <th>FPT</th>\n",
              "      <th>GAS</th>\n",
              "      <th>HPG</th>\n",
              "      <th>KDH</th>\n",
              "      <th>MBB</th>\n",
              "      <th>MSN</th>\n",
              "      <th>MWG</th>\n",
              "      <th>...</th>\n",
              "      <th>PNJ</th>\n",
              "      <th>REE</th>\n",
              "      <th>SBT</th>\n",
              "      <th>SSI</th>\n",
              "      <th>STB</th>\n",
              "      <th>TCH</th>\n",
              "      <th>VCB</th>\n",
              "      <th>VIC</th>\n",
              "      <th>VNM</th>\n",
              "      <th>VN30</th>\n",
              "    </tr>\n",
              "  </thead>\n",
              "  <tbody>\n",
              "    <tr>\n",
              "      <th>0</th>\n",
              "      <td>38522.120</td>\n",
              "      <td>46454.95</td>\n",
              "      <td>27176.966</td>\n",
              "      <td>76792.587</td>\n",
              "      <td>101394.57</td>\n",
              "      <td>17965.988</td>\n",
              "      <td>26511.893</td>\n",
              "      <td>17076.591</td>\n",
              "      <td>93139.52</td>\n",
              "      <td>42923.63</td>\n",
              "      <td>...</td>\n",
              "      <td>89731.250</td>\n",
              "      <td>71523.880</td>\n",
              "      <td>14463.498</td>\n",
              "      <td>17627.329</td>\n",
              "      <td>22435.0</td>\n",
              "      <td>6728.300</td>\n",
              "      <td>79878.50</td>\n",
              "      <td>53719.58</td>\n",
              "      <td>75603.578</td>\n",
              "      <td>1003.5382</td>\n",
              "    </tr>\n",
              "    <tr>\n",
              "      <th>1</th>\n",
              "      <td>38468.473</td>\n",
              "      <td>46339.16</td>\n",
              "      <td>27176.694</td>\n",
              "      <td>76948.992</td>\n",
              "      <td>101518.05</td>\n",
              "      <td>18078.204</td>\n",
              "      <td>26591.886</td>\n",
              "      <td>17130.821</td>\n",
              "      <td>93353.64</td>\n",
              "      <td>42920.10</td>\n",
              "      <td>...</td>\n",
              "      <td>89672.629</td>\n",
              "      <td>71786.520</td>\n",
              "      <td>14420.859</td>\n",
              "      <td>17705.797</td>\n",
              "      <td>22511.2</td>\n",
              "      <td>6692.932</td>\n",
              "      <td>79886.33</td>\n",
              "      <td>53654.32</td>\n",
              "      <td>75402.644</td>\n",
              "      <td>1005.4906</td>\n",
              "    </tr>\n",
              "    <tr>\n",
              "      <th>2</th>\n",
              "      <td>38377.287</td>\n",
              "      <td>46258.31</td>\n",
              "      <td>27237.301</td>\n",
              "      <td>76886.769</td>\n",
              "      <td>101463.89</td>\n",
              "      <td>18068.785</td>\n",
              "      <td>26635.801</td>\n",
              "      <td>17125.529</td>\n",
              "      <td>93472.86</td>\n",
              "      <td>42851.29</td>\n",
              "      <td>...</td>\n",
              "      <td>89660.683</td>\n",
              "      <td>71739.039</td>\n",
              "      <td>14534.563</td>\n",
              "      <td>17724.913</td>\n",
              "      <td>22549.1</td>\n",
              "      <td>6687.119</td>\n",
              "      <td>79945.48</td>\n",
              "      <td>53554.34</td>\n",
              "      <td>76737.197</td>\n",
              "      <td>1005.8321</td>\n",
              "    </tr>\n",
              "    <tr>\n",
              "      <th>3</th>\n",
              "      <td>38208.844</td>\n",
              "      <td>46174.70</td>\n",
              "      <td>27076.805</td>\n",
              "      <td>76781.487</td>\n",
              "      <td>101319.44</td>\n",
              "      <td>17961.126</td>\n",
              "      <td>26501.493</td>\n",
              "      <td>17040.523</td>\n",
              "      <td>93117.71</td>\n",
              "      <td>42536.29</td>\n",
              "      <td>...</td>\n",
              "      <td>89490.448</td>\n",
              "      <td>71770.419</td>\n",
              "      <td>14470.432</td>\n",
              "      <td>17704.779</td>\n",
              "      <td>22383.1</td>\n",
              "      <td>6679.458</td>\n",
              "      <td>79797.64</td>\n",
              "      <td>53206.96</td>\n",
              "      <td>76738.081</td>\n",
              "      <td>1001.2439</td>\n",
              "    </tr>\n",
              "    <tr>\n",
              "      <th>4</th>\n",
              "      <td>38151.858</td>\n",
              "      <td>46073.57</td>\n",
              "      <td>27119.171</td>\n",
              "      <td>76961.659</td>\n",
              "      <td>101057.29</td>\n",
              "      <td>18009.698</td>\n",
              "      <td>26619.826</td>\n",
              "      <td>17092.889</td>\n",
              "      <td>93395.06</td>\n",
              "      <td>42701.02</td>\n",
              "      <td>...</td>\n",
              "      <td>89539.263</td>\n",
              "      <td>71850.319</td>\n",
              "      <td>14552.568</td>\n",
              "      <td>17820.826</td>\n",
              "      <td>22459.7</td>\n",
              "      <td>6683.345</td>\n",
              "      <td>79973.16</td>\n",
              "      <td>53448.16</td>\n",
              "      <td>76710.881</td>\n",
              "      <td>1003.8026</td>\n",
              "    </tr>\n",
              "  </tbody>\n",
              "</table>\n",
              "<p>5 rows × 22 columns</p>\n",
              "</div>"
            ],
            "text/plain": [
              "         BID       BVH        CTG        FPT        GAS        HPG        KDH  \\\n",
              "0  38522.120  46454.95  27176.966  76792.587  101394.57  17965.988  26511.893   \n",
              "1  38468.473  46339.16  27176.694  76948.992  101518.05  18078.204  26591.886   \n",
              "2  38377.287  46258.31  27237.301  76886.769  101463.89  18068.785  26635.801   \n",
              "3  38208.844  46174.70  27076.805  76781.487  101319.44  17961.126  26501.493   \n",
              "4  38151.858  46073.57  27119.171  76961.659  101057.29  18009.698  26619.826   \n",
              "\n",
              "         MBB       MSN       MWG  ...        PNJ        REE        SBT  \\\n",
              "0  17076.591  93139.52  42923.63  ...  89731.250  71523.880  14463.498   \n",
              "1  17130.821  93353.64  42920.10  ...  89672.629  71786.520  14420.859   \n",
              "2  17125.529  93472.86  42851.29  ...  89660.683  71739.039  14534.563   \n",
              "3  17040.523  93117.71  42536.29  ...  89490.448  71770.419  14470.432   \n",
              "4  17092.889  93395.06  42701.02  ...  89539.263  71850.319  14552.568   \n",
              "\n",
              "         SSI      STB       TCH       VCB       VIC        VNM       VN30  \n",
              "0  17627.329  22435.0  6728.300  79878.50  53719.58  75603.578  1003.5382  \n",
              "1  17705.797  22511.2  6692.932  79886.33  53654.32  75402.644  1005.4906  \n",
              "2  17724.913  22549.1  6687.119  79945.48  53554.34  76737.197  1005.8321  \n",
              "3  17704.779  22383.1  6679.458  79797.64  53206.96  76738.081  1001.2439  \n",
              "4  17820.826  22459.7  6683.345  79973.16  53448.16  76710.881  1003.8026  \n",
              "\n",
              "[5 rows x 22 columns]"
            ]
          },
          "execution_count": 75,
          "metadata": {},
          "output_type": "execute_result"
        }
      ],
      "source": [
        "from joblib import dump, load\n",
        "\n",
        "dump(RFRoost_model, 'save/RFRoost_model.joblib')\n",
        "\n",
        "RFRoost_model = load('save/RFRoost_model.joblib')\n",
        "\n",
        "\n",
        "Shift_df = stock_price_df.copy()\n",
        "for col in column_names:\n",
        "    stock_price_df[f\"Diff{col}\"] = stock_price_df[col].diff()\n",
        "\n",
        "n_days_lag = 10\n",
        "n_features = len(column_names)\n",
        "reframed = series_to_supervised(stock_price_df[[f\"Diff{col}\" for col in column_names]], n_days_lag, 1)\n",
        "n_obs = n_days_lag * n_features\n",
        "\n",
        "last_input_sequence = reframed.values[-1:, :n_obs]\n",
        "\n",
        "\n",
        "predictions = []\n",
        "last_values = stock_price_df[column_names].iloc[-1].values.reshape(1, n_features)\n",
        "n_predict = 5\n",
        "for i in range(n_predict):\n",
        "    prediction = RFRoost_model.predict(last_input_sequence)\n",
        "\n",
        "    prediction = prediction.reshape((1, n_features))\n",
        "\n",
        "\n",
        "    last_input_sequence = np.roll(last_input_sequence, -n_features)\n",
        "    last_input_sequence[:, -n_features:] = prediction\n",
        "    # print(type(prediction))\n",
        "    last_values = last_values + prediction\n",
        "    predictions.append(last_values)\n",
        "predictions = np.array(predictions).reshape(n_predict, n_features)\n",
        "predictions.shape\n",
        "predicted_values_df = pd.DataFrame(data=predictions, columns=column_names)\n",
        "predicted_values_df"
      ]
    },
    {
      "cell_type": "code",
      "execution_count": 24,
      "metadata": {},
      "outputs": [
        {
          "ename": "KeyboardInterrupt",
          "evalue": "",
          "output_type": "error",
          "traceback": [
            "\u001b[0;31m---------------------------------------------------------------------------\u001b[0m",
            "\u001b[0;31mKeyboardInterrupt\u001b[0m                         Traceback (most recent call last)",
            "Cell \u001b[0;32mIn[24], line 11\u001b[0m\n\u001b[1;32m      9\u001b[0m test_X_m, test_y_m \u001b[39m=\u001b[39m test_m[:, :n_obs], test_m[:, n_obs:]\n\u001b[1;32m     10\u001b[0m multioutput_RFRoost_model \u001b[39m=\u001b[39m RandomForestRegressor()\n\u001b[0;32m---> 11\u001b[0m multioutput_RFRoost_model\u001b[39m.\u001b[39;49mfit(train_X_m, train_y_m)\n\u001b[1;32m     12\u001b[0m multioutput_RFRoost_model\u001b[39m.\u001b[39mscore(train_X_m, train_y_m)\n",
            "File \u001b[0;32m~/anaconda3/envs/venv/lib/python3.8/site-packages/sklearn/ensemble/_forest.py:473\u001b[0m, in \u001b[0;36mBaseForest.fit\u001b[0;34m(self, X, y, sample_weight)\u001b[0m\n\u001b[1;32m    462\u001b[0m trees \u001b[39m=\u001b[39m [\n\u001b[1;32m    463\u001b[0m     \u001b[39mself\u001b[39m\u001b[39m.\u001b[39m_make_estimator(append\u001b[39m=\u001b[39m\u001b[39mFalse\u001b[39;00m, random_state\u001b[39m=\u001b[39mrandom_state)\n\u001b[1;32m    464\u001b[0m     \u001b[39mfor\u001b[39;00m i \u001b[39min\u001b[39;00m \u001b[39mrange\u001b[39m(n_more_estimators)\n\u001b[1;32m    465\u001b[0m ]\n\u001b[1;32m    467\u001b[0m \u001b[39m# Parallel loop: we prefer the threading backend as the Cython code\u001b[39;00m\n\u001b[1;32m    468\u001b[0m \u001b[39m# for fitting the trees is internally releasing the Python GIL\u001b[39;00m\n\u001b[1;32m    469\u001b[0m \u001b[39m# making threading more efficient than multiprocessing in\u001b[39;00m\n\u001b[1;32m    470\u001b[0m \u001b[39m# that case. However, for joblib 0.12+ we respect any\u001b[39;00m\n\u001b[1;32m    471\u001b[0m \u001b[39m# parallel_backend contexts set at a higher level,\u001b[39;00m\n\u001b[1;32m    472\u001b[0m \u001b[39m# since correctness does not rely on using threads.\u001b[39;00m\n\u001b[0;32m--> 473\u001b[0m trees \u001b[39m=\u001b[39m Parallel(\n\u001b[1;32m    474\u001b[0m     n_jobs\u001b[39m=\u001b[39;49m\u001b[39mself\u001b[39;49m\u001b[39m.\u001b[39;49mn_jobs,\n\u001b[1;32m    475\u001b[0m     verbose\u001b[39m=\u001b[39;49m\u001b[39mself\u001b[39;49m\u001b[39m.\u001b[39;49mverbose,\n\u001b[1;32m    476\u001b[0m     prefer\u001b[39m=\u001b[39;49m\u001b[39m\"\u001b[39;49m\u001b[39mthreads\u001b[39;49m\u001b[39m\"\u001b[39;49m,\n\u001b[1;32m    477\u001b[0m )(\n\u001b[1;32m    478\u001b[0m     delayed(_parallel_build_trees)(\n\u001b[1;32m    479\u001b[0m         t,\n\u001b[1;32m    480\u001b[0m         \u001b[39mself\u001b[39;49m\u001b[39m.\u001b[39;49mbootstrap,\n\u001b[1;32m    481\u001b[0m         X,\n\u001b[1;32m    482\u001b[0m         y,\n\u001b[1;32m    483\u001b[0m         sample_weight,\n\u001b[1;32m    484\u001b[0m         i,\n\u001b[1;32m    485\u001b[0m         \u001b[39mlen\u001b[39;49m(trees),\n\u001b[1;32m    486\u001b[0m         verbose\u001b[39m=\u001b[39;49m\u001b[39mself\u001b[39;49m\u001b[39m.\u001b[39;49mverbose,\n\u001b[1;32m    487\u001b[0m         class_weight\u001b[39m=\u001b[39;49m\u001b[39mself\u001b[39;49m\u001b[39m.\u001b[39;49mclass_weight,\n\u001b[1;32m    488\u001b[0m         n_samples_bootstrap\u001b[39m=\u001b[39;49mn_samples_bootstrap,\n\u001b[1;32m    489\u001b[0m     )\n\u001b[1;32m    490\u001b[0m     \u001b[39mfor\u001b[39;49;00m i, t \u001b[39min\u001b[39;49;00m \u001b[39menumerate\u001b[39;49m(trees)\n\u001b[1;32m    491\u001b[0m )\n\u001b[1;32m    493\u001b[0m \u001b[39m# Collect newly grown trees\u001b[39;00m\n\u001b[1;32m    494\u001b[0m \u001b[39mself\u001b[39m\u001b[39m.\u001b[39mestimators_\u001b[39m.\u001b[39mextend(trees)\n",
            "File \u001b[0;32m~/anaconda3/envs/venv/lib/python3.8/site-packages/sklearn/utils/parallel.py:63\u001b[0m, in \u001b[0;36mParallel.__call__\u001b[0;34m(self, iterable)\u001b[0m\n\u001b[1;32m     58\u001b[0m config \u001b[39m=\u001b[39m get_config()\n\u001b[1;32m     59\u001b[0m iterable_with_config \u001b[39m=\u001b[39m (\n\u001b[1;32m     60\u001b[0m     (_with_config(delayed_func, config), args, kwargs)\n\u001b[1;32m     61\u001b[0m     \u001b[39mfor\u001b[39;00m delayed_func, args, kwargs \u001b[39min\u001b[39;00m iterable\n\u001b[1;32m     62\u001b[0m )\n\u001b[0;32m---> 63\u001b[0m \u001b[39mreturn\u001b[39;00m \u001b[39msuper\u001b[39;49m()\u001b[39m.\u001b[39;49m\u001b[39m__call__\u001b[39;49m(iterable_with_config)\n",
            "File \u001b[0;32m~/anaconda3/envs/venv/lib/python3.8/site-packages/joblib/parallel.py:1088\u001b[0m, in \u001b[0;36mParallel.__call__\u001b[0;34m(self, iterable)\u001b[0m\n\u001b[1;32m   1085\u001b[0m \u001b[39mif\u001b[39;00m \u001b[39mself\u001b[39m\u001b[39m.\u001b[39mdispatch_one_batch(iterator):\n\u001b[1;32m   1086\u001b[0m     \u001b[39mself\u001b[39m\u001b[39m.\u001b[39m_iterating \u001b[39m=\u001b[39m \u001b[39mself\u001b[39m\u001b[39m.\u001b[39m_original_iterator \u001b[39mis\u001b[39;00m \u001b[39mnot\u001b[39;00m \u001b[39mNone\u001b[39;00m\n\u001b[0;32m-> 1088\u001b[0m \u001b[39mwhile\u001b[39;00m \u001b[39mself\u001b[39;49m\u001b[39m.\u001b[39;49mdispatch_one_batch(iterator):\n\u001b[1;32m   1089\u001b[0m     \u001b[39mpass\u001b[39;00m\n\u001b[1;32m   1091\u001b[0m \u001b[39mif\u001b[39;00m pre_dispatch \u001b[39m==\u001b[39m \u001b[39m\"\u001b[39m\u001b[39mall\u001b[39m\u001b[39m\"\u001b[39m \u001b[39mor\u001b[39;00m n_jobs \u001b[39m==\u001b[39m \u001b[39m1\u001b[39m:\n\u001b[1;32m   1092\u001b[0m     \u001b[39m# The iterable was consumed all at once by the above for loop.\u001b[39;00m\n\u001b[1;32m   1093\u001b[0m     \u001b[39m# No need to wait for async callbacks to trigger to\u001b[39;00m\n\u001b[1;32m   1094\u001b[0m     \u001b[39m# consumption.\u001b[39;00m\n",
            "File \u001b[0;32m~/anaconda3/envs/venv/lib/python3.8/site-packages/joblib/parallel.py:901\u001b[0m, in \u001b[0;36mParallel.dispatch_one_batch\u001b[0;34m(self, iterator)\u001b[0m\n\u001b[1;32m    899\u001b[0m     \u001b[39mreturn\u001b[39;00m \u001b[39mFalse\u001b[39;00m\n\u001b[1;32m    900\u001b[0m \u001b[39melse\u001b[39;00m:\n\u001b[0;32m--> 901\u001b[0m     \u001b[39mself\u001b[39;49m\u001b[39m.\u001b[39;49m_dispatch(tasks)\n\u001b[1;32m    902\u001b[0m     \u001b[39mreturn\u001b[39;00m \u001b[39mTrue\u001b[39;00m\n",
            "File \u001b[0;32m~/anaconda3/envs/venv/lib/python3.8/site-packages/joblib/parallel.py:819\u001b[0m, in \u001b[0;36mParallel._dispatch\u001b[0;34m(self, batch)\u001b[0m\n\u001b[1;32m    817\u001b[0m \u001b[39mwith\u001b[39;00m \u001b[39mself\u001b[39m\u001b[39m.\u001b[39m_lock:\n\u001b[1;32m    818\u001b[0m     job_idx \u001b[39m=\u001b[39m \u001b[39mlen\u001b[39m(\u001b[39mself\u001b[39m\u001b[39m.\u001b[39m_jobs)\n\u001b[0;32m--> 819\u001b[0m     job \u001b[39m=\u001b[39m \u001b[39mself\u001b[39;49m\u001b[39m.\u001b[39;49m_backend\u001b[39m.\u001b[39;49mapply_async(batch, callback\u001b[39m=\u001b[39;49mcb)\n\u001b[1;32m    820\u001b[0m     \u001b[39m# A job can complete so quickly than its callback is\u001b[39;00m\n\u001b[1;32m    821\u001b[0m     \u001b[39m# called before we get here, causing self._jobs to\u001b[39;00m\n\u001b[1;32m    822\u001b[0m     \u001b[39m# grow. To ensure correct results ordering, .insert is\u001b[39;00m\n\u001b[1;32m    823\u001b[0m     \u001b[39m# used (rather than .append) in the following line\u001b[39;00m\n\u001b[1;32m    824\u001b[0m     \u001b[39mself\u001b[39m\u001b[39m.\u001b[39m_jobs\u001b[39m.\u001b[39minsert(job_idx, job)\n",
            "File \u001b[0;32m~/anaconda3/envs/venv/lib/python3.8/site-packages/joblib/_parallel_backends.py:208\u001b[0m, in \u001b[0;36mSequentialBackend.apply_async\u001b[0;34m(self, func, callback)\u001b[0m\n\u001b[1;32m    206\u001b[0m \u001b[39mdef\u001b[39;00m \u001b[39mapply_async\u001b[39m(\u001b[39mself\u001b[39m, func, callback\u001b[39m=\u001b[39m\u001b[39mNone\u001b[39;00m):\n\u001b[1;32m    207\u001b[0m \u001b[39m    \u001b[39m\u001b[39m\"\"\"Schedule a func to be run\"\"\"\u001b[39;00m\n\u001b[0;32m--> 208\u001b[0m     result \u001b[39m=\u001b[39m ImmediateResult(func)\n\u001b[1;32m    209\u001b[0m     \u001b[39mif\u001b[39;00m callback:\n\u001b[1;32m    210\u001b[0m         callback(result)\n",
            "File \u001b[0;32m~/anaconda3/envs/venv/lib/python3.8/site-packages/joblib/_parallel_backends.py:597\u001b[0m, in \u001b[0;36mImmediateResult.__init__\u001b[0;34m(self, batch)\u001b[0m\n\u001b[1;32m    594\u001b[0m \u001b[39mdef\u001b[39;00m \u001b[39m__init__\u001b[39m(\u001b[39mself\u001b[39m, batch):\n\u001b[1;32m    595\u001b[0m     \u001b[39m# Don't delay the application, to avoid keeping the input\u001b[39;00m\n\u001b[1;32m    596\u001b[0m     \u001b[39m# arguments in memory\u001b[39;00m\n\u001b[0;32m--> 597\u001b[0m     \u001b[39mself\u001b[39m\u001b[39m.\u001b[39mresults \u001b[39m=\u001b[39m batch()\n",
            "File \u001b[0;32m~/anaconda3/envs/venv/lib/python3.8/site-packages/joblib/parallel.py:288\u001b[0m, in \u001b[0;36mBatchedCalls.__call__\u001b[0;34m(self)\u001b[0m\n\u001b[1;32m    284\u001b[0m \u001b[39mdef\u001b[39;00m \u001b[39m__call__\u001b[39m(\u001b[39mself\u001b[39m):\n\u001b[1;32m    285\u001b[0m     \u001b[39m# Set the default nested backend to self._backend but do not set the\u001b[39;00m\n\u001b[1;32m    286\u001b[0m     \u001b[39m# change the default number of processes to -1\u001b[39;00m\n\u001b[1;32m    287\u001b[0m     \u001b[39mwith\u001b[39;00m parallel_backend(\u001b[39mself\u001b[39m\u001b[39m.\u001b[39m_backend, n_jobs\u001b[39m=\u001b[39m\u001b[39mself\u001b[39m\u001b[39m.\u001b[39m_n_jobs):\n\u001b[0;32m--> 288\u001b[0m         \u001b[39mreturn\u001b[39;00m [func(\u001b[39m*\u001b[39margs, \u001b[39m*\u001b[39m\u001b[39m*\u001b[39mkwargs)\n\u001b[1;32m    289\u001b[0m                 \u001b[39mfor\u001b[39;00m func, args, kwargs \u001b[39min\u001b[39;00m \u001b[39mself\u001b[39m\u001b[39m.\u001b[39mitems]\n",
            "File \u001b[0;32m~/anaconda3/envs/venv/lib/python3.8/site-packages/joblib/parallel.py:288\u001b[0m, in \u001b[0;36m<listcomp>\u001b[0;34m(.0)\u001b[0m\n\u001b[1;32m    284\u001b[0m \u001b[39mdef\u001b[39;00m \u001b[39m__call__\u001b[39m(\u001b[39mself\u001b[39m):\n\u001b[1;32m    285\u001b[0m     \u001b[39m# Set the default nested backend to self._backend but do not set the\u001b[39;00m\n\u001b[1;32m    286\u001b[0m     \u001b[39m# change the default number of processes to -1\u001b[39;00m\n\u001b[1;32m    287\u001b[0m     \u001b[39mwith\u001b[39;00m parallel_backend(\u001b[39mself\u001b[39m\u001b[39m.\u001b[39m_backend, n_jobs\u001b[39m=\u001b[39m\u001b[39mself\u001b[39m\u001b[39m.\u001b[39m_n_jobs):\n\u001b[0;32m--> 288\u001b[0m         \u001b[39mreturn\u001b[39;00m [func(\u001b[39m*\u001b[39;49margs, \u001b[39m*\u001b[39;49m\u001b[39m*\u001b[39;49mkwargs)\n\u001b[1;32m    289\u001b[0m                 \u001b[39mfor\u001b[39;00m func, args, kwargs \u001b[39min\u001b[39;00m \u001b[39mself\u001b[39m\u001b[39m.\u001b[39mitems]\n",
            "File \u001b[0;32m~/anaconda3/envs/venv/lib/python3.8/site-packages/sklearn/utils/parallel.py:123\u001b[0m, in \u001b[0;36m_FuncWrapper.__call__\u001b[0;34m(self, *args, **kwargs)\u001b[0m\n\u001b[1;32m    121\u001b[0m     config \u001b[39m=\u001b[39m {}\n\u001b[1;32m    122\u001b[0m \u001b[39mwith\u001b[39;00m config_context(\u001b[39m*\u001b[39m\u001b[39m*\u001b[39mconfig):\n\u001b[0;32m--> 123\u001b[0m     \u001b[39mreturn\u001b[39;00m \u001b[39mself\u001b[39;49m\u001b[39m.\u001b[39;49mfunction(\u001b[39m*\u001b[39;49margs, \u001b[39m*\u001b[39;49m\u001b[39m*\u001b[39;49mkwargs)\n",
            "File \u001b[0;32m~/anaconda3/envs/venv/lib/python3.8/site-packages/sklearn/ensemble/_forest.py:184\u001b[0m, in \u001b[0;36m_parallel_build_trees\u001b[0;34m(tree, bootstrap, X, y, sample_weight, tree_idx, n_trees, verbose, class_weight, n_samples_bootstrap)\u001b[0m\n\u001b[1;32m    181\u001b[0m     \u001b[39melif\u001b[39;00m class_weight \u001b[39m==\u001b[39m \u001b[39m\"\u001b[39m\u001b[39mbalanced_subsample\u001b[39m\u001b[39m\"\u001b[39m:\n\u001b[1;32m    182\u001b[0m         curr_sample_weight \u001b[39m*\u001b[39m\u001b[39m=\u001b[39m compute_sample_weight(\u001b[39m\"\u001b[39m\u001b[39mbalanced\u001b[39m\u001b[39m\"\u001b[39m, y, indices\u001b[39m=\u001b[39mindices)\n\u001b[0;32m--> 184\u001b[0m     tree\u001b[39m.\u001b[39;49mfit(X, y, sample_weight\u001b[39m=\u001b[39;49mcurr_sample_weight, check_input\u001b[39m=\u001b[39;49m\u001b[39mFalse\u001b[39;49;00m)\n\u001b[1;32m    185\u001b[0m \u001b[39melse\u001b[39;00m:\n\u001b[1;32m    186\u001b[0m     tree\u001b[39m.\u001b[39mfit(X, y, sample_weight\u001b[39m=\u001b[39msample_weight, check_input\u001b[39m=\u001b[39m\u001b[39mFalse\u001b[39;00m)\n",
            "File \u001b[0;32m~/anaconda3/envs/venv/lib/python3.8/site-packages/sklearn/tree/_classes.py:1247\u001b[0m, in \u001b[0;36mDecisionTreeRegressor.fit\u001b[0;34m(self, X, y, sample_weight, check_input)\u001b[0m\n\u001b[1;32m   1218\u001b[0m \u001b[39mdef\u001b[39;00m \u001b[39mfit\u001b[39m(\u001b[39mself\u001b[39m, X, y, sample_weight\u001b[39m=\u001b[39m\u001b[39mNone\u001b[39;00m, check_input\u001b[39m=\u001b[39m\u001b[39mTrue\u001b[39;00m):\n\u001b[1;32m   1219\u001b[0m \u001b[39m    \u001b[39m\u001b[39m\"\"\"Build a decision tree regressor from the training set (X, y).\u001b[39;00m\n\u001b[1;32m   1220\u001b[0m \n\u001b[1;32m   1221\u001b[0m \u001b[39m    Parameters\u001b[39;00m\n\u001b[0;32m   (...)\u001b[0m\n\u001b[1;32m   1244\u001b[0m \u001b[39m        Fitted estimator.\u001b[39;00m\n\u001b[1;32m   1245\u001b[0m \u001b[39m    \"\"\"\u001b[39;00m\n\u001b[0;32m-> 1247\u001b[0m     \u001b[39msuper\u001b[39;49m()\u001b[39m.\u001b[39;49mfit(\n\u001b[1;32m   1248\u001b[0m         X,\n\u001b[1;32m   1249\u001b[0m         y,\n\u001b[1;32m   1250\u001b[0m         sample_weight\u001b[39m=\u001b[39;49msample_weight,\n\u001b[1;32m   1251\u001b[0m         check_input\u001b[39m=\u001b[39;49mcheck_input,\n\u001b[1;32m   1252\u001b[0m     )\n\u001b[1;32m   1253\u001b[0m     \u001b[39mreturn\u001b[39;00m \u001b[39mself\u001b[39m\n",
            "File \u001b[0;32m~/anaconda3/envs/venv/lib/python3.8/site-packages/sklearn/tree/_classes.py:379\u001b[0m, in \u001b[0;36mBaseDecisionTree.fit\u001b[0;34m(self, X, y, sample_weight, check_input)\u001b[0m\n\u001b[1;32m    368\u001b[0m \u001b[39melse\u001b[39;00m:\n\u001b[1;32m    369\u001b[0m     builder \u001b[39m=\u001b[39m BestFirstTreeBuilder(\n\u001b[1;32m    370\u001b[0m         splitter,\n\u001b[1;32m    371\u001b[0m         min_samples_split,\n\u001b[0;32m   (...)\u001b[0m\n\u001b[1;32m    376\u001b[0m         \u001b[39mself\u001b[39m\u001b[39m.\u001b[39mmin_impurity_decrease,\n\u001b[1;32m    377\u001b[0m     )\n\u001b[0;32m--> 379\u001b[0m builder\u001b[39m.\u001b[39;49mbuild(\u001b[39mself\u001b[39;49m\u001b[39m.\u001b[39;49mtree_, X, y, sample_weight)\n\u001b[1;32m    381\u001b[0m \u001b[39mif\u001b[39;00m \u001b[39mself\u001b[39m\u001b[39m.\u001b[39mn_outputs_ \u001b[39m==\u001b[39m \u001b[39m1\u001b[39m \u001b[39mand\u001b[39;00m is_classifier(\u001b[39mself\u001b[39m):\n\u001b[1;32m    382\u001b[0m     \u001b[39mself\u001b[39m\u001b[39m.\u001b[39mn_classes_ \u001b[39m=\u001b[39m \u001b[39mself\u001b[39m\u001b[39m.\u001b[39mn_classes_[\u001b[39m0\u001b[39m]\n",
            "\u001b[0;31mKeyboardInterrupt\u001b[0m: "
          ]
        }
      ],
      "source": [
        "multiouput_df = series_to_supervised(stock_price_df[[f\"Diff{col}\" for col in column_names]], n_days_lag, n_observe_days)\n",
        "n_obs = n_days_lag * n_features\n",
        "\n",
        "values = multiouput_df.values\n",
        "n_train_days = int(len(multiouput_df.index) * 0.9)\n",
        "train_m = values[:n_train_days, :]\n",
        "test_m = values[n_train_days:n_train_days+n_observe_days, :]\n",
        "train_X_m, train_y_m = train_m[:, :n_obs], train_m[:, n_obs:]\n",
        "test_X_m, test_y_m = test_m[:, :n_obs], test_m[:, n_obs:]\n",
        "multioutput_RFRoost_model = RandomForestRegressor()\n",
        "multioutput_RFRoost_model.fit(train_X_m, train_y_m)\n",
        "multioutput_RFRoost_model.score(train_X_m, train_y_m)"
      ]
    },
    {
      "cell_type": "code",
      "execution_count": null,
      "metadata": {},
      "outputs": [
        {
          "data": {
            "text/html": [
              "<div>\n",
              "<style scoped>\n",
              "    .dataframe tbody tr th:only-of-type {\n",
              "        vertical-align: middle;\n",
              "    }\n",
              "\n",
              "    .dataframe tbody tr th {\n",
              "        vertical-align: top;\n",
              "    }\n",
              "\n",
              "    .dataframe thead th {\n",
              "        text-align: right;\n",
              "    }\n",
              "</style>\n",
              "<table border=\"1\" class=\"dataframe\">\n",
              "  <thead>\n",
              "    <tr style=\"text-align: right;\">\n",
              "      <th></th>\n",
              "      <th>BID(t-10)</th>\n",
              "      <th>BVH(t-10)</th>\n",
              "      <th>CTG(t-10)</th>\n",
              "      <th>FPT(t-10)</th>\n",
              "      <th>GAS(t-10)</th>\n",
              "      <th>HPG(t-10)</th>\n",
              "      <th>KDH(t-10)</th>\n",
              "      <th>MBB(t-10)</th>\n",
              "      <th>MSN(t-10)</th>\n",
              "      <th>MWG(t-10)</th>\n",
              "      <th>...</th>\n",
              "      <th>PNJ(t+4)</th>\n",
              "      <th>REE(t+4)</th>\n",
              "      <th>SBT(t+4)</th>\n",
              "      <th>SSI(t+4)</th>\n",
              "      <th>STB(t+4)</th>\n",
              "      <th>TCH(t+4)</th>\n",
              "      <th>VCB(t+4)</th>\n",
              "      <th>VIC(t+4)</th>\n",
              "      <th>VNM(t+4)</th>\n",
              "      <th>VN30(t+4)</th>\n",
              "    </tr>\n",
              "  </thead>\n",
              "  <tbody>\n",
              "    <tr>\n",
              "      <th>2017-01-17</th>\n",
              "      <td>704.5</td>\n",
              "      <td>1100.0</td>\n",
              "      <td>1050.0</td>\n",
              "      <td>306.2</td>\n",
              "      <td>-500.0</td>\n",
              "      <td>133.4</td>\n",
              "      <td>-23.1</td>\n",
              "      <td>-92.0</td>\n",
              "      <td>400.0</td>\n",
              "      <td>83.0</td>\n",
              "      <td>...</td>\n",
              "      <td>0.0</td>\n",
              "      <td>-750.0</td>\n",
              "      <td>-81.7</td>\n",
              "      <td>-72.9</td>\n",
              "      <td>50.0</td>\n",
              "      <td>0.0</td>\n",
              "      <td>75.0</td>\n",
              "      <td>0.0</td>\n",
              "      <td>790.0</td>\n",
              "      <td>1.14</td>\n",
              "    </tr>\n",
              "    <tr>\n",
              "      <th>2017-01-18</th>\n",
              "      <td>222.5</td>\n",
              "      <td>800.0</td>\n",
              "      <td>300.0</td>\n",
              "      <td>144.1</td>\n",
              "      <td>1400.0</td>\n",
              "      <td>0.0</td>\n",
              "      <td>0.0</td>\n",
              "      <td>-55.2</td>\n",
              "      <td>-1267.0</td>\n",
              "      <td>70.0</td>\n",
              "      <td>...</td>\n",
              "      <td>-99.7</td>\n",
              "      <td>500.0</td>\n",
              "      <td>0.0</td>\n",
              "      <td>24.3</td>\n",
              "      <td>300.0</td>\n",
              "      <td>-108.1</td>\n",
              "      <td>371.0</td>\n",
              "      <td>-413.0</td>\n",
              "      <td>0.0</td>\n",
              "      <td>3.90</td>\n",
              "    </tr>\n",
              "    <tr>\n",
              "      <th>2017-01-19</th>\n",
              "      <td>-37.1</td>\n",
              "      <td>1000.0</td>\n",
              "      <td>100.0</td>\n",
              "      <td>-54.0</td>\n",
              "      <td>0.0</td>\n",
              "      <td>15.7</td>\n",
              "      <td>-253.6</td>\n",
              "      <td>-36.8</td>\n",
              "      <td>-266.0</td>\n",
              "      <td>59.0</td>\n",
              "      <td>...</td>\n",
              "      <td>132.9</td>\n",
              "      <td>350.0</td>\n",
              "      <td>-81.8</td>\n",
              "      <td>72.9</td>\n",
              "      <td>350.0</td>\n",
              "      <td>216.2</td>\n",
              "      <td>519.0</td>\n",
              "      <td>413.0</td>\n",
              "      <td>790.0</td>\n",
              "      <td>5.47</td>\n",
              "    </tr>\n",
              "    <tr>\n",
              "      <th>2017-01-20</th>\n",
              "      <td>259.6</td>\n",
              "      <td>300.0</td>\n",
              "      <td>150.0</td>\n",
              "      <td>-54.0</td>\n",
              "      <td>-1100.0</td>\n",
              "      <td>-109.9</td>\n",
              "      <td>138.4</td>\n",
              "      <td>92.0</td>\n",
              "      <td>66.0</td>\n",
              "      <td>0.0</td>\n",
              "      <td>...</td>\n",
              "      <td>498.5</td>\n",
              "      <td>300.0</td>\n",
              "      <td>-245.3</td>\n",
              "      <td>218.6</td>\n",
              "      <td>-150.0</td>\n",
              "      <td>-108.1</td>\n",
              "      <td>111.0</td>\n",
              "      <td>413.0</td>\n",
              "      <td>3159.0</td>\n",
              "      <td>8.19</td>\n",
              "    </tr>\n",
              "    <tr>\n",
              "      <th>2017-01-23</th>\n",
              "      <td>333.7</td>\n",
              "      <td>200.0</td>\n",
              "      <td>450.0</td>\n",
              "      <td>90.0</td>\n",
              "      <td>100.0</td>\n",
              "      <td>-39.2</td>\n",
              "      <td>0.0</td>\n",
              "      <td>-18.4</td>\n",
              "      <td>-400.0</td>\n",
              "      <td>-129.0</td>\n",
              "      <td>...</td>\n",
              "      <td>-133.0</td>\n",
              "      <td>-100.0</td>\n",
              "      <td>0.0</td>\n",
              "      <td>-72.9</td>\n",
              "      <td>0.0</td>\n",
              "      <td>-72.1</td>\n",
              "      <td>-556.0</td>\n",
              "      <td>-413.0</td>\n",
              "      <td>711.0</td>\n",
              "      <td>-1.80</td>\n",
              "    </tr>\n",
              "    <tr>\n",
              "      <th>...</th>\n",
              "      <td>...</td>\n",
              "      <td>...</td>\n",
              "      <td>...</td>\n",
              "      <td>...</td>\n",
              "      <td>...</td>\n",
              "      <td>...</td>\n",
              "      <td>...</td>\n",
              "      <td>...</td>\n",
              "      <td>...</td>\n",
              "      <td>...</td>\n",
              "      <td>...</td>\n",
              "      <td>...</td>\n",
              "      <td>...</td>\n",
              "      <td>...</td>\n",
              "      <td>...</td>\n",
              "      <td>...</td>\n",
              "      <td>...</td>\n",
              "      <td>...</td>\n",
              "      <td>...</td>\n",
              "      <td>...</td>\n",
              "      <td>...</td>\n",
              "    </tr>\n",
              "    <tr>\n",
              "      <th>2022-12-20</th>\n",
              "      <td>-2150.0</td>\n",
              "      <td>-2500.0</td>\n",
              "      <td>-1600.0</td>\n",
              "      <td>-2300.0</td>\n",
              "      <td>-3700.0</td>\n",
              "      <td>-1400.0</td>\n",
              "      <td>-1550.0</td>\n",
              "      <td>-1300.0</td>\n",
              "      <td>-3000.0</td>\n",
              "      <td>-3250.0</td>\n",
              "      <td>...</td>\n",
              "      <td>-450.0</td>\n",
              "      <td>-3600.0</td>\n",
              "      <td>-1000.0</td>\n",
              "      <td>-1250.0</td>\n",
              "      <td>-1600.0</td>\n",
              "      <td>-480.0</td>\n",
              "      <td>-200.0</td>\n",
              "      <td>-2200.0</td>\n",
              "      <td>-200.0</td>\n",
              "      <td>-46.36</td>\n",
              "    </tr>\n",
              "    <tr>\n",
              "      <th>2022-12-21</th>\n",
              "      <td>-100.0</td>\n",
              "      <td>300.0</td>\n",
              "      <td>350.0</td>\n",
              "      <td>500.0</td>\n",
              "      <td>-2700.0</td>\n",
              "      <td>-350.0</td>\n",
              "      <td>350.0</td>\n",
              "      <td>-400.0</td>\n",
              "      <td>-2000.0</td>\n",
              "      <td>500.0</td>\n",
              "      <td>...</td>\n",
              "      <td>0.0</td>\n",
              "      <td>1700.0</td>\n",
              "      <td>100.0</td>\n",
              "      <td>1150.0</td>\n",
              "      <td>600.0</td>\n",
              "      <td>420.0</td>\n",
              "      <td>200.0</td>\n",
              "      <td>500.0</td>\n",
              "      <td>600.0</td>\n",
              "      <td>19.59</td>\n",
              "    </tr>\n",
              "    <tr>\n",
              "      <th>2022-12-22</th>\n",
              "      <td>0.0</td>\n",
              "      <td>200.0</td>\n",
              "      <td>450.0</td>\n",
              "      <td>500.0</td>\n",
              "      <td>-800.0</td>\n",
              "      <td>650.0</td>\n",
              "      <td>400.0</td>\n",
              "      <td>800.0</td>\n",
              "      <td>-4000.0</td>\n",
              "      <td>1150.0</td>\n",
              "      <td>...</td>\n",
              "      <td>1500.0</td>\n",
              "      <td>-200.0</td>\n",
              "      <td>450.0</td>\n",
              "      <td>-50.0</td>\n",
              "      <td>400.0</td>\n",
              "      <td>0.0</td>\n",
              "      <td>900.0</td>\n",
              "      <td>100.0</td>\n",
              "      <td>400.0</td>\n",
              "      <td>6.59</td>\n",
              "    </tr>\n",
              "    <tr>\n",
              "      <th>2022-12-23</th>\n",
              "      <td>200.0</td>\n",
              "      <td>-600.0</td>\n",
              "      <td>250.0</td>\n",
              "      <td>1000.0</td>\n",
              "      <td>0.0</td>\n",
              "      <td>300.0</td>\n",
              "      <td>-250.0</td>\n",
              "      <td>100.0</td>\n",
              "      <td>1000.0</td>\n",
              "      <td>200.0</td>\n",
              "      <td>...</td>\n",
              "      <td>3500.0</td>\n",
              "      <td>0.0</td>\n",
              "      <td>200.0</td>\n",
              "      <td>-550.0</td>\n",
              "      <td>-550.0</td>\n",
              "      <td>-40.0</td>\n",
              "      <td>700.0</td>\n",
              "      <td>100.0</td>\n",
              "      <td>0.0</td>\n",
              "      <td>-5.65</td>\n",
              "    </tr>\n",
              "    <tr>\n",
              "      <th>2022-12-26</th>\n",
              "      <td>-1100.0</td>\n",
              "      <td>600.0</td>\n",
              "      <td>-600.0</td>\n",
              "      <td>-1000.0</td>\n",
              "      <td>-1000.0</td>\n",
              "      <td>-600.0</td>\n",
              "      <td>-2100.0</td>\n",
              "      <td>-500.0</td>\n",
              "      <td>0.0</td>\n",
              "      <td>-300.0</td>\n",
              "      <td>...</td>\n",
              "      <td>3900.0</td>\n",
              "      <td>-300.0</td>\n",
              "      <td>0.0</td>\n",
              "      <td>100.0</td>\n",
              "      <td>150.0</td>\n",
              "      <td>-70.0</td>\n",
              "      <td>-700.0</td>\n",
              "      <td>200.0</td>\n",
              "      <td>-900.0</td>\n",
              "      <td>-3.11</td>\n",
              "    </tr>\n",
              "  </tbody>\n",
              "</table>\n",
              "<p>1485 rows × 330 columns</p>\n",
              "</div>"
            ],
            "text/plain": [
              "            BID(t-10)  BVH(t-10)  CTG(t-10)  FPT(t-10)  GAS(t-10)  HPG(t-10)  \\\n",
              "2017-01-17      704.5     1100.0     1050.0      306.2     -500.0      133.4   \n",
              "2017-01-18      222.5      800.0      300.0      144.1     1400.0        0.0   \n",
              "2017-01-19      -37.1     1000.0      100.0      -54.0        0.0       15.7   \n",
              "2017-01-20      259.6      300.0      150.0      -54.0    -1100.0     -109.9   \n",
              "2017-01-23      333.7      200.0      450.0       90.0      100.0      -39.2   \n",
              "...               ...        ...        ...        ...        ...        ...   \n",
              "2022-12-20    -2150.0    -2500.0    -1600.0    -2300.0    -3700.0    -1400.0   \n",
              "2022-12-21     -100.0      300.0      350.0      500.0    -2700.0     -350.0   \n",
              "2022-12-22        0.0      200.0      450.0      500.0     -800.0      650.0   \n",
              "2022-12-23      200.0     -600.0      250.0     1000.0        0.0      300.0   \n",
              "2022-12-26    -1100.0      600.0     -600.0    -1000.0    -1000.0     -600.0   \n",
              "\n",
              "            KDH(t-10)  MBB(t-10)  MSN(t-10)  MWG(t-10)  ...  PNJ(t+4)  \\\n",
              "2017-01-17      -23.1      -92.0      400.0       83.0  ...       0.0   \n",
              "2017-01-18        0.0      -55.2    -1267.0       70.0  ...     -99.7   \n",
              "2017-01-19     -253.6      -36.8     -266.0       59.0  ...     132.9   \n",
              "2017-01-20      138.4       92.0       66.0        0.0  ...     498.5   \n",
              "2017-01-23        0.0      -18.4     -400.0     -129.0  ...    -133.0   \n",
              "...               ...        ...        ...        ...  ...       ...   \n",
              "2022-12-20    -1550.0    -1300.0    -3000.0    -3250.0  ...    -450.0   \n",
              "2022-12-21      350.0     -400.0    -2000.0      500.0  ...       0.0   \n",
              "2022-12-22      400.0      800.0    -4000.0     1150.0  ...    1500.0   \n",
              "2022-12-23     -250.0      100.0     1000.0      200.0  ...    3500.0   \n",
              "2022-12-26    -2100.0     -500.0        0.0     -300.0  ...    3900.0   \n",
              "\n",
              "            REE(t+4)  SBT(t+4)  SSI(t+4)  STB(t+4)  TCH(t+4)  VCB(t+4)  \\\n",
              "2017-01-17    -750.0     -81.7     -72.9      50.0       0.0      75.0   \n",
              "2017-01-18     500.0       0.0      24.3     300.0    -108.1     371.0   \n",
              "2017-01-19     350.0     -81.8      72.9     350.0     216.2     519.0   \n",
              "2017-01-20     300.0    -245.3     218.6    -150.0    -108.1     111.0   \n",
              "2017-01-23    -100.0       0.0     -72.9       0.0     -72.1    -556.0   \n",
              "...              ...       ...       ...       ...       ...       ...   \n",
              "2022-12-20   -3600.0   -1000.0   -1250.0   -1600.0    -480.0    -200.0   \n",
              "2022-12-21    1700.0     100.0    1150.0     600.0     420.0     200.0   \n",
              "2022-12-22    -200.0     450.0     -50.0     400.0       0.0     900.0   \n",
              "2022-12-23       0.0     200.0    -550.0    -550.0     -40.0     700.0   \n",
              "2022-12-26    -300.0       0.0     100.0     150.0     -70.0    -700.0   \n",
              "\n",
              "            VIC(t+4)  VNM(t+4)  VN30(t+4)  \n",
              "2017-01-17       0.0     790.0       1.14  \n",
              "2017-01-18    -413.0       0.0       3.90  \n",
              "2017-01-19     413.0     790.0       5.47  \n",
              "2017-01-20     413.0    3159.0       8.19  \n",
              "2017-01-23    -413.0     711.0      -1.80  \n",
              "...              ...       ...        ...  \n",
              "2022-12-20   -2200.0    -200.0     -46.36  \n",
              "2022-12-21     500.0     600.0      19.59  \n",
              "2022-12-22     100.0     400.0       6.59  \n",
              "2022-12-23     100.0       0.0      -5.65  \n",
              "2022-12-26     200.0    -900.0      -3.11  \n",
              "\n",
              "[1485 rows x 330 columns]"
            ]
          },
          "execution_count": 25,
          "metadata": {},
          "output_type": "execute_result"
        }
      ],
      "source": [
        "multiouput_df"
      ]
    },
    {
      "cell_type": "code",
      "execution_count": null,
      "metadata": {},
      "outputs": [
        {
          "data": {
            "text/plain": [
              "-1.4414413114854574"
            ]
          },
          "execution_count": 26,
          "metadata": {},
          "output_type": "execute_result"
        }
      ],
      "source": [
        "multioutput_RFRoost_model.score(test_X_m, test_y_m)"
      ]
    },
    {
      "cell_type": "code",
      "execution_count": null,
      "metadata": {},
      "outputs": [
        {
          "data": {
            "text/plain": [
              "(1, 220)"
            ]
          },
          "execution_count": 27,
          "metadata": {},
          "output_type": "execute_result"
        }
      ],
      "source": [
        "test_X_m[[0]].shape"
      ]
    },
    {
      "cell_type": "code",
      "execution_count": null,
      "metadata": {},
      "outputs": [
        {
          "data": {
            "text/plain": [
              "-476.278"
            ]
          },
          "execution_count": 28,
          "metadata": {},
          "output_type": "execute_result"
        }
      ],
      "source": [
        "multioutput_RFRoost_model.predict(test_X_m[[0]])[0,5]"
      ]
    },
    {
      "cell_type": "code",
      "execution_count": null,
      "metadata": {},
      "outputs": [],
      "source": [
        "multiouput_predict = multioutput_RFRoost_model.predict(test_X_m[[0]])\n",
        "for i, col in enumerate(column_names):\n",
        "    last_train = stock_price_df.iloc[n_train_days+n_days_lag][col]\n",
        "    stock_price_df.loc[multistep_idx, f'{col}-RFR_multioutput'] = last_train + np.cumsum([multiouput_predict[0, t*n_features+i] for t in range(n_observe_days)])"
      ]
    },
    {
      "cell_type": "code",
      "execution_count": null,
      "metadata": {},
      "outputs": [
        {
          "data": {
            "text/plain": [
              "<Axes: >"
            ]
          },
          "execution_count": 30,
          "metadata": {},
          "output_type": "execute_result"
        },
        {
          "data": {
            "image/png": "[encoded data removed]",
            "text/plain": [
              "<Figure size 1500x500 with 1 Axes>"
            ]
          },
          "metadata": {},
          "output_type": "display_data"
        }
      ],
      "source": [
        "stock_price_df[multistep_idx][['VN30', 'VN30-RFR_multistep', 'VN30-RFR_multioutput', 'VN30-RFR_1_step_test']].plot(figsize=(15,5))"
      ]
    },
    {
      "cell_type": "code",
      "execution_count": null,
      "metadata": {},
      "outputs": [],
      "source": [
        "def forecast_accuracy(forecast, actual):\n",
        "    mape = np.mean(np.abs(forecast - actual)/np.abs(actual))  # MAPE\n",
        "    me = np.mean(forecast - actual)             # ME\n",
        "    mae = np.mean(np.abs(forecast - actual))    # MAE\n",
        "    mpe = np.mean((forecast - actual)/actual)   # MPE\n",
        "    rmse = np.mean((forecast - actual)**2)**.5  # RMSE\n",
        "    corr = np.corrcoef(forecast, actual)[0,1]   # corr\n",
        "    mins = np.amin(np.hstack([forecast[:,None], \n",
        "                              actual[:,None]]), axis=1)\n",
        "    maxs = np.amax(np.hstack([forecast[:,None], \n",
        "                              actual[:,None]]), axis=1)\n",
        "    minmax = 1 - np.mean(mins/maxs)             # minmax\n",
        "    return({'mape':mape, 'me':me, 'mae': mae, \n",
        "            'mpe': mpe, 'rmse':rmse, 'corr':corr, 'minmax':minmax})\n",
        "def adjust(val, length= 6): return str(val).ljust(length)\n"
      ]
    },
    {
      "cell_type": "code",
      "execution_count": null,
      "metadata": {},
      "outputs": [
        {
          "name": "stdout",
          "output_type": "stream",
          "text": [
            "\n",
            "Forecast Accuracy of Incremental multistep (base on one step ahead): VN30\n",
            "mape   :  0.0229\n",
            "me     :  -34.8453\n",
            "mae    :  34.8453\n",
            "mpe    :  -0.0229\n",
            "rmse   :  38.7753\n",
            "corr   :  0.5736\n",
            "minmax :  0.0229\n",
            "\n",
            "Forecast Accuracy of Multi output model n_step ahead: VN30\n",
            "mape   :  0.1395\n",
            "me     :  -211.6824\n",
            "mae    :  211.6824\n",
            "mpe    :  -0.1395\n",
            "rmse   :  213.4949\n",
            "corr   :  -0.8152\n",
            "minmax :  0.1395\n"
          ]
        }
      ],
      "source": [
        "test = stock_price_df.copy()[['VN30-RFR_multistep', 'VN30-RFR_multioutput', 'VN30']]\n",
        "test.dropna(inplace=True)\n",
        "print('\\nForecast Accuracy of Incremental multistep (base on one step ahead): VN30')\n",
        "accuracy_prod = forecast_accuracy(test['VN30-RFR_multistep'].values, test['VN30'].values)\n",
        "for k, v in accuracy_prod.items():\n",
        "    print(adjust(k), ': ', round(v,4))\n",
        "print('\\nForecast Accuracy of Multi output model n_step ahead: VN30')\n",
        "accuracy_prod = forecast_accuracy(test['VN30-RFR_multioutput'].values, test['VN30'].values)\n",
        "for k, v in accuracy_prod.items():\n",
        "    print(adjust(k), ': ', round(v,4))"
      ]
    },
    {
      "cell_type": "code",
      "execution_count": null,
      "metadata": {},
      "outputs": [
        {
          "name": "stdout",
          "output_type": "stream",
          "text": [
            "mape   :  0.1395\n",
            "me     :  -211.6824\n",
            "mae    :  211.6824\n",
            "mpe    :  -0.1395\n",
            "rmse   :  213.4949\n",
            "corr   :  -0.8152\n",
            "minmax :  0.1395\n"
          ]
        }
      ],
      "source": [
        "accuracy_prod = forecast_accuracy(test['VN30-RFR_multioutput'].values, test['VN30'].values)\n",
        "for k, v in accuracy_prod.items():\n",
        "    print(adjust(k), ': ', round(v,4))"
      ]
    },
    {
      "cell_type": "code",
      "execution_count": null,
      "metadata": {},
      "outputs": [
        {
          "name": "stdout",
          "output_type": "stream",
          "text": [
            "\n",
            "Forecast Accuracy of One-step ahead: VN30\n",
            "mape   :  0.0117\n",
            "me     :  0.3698\n",
            "mae    :  14.6459\n",
            "mpe    :  0.0005\n",
            "rmse   :  20.206\n",
            "corr   :  0.9946\n",
            "minmax :  0.0115\n"
          ]
        }
      ],
      "source": [
        "print('\\nForecast Accuracy of One-step ahead: VN30')\n",
        "test = stock_price_df.copy()[['VN30-RFR_1_step_test', 'VN30']]\n",
        "test.dropna(inplace=True)\n",
        "accuracy_prod = forecast_accuracy(test['VN30-RFR_1_step_test'].values, test['VN30'].values)\n",
        "for k, v in accuracy_prod.items():\n",
        "    print(adjust(k), ': ', round(v,4))"
      ]
    },
    {
      "cell_type": "code",
      "execution_count": null,
      "metadata": {},
      "outputs": [
        {
          "data": {
            "text/plain": [
              "<Axes: >"
            ]
          },
          "execution_count": 35,
          "metadata": {},
          "output_type": "execute_result"
        },
        {
          "data": {
            "image/png": "[encoded data removed]",
            "text/plain": [
              "<Figure size 1500x500 with 1 Axes>"
            ]
          },
          "metadata": {},
          "output_type": "display_data"
        }
      ],
      "source": [
        "test.plot(figsize=(15,5))"
      ]
    }
  ],
  "metadata": {
    "colab": {
      "provenance": []
    },
    "kernelspec": {
      "display_name": ".venv",
      "language": "python",
      "name": "python3"
    },
    "language_info": {
      "codemirror_mode": {
        "name": "ipython",
        "version": 3
      },
      "file_extension": ".py",
      "mimetype": "text/x-python",
      "name": "python",
      "nbconvert_exporter": "python",
      "pygments_lexer": "ipython3",
      "version": "3.8.0"
    },
    "vscode": {
      "interpreter": {
        "hash": "b273ddc9e63a42ceba2cdf86641043f9b32f514c6d31ad06631c60d916be2654"
      }
    }
  },
  "nbformat": 4,
  "nbformat_minor": 0
}
