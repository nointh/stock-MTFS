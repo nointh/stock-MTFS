{
  "cells": [
    {
      "cell_type": "code",
      "execution_count": 103,
      "metadata": {},
      "outputs": [],
      "source": [
        "\n",
        "import numpy as np\n",
        "import pandas as pd\n",
        "from sklearn.preprocessing import MinMaxScaler\n",
        "from keras.models import Sequential\n",
        "from keras.layers import LSTM, Dense\n",
        "import matplotlib.pyplot as plt\n",
        "\n",
        "url = './data/VN30.csv'\n",
        "df = pd.read_csv(url)"
      ]
    },
    {
      "cell_type": "code",
      "execution_count": 104,
      "metadata": {},
      "outputs": [],
      "source": [
        "# Preprocess the data\n",
        "data = df['Price'].values.reshape(-1, 1)\n",
        "scaler = MinMaxScaler(feature_range=(0, 1))\n",
        "data = scaler.fit_transform(data)\n"
      ]
    },
    {
      "cell_type": "code",
      "execution_count": 105,
      "metadata": {},
      "outputs": [],
      "source": [
        "# Create the input and output sequences for the LSTM model\n",
        "def create_sequences(data, seq_length):\n",
        "    x = []\n",
        "    y = []\n",
        "    for i in range(len(data) - seq_length - 1):\n",
        "        x.append(data[i:(i + seq_length), 0])\n",
        "        y.append(data[i + seq_length, 0])\n",
        "    return np.array(x), np.array(y)\n",
        "seq_length = 10\n",
        "x, y = create_sequences(data, seq_length)\n"
      ]
    },
    {
      "cell_type": "code",
      "execution_count": 106,
      "metadata": {},
      "outputs": [],
      "source": [
        "split_idx = int(len(x)*0.8)\n",
        "x_train, x_test = x[:split_idx], x[split_idx:]\n",
        "y_train, y_test = y[:split_idx], y[split_idx:]"
      ]
    },
    {
      "cell_type": "code",
      "execution_count": 107,
      "metadata": {},
      "outputs": [
        {
          "data": {
            "text/plain": [
              "(2624, 10)"
            ]
          },
          "execution_count": 107,
          "metadata": {},
          "output_type": "execute_result"
        }
      ],
      "source": [
        "x.shape"
      ]
    },
    {
      "cell_type": "code",
      "execution_count": 108,
      "metadata": {},
      "outputs": [],
      "source": [
        "x_train = np.reshape(x_train, (x_train.shape[0], x_train.shape[1], 1))\n",
        "x_test = np.reshape(x_test, (x_test.shape[0], x_test.shape[1], 1))\n"
      ]
    },
    {
      "cell_type": "code",
      "execution_count": 109,
      "metadata": {},
      "outputs": [
        {
          "name": "stderr",
          "output_type": "stream",
          "text": [
            "2023-05-02 21:03:33.290893: I tensorflow/core/common_runtime/executor.cc:1197] [/device:CPU:0] (DEBUG INFO) Executor start aborting (this does not indicate an error and you can ignore this message): INVALID_ARGUMENT: You must feed a value for placeholder tensor 'gradients/split_2_grad/concat/split_2/split_dim' with dtype int32\n",
            "\t [[{{node gradients/split_2_grad/concat/split_2/split_dim}}]]\n",
            "2023-05-02 21:03:33.295834: I tensorflow/core/common_runtime/executor.cc:1197] [/device:CPU:0] (DEBUG INFO) Executor start aborting (this does not indicate an error and you can ignore this message): INVALID_ARGUMENT: You must feed a value for placeholder tensor 'gradients/split_grad/concat/split/split_dim' with dtype int32\n",
            "\t [[{{node gradients/split_grad/concat/split/split_dim}}]]\n",
            "2023-05-02 21:03:33.301319: I tensorflow/core/common_runtime/executor.cc:1197] [/device:CPU:0] (DEBUG INFO) Executor start aborting (this does not indicate an error and you can ignore this message): INVALID_ARGUMENT: You must feed a value for placeholder tensor 'gradients/split_1_grad/concat/split_1/split_dim' with dtype int32\n",
            "\t [[{{node gradients/split_1_grad/concat/split_1/split_dim}}]]\n",
            "2023-05-02 21:03:34.185855: I tensorflow/core/common_runtime/executor.cc:1197] [/device:CPU:0] (DEBUG INFO) Executor start aborting (this does not indicate an error and you can ignore this message): INVALID_ARGUMENT: You must feed a value for placeholder tensor 'gradients/split_2_grad/concat/split_2/split_dim' with dtype int32\n",
            "\t [[{{node gradients/split_2_grad/concat/split_2/split_dim}}]]\n",
            "2023-05-02 21:03:34.190019: I tensorflow/core/common_runtime/executor.cc:1197] [/device:CPU:0] (DEBUG INFO) Executor start aborting (this does not indicate an error and you can ignore this message): INVALID_ARGUMENT: You must feed a value for placeholder tensor 'gradients/split_grad/concat/split/split_dim' with dtype int32\n",
            "\t [[{{node gradients/split_grad/concat/split/split_dim}}]]\n",
            "2023-05-02 21:03:34.193407: I tensorflow/core/common_runtime/executor.cc:1197] [/device:CPU:0] (DEBUG INFO) Executor start aborting (this does not indicate an error and you can ignore this message): INVALID_ARGUMENT: You must feed a value for placeholder tensor 'gradients/split_1_grad/concat/split_1/split_dim' with dtype int32\n",
            "\t [[{{node gradients/split_1_grad/concat/split_1/split_dim}}]]\n"
          ]
        },
        {
          "name": "stdout",
          "output_type": "stream",
          "text": [
            "Epoch 1/100\n"
          ]
        },
        {
          "name": "stderr",
          "output_type": "stream",
          "text": [
            "2023-05-02 21:03:34.942877: I tensorflow/core/common_runtime/executor.cc:1197] [/device:CPU:0] (DEBUG INFO) Executor start aborting (this does not indicate an error and you can ignore this message): INVALID_ARGUMENT: You must feed a value for placeholder tensor 'gradients/split_2_grad/concat/split_2/split_dim' with dtype int32\n",
            "\t [[{{node gradients/split_2_grad/concat/split_2/split_dim}}]]\n",
            "2023-05-02 21:03:34.945700: I tensorflow/core/common_runtime/executor.cc:1197] [/device:CPU:0] (DEBUG INFO) Executor start aborting (this does not indicate an error and you can ignore this message): INVALID_ARGUMENT: You must feed a value for placeholder tensor 'gradients/split_grad/concat/split/split_dim' with dtype int32\n",
            "\t [[{{node gradients/split_grad/concat/split/split_dim}}]]\n",
            "2023-05-02 21:03:34.950720: I tensorflow/core/common_runtime/executor.cc:1197] [/device:CPU:0] (DEBUG INFO) Executor start aborting (this does not indicate an error and you can ignore this message): INVALID_ARGUMENT: You must feed a value for placeholder tensor 'gradients/split_1_grad/concat/split_1/split_dim' with dtype int32\n",
            "\t [[{{node gradients/split_1_grad/concat/split_1/split_dim}}]]\n",
            "2023-05-02 21:03:35.773580: I tensorflow/core/common_runtime/executor.cc:1197] [/device:CPU:0] (DEBUG INFO) Executor start aborting (this does not indicate an error and you can ignore this message): INVALID_ARGUMENT: You must feed a value for placeholder tensor 'gradients/split_2_grad/concat/split_2/split_dim' with dtype int32\n",
            "\t [[{{node gradients/split_2_grad/concat/split_2/split_dim}}]]\n",
            "2023-05-02 21:03:35.780947: I tensorflow/core/common_runtime/executor.cc:1197] [/device:CPU:0] (DEBUG INFO) Executor start aborting (this does not indicate an error and you can ignore this message): INVALID_ARGUMENT: You must feed a value for placeholder tensor 'gradients/split_grad/concat/split/split_dim' with dtype int32\n",
            "\t [[{{node gradients/split_grad/concat/split/split_dim}}]]\n",
            "2023-05-02 21:03:35.785909: I tensorflow/core/common_runtime/executor.cc:1197] [/device:CPU:0] (DEBUG INFO) Executor start aborting (this does not indicate an error and you can ignore this message): INVALID_ARGUMENT: You must feed a value for placeholder tensor 'gradients/split_1_grad/concat/split_1/split_dim' with dtype int32\n",
            "\t [[{{node gradients/split_1_grad/concat/split_1/split_dim}}]]\n",
            "2023-05-02 21:03:39.447710: I tensorflow/core/common_runtime/executor.cc:1197] [/device:CPU:0] (DEBUG INFO) Executor start aborting (this does not indicate an error and you can ignore this message): INVALID_ARGUMENT: You must feed a value for placeholder tensor 'gradients/split_2_grad/concat/split_2/split_dim' with dtype int32\n",
            "\t [[{{node gradients/split_2_grad/concat/split_2/split_dim}}]]\n",
            "2023-05-02 21:03:39.461456: I tensorflow/core/common_runtime/executor.cc:1197] [/device:CPU:0] (DEBUG INFO) Executor start aborting (this does not indicate an error and you can ignore this message): INVALID_ARGUMENT: You must feed a value for placeholder tensor 'gradients/split_grad/concat/split/split_dim' with dtype int32\n",
            "\t [[{{node gradients/split_grad/concat/split/split_dim}}]]\n",
            "2023-05-02 21:03:39.467065: I tensorflow/core/common_runtime/executor.cc:1197] [/device:CPU:0] (DEBUG INFO) Executor start aborting (this does not indicate an error and you can ignore this message): INVALID_ARGUMENT: You must feed a value for placeholder tensor 'gradients/split_1_grad/concat/split_1/split_dim' with dtype int32\n",
            "\t [[{{node gradients/split_1_grad/concat/split_1/split_dim}}]]\n",
            "2023-05-02 21:03:40.529929: I tensorflow/core/common_runtime/executor.cc:1197] [/device:CPU:0] (DEBUG INFO) Executor start aborting (this does not indicate an error and you can ignore this message): INVALID_ARGUMENT: You must feed a value for placeholder tensor 'gradients/split_2_grad/concat/split_2/split_dim' with dtype int32\n",
            "\t [[{{node gradients/split_2_grad/concat/split_2/split_dim}}]]\n",
            "2023-05-02 21:03:40.537349: I tensorflow/core/common_runtime/executor.cc:1197] [/device:CPU:0] (DEBUG INFO) Executor start aborting (this does not indicate an error and you can ignore this message): INVALID_ARGUMENT: You must feed a value for placeholder tensor 'gradients/split_grad/concat/split/split_dim' with dtype int32\n",
            "\t [[{{node gradients/split_grad/concat/split/split_dim}}]]\n",
            "2023-05-02 21:03:40.542527: I tensorflow/core/common_runtime/executor.cc:1197] [/device:CPU:0] (DEBUG INFO) Executor start aborting (this does not indicate an error and you can ignore this message): INVALID_ARGUMENT: You must feed a value for placeholder tensor 'gradients/split_1_grad/concat/split_1/split_dim' with dtype int32\n",
            "\t [[{{node gradients/split_1_grad/concat/split_1/split_dim}}]]\n"
          ]
        },
        {
          "name": "stdout",
          "output_type": "stream",
          "text": [
            "66/66 [==============================] - 12s 23ms/step - loss: 0.0081\n",
            "Epoch 2/100\n",
            "66/66 [==============================] - 2s 30ms/step - loss: 3.3634e-04\n",
            "Epoch 3/100\n",
            "66/66 [==============================] - 2s 30ms/step - loss: 3.2921e-04\n",
            "Epoch 4/100\n",
            "66/66 [==============================] - 2s 23ms/step - loss: 3.0896e-04\n",
            "Epoch 5/100\n",
            "66/66 [==============================] - 2s 26ms/step - loss: 3.2568e-04\n",
            "Epoch 6/100\n",
            "66/66 [==============================] - 2s 25ms/step - loss: 3.0845e-04\n",
            "Epoch 7/100\n",
            "66/66 [==============================] - 2s 35ms/step - loss: 2.9294e-04\n",
            "Epoch 8/100\n",
            "66/66 [==============================] - 1s 21ms/step - loss: 3.0583e-04\n",
            "Epoch 9/100\n",
            "66/66 [==============================] - 2s 25ms/step - loss: 2.8517e-04\n",
            "Epoch 10/100\n",
            "66/66 [==============================] - 3s 38ms/step - loss: 2.7054e-04\n",
            "Epoch 11/100\n",
            "66/66 [==============================] - 2s 27ms/step - loss: 2.8745e-04\n",
            "Epoch 12/100\n",
            "66/66 [==============================] - 2s 32ms/step - loss: 2.6355e-04\n",
            "Epoch 13/100\n",
            "66/66 [==============================] - 1s 22ms/step - loss: 2.6753e-04\n",
            "Epoch 14/100\n",
            "66/66 [==============================] - 1s 14ms/step - loss: 2.6741e-04\n",
            "Epoch 15/100\n",
            "66/66 [==============================] - 1s 19ms/step - loss: 2.4552e-04\n",
            "Epoch 16/100\n",
            "66/66 [==============================] - 1s 22ms/step - loss: 2.5000e-04\n",
            "Epoch 17/100\n",
            "66/66 [==============================] - 2s 29ms/step - loss: 2.3482e-04\n",
            "Epoch 18/100\n",
            "66/66 [==============================] - 2s 24ms/step - loss: 2.2683e-04\n",
            "Epoch 19/100\n",
            "66/66 [==============================] - 1s 22ms/step - loss: 2.2223e-04\n",
            "Epoch 20/100\n",
            "66/66 [==============================] - 2s 31ms/step - loss: 2.0950e-04\n",
            "Epoch 21/100\n",
            "66/66 [==============================] - 2s 29ms/step - loss: 2.0008e-04\n",
            "Epoch 22/100\n",
            "66/66 [==============================] - 2s 24ms/step - loss: 2.0363e-04\n",
            "Epoch 23/100\n",
            "66/66 [==============================] - 2s 25ms/step - loss: 2.2205e-04\n",
            "Epoch 24/100\n",
            "66/66 [==============================] - 3s 38ms/step - loss: 1.9081e-04\n",
            "Epoch 25/100\n",
            "66/66 [==============================] - 2s 25ms/step - loss: 1.9368e-04\n",
            "Epoch 26/100\n",
            "66/66 [==============================] - 1s 17ms/step - loss: 1.6438e-04\n",
            "Epoch 27/100\n",
            "66/66 [==============================] - 1s 17ms/step - loss: 1.7471e-04\n",
            "Epoch 28/100\n",
            "66/66 [==============================] - 1s 16ms/step - loss: 1.4823e-04\n",
            "Epoch 29/100\n",
            "66/66 [==============================] - 1s 17ms/step - loss: 1.5945e-04\n",
            "Epoch 30/100\n",
            "66/66 [==============================] - 2s 26ms/step - loss: 1.4804e-04\n",
            "Epoch 31/100\n",
            "66/66 [==============================] - 1s 18ms/step - loss: 1.4165e-04\n",
            "Epoch 32/100\n",
            "66/66 [==============================] - 1s 12ms/step - loss: 1.5245e-04\n",
            "Epoch 33/100\n",
            "66/66 [==============================] - 1s 13ms/step - loss: 1.3082e-04\n",
            "Epoch 34/100\n",
            "66/66 [==============================] - 1s 12ms/step - loss: 1.4291e-04\n",
            "Epoch 35/100\n",
            "66/66 [==============================] - 1s 11ms/step - loss: 1.7020e-04\n",
            "Epoch 36/100\n",
            "66/66 [==============================] - 1s 15ms/step - loss: 1.2548e-04\n",
            "Epoch 37/100\n",
            "66/66 [==============================] - 1s 17ms/step - loss: 1.4932e-04\n",
            "Epoch 38/100\n",
            "66/66 [==============================] - 1s 14ms/step - loss: 1.3024e-04\n",
            "Epoch 39/100\n",
            "66/66 [==============================] - 1s 23ms/step - loss: 1.3048e-04\n",
            "Epoch 40/100\n",
            "66/66 [==============================] - 1s 22ms/step - loss: 1.1938e-04\n",
            "Epoch 41/100\n",
            "66/66 [==============================] - 2s 24ms/step - loss: 1.1835e-04\n",
            "Epoch 42/100\n",
            "66/66 [==============================] - 2s 33ms/step - loss: 1.0766e-04\n",
            "Epoch 43/100\n",
            "66/66 [==============================] - 2s 28ms/step - loss: 1.1371e-04\n",
            "Epoch 44/100\n",
            "66/66 [==============================] - 2s 29ms/step - loss: 9.8808e-05\n",
            "Epoch 45/100\n",
            "66/66 [==============================] - 2s 29ms/step - loss: 1.0266e-04\n",
            "Epoch 46/100\n",
            "66/66 [==============================] - 1s 19ms/step - loss: 9.8129e-05\n",
            "Epoch 47/100\n",
            "66/66 [==============================] - 1s 18ms/step - loss: 9.5571e-05\n",
            "Epoch 48/100\n",
            "66/66 [==============================] - 2s 27ms/step - loss: 9.2998e-05\n",
            "Epoch 49/100\n",
            "66/66 [==============================] - 1s 17ms/step - loss: 1.0777e-04\n",
            "Epoch 50/100\n",
            "66/66 [==============================] - 1s 19ms/step - loss: 9.6057e-05\n",
            "Epoch 51/100\n",
            "66/66 [==============================] - 1s 21ms/step - loss: 8.5545e-05\n",
            "Epoch 52/100\n",
            "66/66 [==============================] - 1s 21ms/step - loss: 8.3501e-05\n",
            "Epoch 53/100\n",
            "66/66 [==============================] - 2s 24ms/step - loss: 9.2907e-05\n",
            "Epoch 54/100\n",
            "66/66 [==============================] - 1s 19ms/step - loss: 9.3614e-05\n",
            "Epoch 55/100\n",
            "66/66 [==============================] - 1s 18ms/step - loss: 8.3967e-05\n",
            "Epoch 56/100\n",
            "66/66 [==============================] - 1s 18ms/step - loss: 7.6878e-05\n",
            "Epoch 57/100\n",
            "66/66 [==============================] - 1s 20ms/step - loss: 8.0344e-05\n",
            "Epoch 58/100\n",
            "66/66 [==============================] - 1s 19ms/step - loss: 9.5974e-05\n",
            "Epoch 59/100\n",
            "66/66 [==============================] - 1s 20ms/step - loss: 8.2643e-05\n",
            "Epoch 60/100\n",
            "66/66 [==============================] - 1s 17ms/step - loss: 8.5326e-05\n",
            "Epoch 61/100\n",
            "66/66 [==============================] - 1s 22ms/step - loss: 7.4010e-05\n",
            "Epoch 62/100\n",
            "66/66 [==============================] - 2s 30ms/step - loss: 7.8250e-05\n",
            "Epoch 63/100\n",
            "66/66 [==============================] - 2s 32ms/step - loss: 7.2641e-05\n",
            "Epoch 64/100\n",
            "66/66 [==============================] - 1s 20ms/step - loss: 6.9858e-05\n",
            "Epoch 65/100\n",
            "66/66 [==============================] - 1s 17ms/step - loss: 7.1317e-05\n",
            "Epoch 66/100\n",
            "66/66 [==============================] - 1s 18ms/step - loss: 6.8281e-05\n",
            "Epoch 67/100\n",
            "66/66 [==============================] - 1s 23ms/step - loss: 7.0847e-05\n",
            "Epoch 68/100\n",
            "66/66 [==============================] - 1s 15ms/step - loss: 6.9569e-05\n",
            "Epoch 69/100\n",
            "66/66 [==============================] - 1s 17ms/step - loss: 7.2741e-05\n",
            "Epoch 70/100\n",
            "66/66 [==============================] - 1s 20ms/step - loss: 8.0730e-05\n",
            "Epoch 71/100\n",
            "66/66 [==============================] - 1s 16ms/step - loss: 6.8687e-05\n",
            "Epoch 72/100\n",
            "66/66 [==============================] - 1s 14ms/step - loss: 6.7084e-05\n",
            "Epoch 73/100\n",
            "66/66 [==============================] - 1s 14ms/step - loss: 7.0986e-05\n",
            "Epoch 74/100\n",
            "66/66 [==============================] - 1s 15ms/step - loss: 6.9307e-05\n",
            "Epoch 75/100\n",
            "66/66 [==============================] - 1s 23ms/step - loss: 6.5271e-05\n",
            "Epoch 76/100\n",
            "66/66 [==============================] - 1s 20ms/step - loss: 6.1928e-05\n",
            "Epoch 77/100\n",
            "66/66 [==============================] - 1s 15ms/step - loss: 6.4378e-05\n",
            "Epoch 78/100\n",
            "66/66 [==============================] - 1s 16ms/step - loss: 6.4489e-05\n",
            "Epoch 79/100\n",
            "66/66 [==============================] - 1s 23ms/step - loss: 6.8740e-05\n",
            "Epoch 80/100\n",
            "66/66 [==============================] - 1s 20ms/step - loss: 6.8103e-05\n",
            "Epoch 81/100\n",
            "66/66 [==============================] - 1s 19ms/step - loss: 7.0205e-05\n",
            "Epoch 82/100\n",
            "66/66 [==============================] - 1s 16ms/step - loss: 6.7016e-05\n",
            "Epoch 83/100\n",
            "66/66 [==============================] - 2s 34ms/step - loss: 7.1318e-05\n",
            "Epoch 84/100\n",
            "66/66 [==============================] - 3s 40ms/step - loss: 7.3569e-05\n",
            "Epoch 85/100\n",
            "66/66 [==============================] - 2s 27ms/step - loss: 6.3954e-05\n",
            "Epoch 86/100\n",
            "66/66 [==============================] - 1s 19ms/step - loss: 6.4791e-05\n",
            "Epoch 87/100\n",
            "66/66 [==============================] - 1s 22ms/step - loss: 6.4472e-05\n",
            "Epoch 88/100\n",
            "66/66 [==============================] - 1s 18ms/step - loss: 6.2981e-05\n",
            "Epoch 89/100\n",
            "66/66 [==============================] - 1s 22ms/step - loss: 7.1731e-05\n",
            "Epoch 90/100\n",
            "66/66 [==============================] - 1s 18ms/step - loss: 6.2111e-05\n",
            "Epoch 91/100\n",
            "66/66 [==============================] - 2s 32ms/step - loss: 6.3429e-05\n",
            "Epoch 92/100\n",
            "66/66 [==============================] - 3s 38ms/step - loss: 6.5373e-05\n",
            "Epoch 93/100\n",
            "66/66 [==============================] - 2s 27ms/step - loss: 6.3667e-05\n",
            "Epoch 94/100\n",
            "66/66 [==============================] - 2s 26ms/step - loss: 7.1312e-05\n",
            "Epoch 95/100\n",
            "66/66 [==============================] - 1s 18ms/step - loss: 6.3347e-05\n",
            "Epoch 96/100\n",
            "66/66 [==============================] - 1s 17ms/step - loss: 6.1480e-05\n",
            "Epoch 97/100\n",
            "66/66 [==============================] - 1s 19ms/step - loss: 7.0818e-05\n",
            "Epoch 98/100\n",
            "66/66 [==============================] - 1s 20ms/step - loss: 7.0931e-05\n",
            "Epoch 99/100\n",
            "66/66 [==============================] - 1s 22ms/step - loss: 6.9762e-05\n",
            "Epoch 100/100\n",
            "66/66 [==============================] - 1s 16ms/step - loss: 6.5534e-05\n"
          ]
        },
        {
          "data": {
            "text/plain": [
              "<keras.callbacks.History at 0x7fc5714e7af0>"
            ]
          },
          "execution_count": 109,
          "metadata": {},
          "output_type": "execute_result"
        }
      ],
      "source": [
        "model = Sequential()\n",
        "model.add(LSTM(50, return_sequences=True, input_shape=(seq_length, 1)))\n",
        "model.add(LSTM(50))\n",
        "model.add(Dense(1))\n",
        "model.compile(loss='mean_squared_error', optimizer='adam')\n",
        "\n",
        "model.fit(x_train, y_train, epochs=100, batch_size=32)"
      ]
    },
    {
      "cell_type": "code",
      "execution_count": 110,
      "metadata": {},
      "outputs": [
        {
          "data": {
            "text/plain": [
              "(525,)"
            ]
          },
          "execution_count": 110,
          "metadata": {},
          "output_type": "execute_result"
        }
      ],
      "source": [
        "y_test.shape"
      ]
    },
    {
      "cell_type": "code",
      "execution_count": 111,
      "metadata": {},
      "outputs": [
        {
          "data": {
            "text/plain": [
              "(525, 10, 1)"
            ]
          },
          "execution_count": 111,
          "metadata": {},
          "output_type": "execute_result"
        }
      ],
      "source": [
        "x_test.shape"
      ]
    },
    {
      "cell_type": "code",
      "execution_count": 112,
      "metadata": {
        "colab": {
          "base_uri": "https://localhost:8080/",
          "height": 1000
        },
        "id": "-cwPgtdg-Cyz",
        "outputId": "99ee3c59-4ff2-45ff-f2b5-6d9b211b758d"
      },
      "outputs": [
        {
          "name": "stderr",
          "output_type": "stream",
          "text": [
            "2023-05-02 21:06:12.450747: I tensorflow/core/common_runtime/executor.cc:1197] [/device:CPU:0] (DEBUG INFO) Executor start aborting (this does not indicate an error and you can ignore this message): INVALID_ARGUMENT: You must feed a value for placeholder tensor 'gradients/split_2_grad/concat/split_2/split_dim' with dtype int32\n",
            "\t [[{{node gradients/split_2_grad/concat/split_2/split_dim}}]]\n",
            "2023-05-02 21:06:12.453410: I tensorflow/core/common_runtime/executor.cc:1197] [/device:CPU:0] (DEBUG INFO) Executor start aborting (this does not indicate an error and you can ignore this message): INVALID_ARGUMENT: You must feed a value for placeholder tensor 'gradients/split_grad/concat/split/split_dim' with dtype int32\n",
            "\t [[{{node gradients/split_grad/concat/split/split_dim}}]]\n",
            "2023-05-02 21:06:12.455366: I tensorflow/core/common_runtime/executor.cc:1197] [/device:CPU:0] (DEBUG INFO) Executor start aborting (this does not indicate an error and you can ignore this message): INVALID_ARGUMENT: You must feed a value for placeholder tensor 'gradients/split_1_grad/concat/split_1/split_dim' with dtype int32\n",
            "\t [[{{node gradients/split_1_grad/concat/split_1/split_dim}}]]\n",
            "2023-05-02 21:06:12.767750: I tensorflow/core/common_runtime/executor.cc:1197] [/device:CPU:0] (DEBUG INFO) Executor start aborting (this does not indicate an error and you can ignore this message): INVALID_ARGUMENT: You must feed a value for placeholder tensor 'gradients/split_2_grad/concat/split_2/split_dim' with dtype int32\n",
            "\t [[{{node gradients/split_2_grad/concat/split_2/split_dim}}]]\n",
            "2023-05-02 21:06:12.770346: I tensorflow/core/common_runtime/executor.cc:1197] [/device:CPU:0] (DEBUG INFO) Executor start aborting (this does not indicate an error and you can ignore this message): INVALID_ARGUMENT: You must feed a value for placeholder tensor 'gradients/split_grad/concat/split/split_dim' with dtype int32\n",
            "\t [[{{node gradients/split_grad/concat/split/split_dim}}]]\n",
            "2023-05-02 21:06:12.773329: I tensorflow/core/common_runtime/executor.cc:1197] [/device:CPU:0] (DEBUG INFO) Executor start aborting (this does not indicate an error and you can ignore this message): INVALID_ARGUMENT: You must feed a value for placeholder tensor 'gradients/split_1_grad/concat/split_1/split_dim' with dtype int32\n",
            "\t [[{{node gradients/split_1_grad/concat/split_1/split_dim}}]]\n"
          ]
        },
        {
          "name": "stdout",
          "output_type": "stream",
          "text": [
            "17/17 [==============================] - 1s 6ms/step\n",
            "RMSE: 259.15\n",
            "MAE: 207.77\n",
            "MAPE: 16.61%\n"
          ]
        }
      ],
      "source": [
        "predictions = model.predict(x_test)\n",
        "\n",
        "predictions = scaler.inverse_transform(predictions)\n",
        "y_true = scaler.inverse_transform([y_test])\n",
        "\n",
        "\n",
        "\n",
        "rmse = np.sqrt(np.mean(((predictions - y_true) ** 2)))\n",
        "print('RMSE: %.2f' % rmse)\n",
        "\n",
        "mae = np.mean(np.abs(predictions - y_true))\n",
        "print('MAE: %.2f' % mae)\n",
        "\n",
        "mape = np.mean(np.abs((predictions - y_true) / y_true)) * 100\n",
        "print('MAPE: %.2f%%' % mape)\n"
      ]
    },
    {
      "cell_type": "code",
      "execution_count": 113,
      "metadata": {},
      "outputs": [],
      "source": [
        "def forecast_accuracy(forecast, actual):\n",
        "    mape = np.mean(np.abs(forecast - actual)/np.abs(actual))  # MAPE\n",
        "    me = np.mean(forecast - actual)             # ME\n",
        "    mae = np.mean(np.abs(forecast - actual))    # MAE\n",
        "    mpe = np.mean((forecast - actual)/actual)   # MPE\n",
        "    rmse = np.mean((forecast - actual)**2)**.5  # RMSE\n",
        "    return({'mape':mape, 'me':me, 'mae': mae,\n",
        "            'mpe': mpe, 'rmse':rmse, })\n",
        "def adjust(val, length= 6): return str(val).ljust(length)"
      ]
    },
    {
      "cell_type": "code",
      "execution_count": 114,
      "metadata": {},
      "outputs": [
        {
          "name": "stdout",
          "output_type": "stream",
          "text": [
            "\n",
            "Forecast Accuracy of: VN Index\n",
            "mape   :  0.0121\n",
            "me     :  4.412\n",
            "mae    :  15.3005\n",
            "mpe    :  0.004\n",
            "rmse   :  21.1666\n"
          ]
        }
      ],
      "source": [
        "print('\\nForecast Accuracy of: VN Index')\n",
        "accuracy_prod = forecast_accuracy(predictions.flatten(), y_true.flatten())\n",
        "for k, v in accuracy_prod.items():\n",
        "    print(adjust(k), ': ', round(v,4))"
      ]
    },
    {
      "cell_type": "code",
      "execution_count": 115,
      "metadata": {},
      "outputs": [
        {
          "data": {
            "image/png": "[encoded data removed]",
            "text/plain": [
              "<Figure size 1000x600 with 1 Axes>"
            ]
          },
          "metadata": {},
          "output_type": "display_data"
        }
      ],
      "source": [
        "plt.figure(figsize=(10, 6))\n",
        "plt.plot(np.arange(0, y_true.shape[1]), y_true.flatten(), color='blue', label='Actual VN30 Price')\n",
        "plt.plot(np.arange(0, len(predictions)), predictions.flatten(), color='red', label='Predicted VN30 Price')\n",
        "plt.title('VN30 Price Prediction using LSTM')\n",
        "plt.xlabel('Time')\n",
        "plt.ylabel('VN30 Price')\n",
        "plt.legend()\n",
        "plt.show()"
      ]
    },
    {
      "cell_type": "code",
      "execution_count": 116,
      "metadata": {},
      "outputs": [
        {
          "data": {
            "text/plain": [
              "1"
            ]
          },
          "execution_count": 116,
          "metadata": {},
          "output_type": "execute_result"
        }
      ],
      "source": [
        "len(y_true)"
      ]
    },
    {
      "cell_type": "code",
      "execution_count": 117,
      "metadata": {},
      "outputs": [
        {
          "data": {
            "text/plain": [
              "525"
            ]
          },
          "execution_count": 117,
          "metadata": {},
          "output_type": "execute_result"
        }
      ],
      "source": [
        "y_true.shape[1]"
      ]
    },
    {
      "cell_type": "code",
      "execution_count": 118,
      "metadata": {},
      "outputs": [
        {
          "data": {
            "text/plain": [
              "(525,)"
            ]
          },
          "execution_count": 118,
          "metadata": {},
          "output_type": "execute_result"
        }
      ],
      "source": [
        "np.arange(0, y_true.shape[1]).shape"
      ]
    }
  ],
  "metadata": {
    "colab": {
      "provenance": []
    },
    "kernelspec": {
      "display_name": "Python 3",
      "name": "python3"
    },
    "language_info": {
      "codemirror_mode": {
        "name": "ipython",
        "version": 3
      },
      "file_extension": ".py",
      "mimetype": "text/x-python",
      "name": "python",
      "nbconvert_exporter": "python",
      "pygments_lexer": "ipython3",
      "version": "3.8.0"
    }
  },
  "nbformat": 4,
  "nbformat_minor": 0
}
