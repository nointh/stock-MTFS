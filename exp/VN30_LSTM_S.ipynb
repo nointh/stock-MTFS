{
  "cells": [
    {
      "cell_type": "code",
      "execution_count": 1,
      "metadata": {},
      "outputs": [
        {
          "name": "stderr",
          "output_type": "stream",
          "text": [
            "2023-05-14 13:12:56.372142: I tensorflow/tsl/cuda/cudart_stub.cc:28] Could not find cuda drivers on your machine, GPU will not be used.\n",
            "2023-05-14 13:12:56.470759: I tensorflow/tsl/cuda/cudart_stub.cc:28] Could not find cuda drivers on your machine, GPU will not be used.\n",
            "2023-05-14 13:12:56.473176: I tensorflow/core/platform/cpu_feature_guard.cc:182] This TensorFlow binary is optimized to use available CPU instructions in performance-critical operations.\n",
            "To enable the following instructions: AVX2 FMA, in other operations, rebuild TensorFlow with the appropriate compiler flags.\n",
            "2023-05-14 13:12:57.978923: W tensorflow/compiler/tf2tensorrt/utils/py_utils.cc:38] TF-TRT Warning: Could not find TensorRT\n"
          ]
        }
      ],
      "source": [
        "\n",
        "import numpy as np\n",
        "import pandas as pd\n",
        "from sklearn.preprocessing import MinMaxScaler\n",
        "from keras.models import Sequential\n",
        "from keras.layers import LSTM, Dense\n",
        "import matplotlib.pyplot as plt\n",
        "\n",
        "url = './data/VN30_price.csv'\n",
        "df = pd.read_csv(url)"
      ]
    },
    {
      "cell_type": "code",
      "execution_count": 2,
      "metadata": {},
      "outputs": [],
      "source": [
        "# Preprocess the data\n",
        "data = df['VN30'].values.reshape(-1, 1)\n",
        "scaler = MinMaxScaler(feature_range=(0, 1))\n",
        "data = scaler.fit_transform(data)\n"
      ]
    },
    {
      "cell_type": "code",
      "execution_count": 3,
      "metadata": {},
      "outputs": [],
      "source": [
        "# Create the input and output sequences for the LSTM model\n",
        "def create_sequences(data, seq_length):\n",
        "    x = []\n",
        "    y = []\n",
        "    for i in range(len(data) - seq_length - 1):\n",
        "        x.append(data[i:(i + seq_length), 0])\n",
        "        y.append(data[i + seq_length, 0])\n",
        "    return np.array(x), np.array(y)\n",
        "seq_length = 10\n",
        "x, y = create_sequences(data, seq_length)\n"
      ]
    },
    {
      "cell_type": "code",
      "execution_count": 4,
      "metadata": {},
      "outputs": [],
      "source": [
        "split_idx = int(len(x)*0.8)\n",
        "x_train, x_test = x[:split_idx], x[split_idx:]\n",
        "y_train, y_test = y[:split_idx], y[split_idx:]"
      ]
    },
    {
      "cell_type": "code",
      "execution_count": 5,
      "metadata": {},
      "outputs": [
        {
          "data": {
            "text/plain": [
              "(1489, 10)"
            ]
          },
          "execution_count": 5,
          "metadata": {},
          "output_type": "execute_result"
        }
      ],
      "source": [
        "x.shape"
      ]
    },
    {
      "cell_type": "code",
      "execution_count": 6,
      "metadata": {},
      "outputs": [],
      "source": [
        "x_train = np.reshape(x_train, (x_train.shape[0], x_train.shape[1], 1))\n",
        "x_test = np.reshape(x_test, (x_test.shape[0], x_test.shape[1], 1))\n"
      ]
    },
    {
      "cell_type": "code",
      "execution_count": 16,
      "metadata": {},
      "outputs": [
        {
          "name": "stderr",
          "output_type": "stream",
          "text": [
            "2023-05-14 13:15:22.059761: I tensorflow/core/common_runtime/executor.cc:1197] [/device:CPU:0] (DEBUG INFO) Executor start aborting (this does not indicate an error and you can ignore this message): INVALID_ARGUMENT: You must feed a value for placeholder tensor 'gradients/split_2_grad/concat/split_2/split_dim' with dtype int32\n",
            "\t [[{{node gradients/split_2_grad/concat/split_2/split_dim}}]]\n",
            "2023-05-14 13:15:22.063418: I tensorflow/core/common_runtime/executor.cc:1197] [/device:CPU:0] (DEBUG INFO) Executor start aborting (this does not indicate an error and you can ignore this message): INVALID_ARGUMENT: You must feed a value for placeholder tensor 'gradients/split_grad/concat/split/split_dim' with dtype int32\n",
            "\t [[{{node gradients/split_grad/concat/split/split_dim}}]]\n",
            "2023-05-14 13:15:22.065596: I tensorflow/core/common_runtime/executor.cc:1197] [/device:CPU:0] (DEBUG INFO) Executor start aborting (this does not indicate an error and you can ignore this message): INVALID_ARGUMENT: You must feed a value for placeholder tensor 'gradients/split_1_grad/concat/split_1/split_dim' with dtype int32\n",
            "\t [[{{node gradients/split_1_grad/concat/split_1/split_dim}}]]\n"
          ]
        },
        {
          "name": "stdout",
          "output_type": "stream",
          "text": [
            "Epoch 1/100\n"
          ]
        },
        {
          "name": "stderr",
          "output_type": "stream",
          "text": [
            "2023-05-14 13:15:22.371069: I tensorflow/core/common_runtime/executor.cc:1197] [/device:CPU:0] (DEBUG INFO) Executor start aborting (this does not indicate an error and you can ignore this message): INVALID_ARGUMENT: You must feed a value for placeholder tensor 'gradients/split_2_grad/concat/split_2/split_dim' with dtype int32\n",
            "\t [[{{node gradients/split_2_grad/concat/split_2/split_dim}}]]\n",
            "2023-05-14 13:15:22.373387: I tensorflow/core/common_runtime/executor.cc:1197] [/device:CPU:0] (DEBUG INFO) Executor start aborting (this does not indicate an error and you can ignore this message): INVALID_ARGUMENT: You must feed a value for placeholder tensor 'gradients/split_grad/concat/split/split_dim' with dtype int32\n",
            "\t [[{{node gradients/split_grad/concat/split/split_dim}}]]\n",
            "2023-05-14 13:15:22.375317: I tensorflow/core/common_runtime/executor.cc:1197] [/device:CPU:0] (DEBUG INFO) Executor start aborting (this does not indicate an error and you can ignore this message): INVALID_ARGUMENT: You must feed a value for placeholder tensor 'gradients/split_1_grad/concat/split_1/split_dim' with dtype int32\n",
            "\t [[{{node gradients/split_1_grad/concat/split_1/split_dim}}]]\n",
            "2023-05-14 13:15:22.866716: I tensorflow/core/common_runtime/executor.cc:1197] [/device:CPU:0] (DEBUG INFO) Executor start aborting (this does not indicate an error and you can ignore this message): INVALID_ARGUMENT: You must feed a value for placeholder tensor 'gradients/split_2_grad/concat/split_2/split_dim' with dtype int32\n",
            "\t [[{{node gradients/split_2_grad/concat/split_2/split_dim}}]]\n",
            "2023-05-14 13:15:22.869953: I tensorflow/core/common_runtime/executor.cc:1197] [/device:CPU:0] (DEBUG INFO) Executor start aborting (this does not indicate an error and you can ignore this message): INVALID_ARGUMENT: You must feed a value for placeholder tensor 'gradients/split_grad/concat/split/split_dim' with dtype int32\n",
            "\t [[{{node gradients/split_grad/concat/split/split_dim}}]]\n",
            "2023-05-14 13:15:22.872278: I tensorflow/core/common_runtime/executor.cc:1197] [/device:CPU:0] (DEBUG INFO) Executor start aborting (this does not indicate an error and you can ignore this message): INVALID_ARGUMENT: You must feed a value for placeholder tensor 'gradients/split_1_grad/concat/split_1/split_dim' with dtype int32\n",
            "\t [[{{node gradients/split_1_grad/concat/split_1/split_dim}}]]\n",
            "2023-05-14 13:15:23.191990: I tensorflow/core/common_runtime/executor.cc:1197] [/device:CPU:0] (DEBUG INFO) Executor start aborting (this does not indicate an error and you can ignore this message): INVALID_ARGUMENT: You must feed a value for placeholder tensor 'gradients/split_2_grad/concat/split_2/split_dim' with dtype int32\n",
            "\t [[{{node gradients/split_2_grad/concat/split_2/split_dim}}]]\n",
            "2023-05-14 13:15:23.195597: I tensorflow/core/common_runtime/executor.cc:1197] [/device:CPU:0] (DEBUG INFO) Executor start aborting (this does not indicate an error and you can ignore this message): INVALID_ARGUMENT: You must feed a value for placeholder tensor 'gradients/split_grad/concat/split/split_dim' with dtype int32\n",
            "\t [[{{node gradients/split_grad/concat/split/split_dim}}]]\n",
            "2023-05-14 13:15:23.197808: I tensorflow/core/common_runtime/executor.cc:1197] [/device:CPU:0] (DEBUG INFO) Executor start aborting (this does not indicate an error and you can ignore this message): INVALID_ARGUMENT: You must feed a value for placeholder tensor 'gradients/split_1_grad/concat/split_1/split_dim' with dtype int32\n",
            "\t [[{{node gradients/split_1_grad/concat/split_1/split_dim}}]]\n",
            "2023-05-14 13:15:25.141629: I tensorflow/core/common_runtime/executor.cc:1197] [/device:CPU:0] (DEBUG INFO) Executor start aborting (this does not indicate an error and you can ignore this message): INVALID_ARGUMENT: You must feed a value for placeholder tensor 'gradients/split_2_grad/concat/split_2/split_dim' with dtype int32\n",
            "\t [[{{node gradients/split_2_grad/concat/split_2/split_dim}}]]\n",
            "2023-05-14 13:15:25.144807: I tensorflow/core/common_runtime/executor.cc:1197] [/device:CPU:0] (DEBUG INFO) Executor start aborting (this does not indicate an error and you can ignore this message): INVALID_ARGUMENT: You must feed a value for placeholder tensor 'gradients/split_grad/concat/split/split_dim' with dtype int32\n",
            "\t [[{{node gradients/split_grad/concat/split/split_dim}}]]\n",
            "2023-05-14 13:15:25.146902: I tensorflow/core/common_runtime/executor.cc:1197] [/device:CPU:0] (DEBUG INFO) Executor start aborting (this does not indicate an error and you can ignore this message): INVALID_ARGUMENT: You must feed a value for placeholder tensor 'gradients/split_1_grad/concat/split_1/split_dim' with dtype int32\n",
            "\t [[{{node gradients/split_1_grad/concat/split_1/split_dim}}]]\n",
            "2023-05-14 13:15:25.601708: I tensorflow/core/common_runtime/executor.cc:1197] [/device:CPU:0] (DEBUG INFO) Executor start aborting (this does not indicate an error and you can ignore this message): INVALID_ARGUMENT: You must feed a value for placeholder tensor 'gradients/split_2_grad/concat/split_2/split_dim' with dtype int32\n",
            "\t [[{{node gradients/split_2_grad/concat/split_2/split_dim}}]]\n",
            "2023-05-14 13:15:25.607142: I tensorflow/core/common_runtime/executor.cc:1197] [/device:CPU:0] (DEBUG INFO) Executor start aborting (this does not indicate an error and you can ignore this message): INVALID_ARGUMENT: You must feed a value for placeholder tensor 'gradients/split_grad/concat/split/split_dim' with dtype int32\n",
            "\t [[{{node gradients/split_grad/concat/split/split_dim}}]]\n",
            "2023-05-14 13:15:25.612836: I tensorflow/core/common_runtime/executor.cc:1197] [/device:CPU:0] (DEBUG INFO) Executor start aborting (this does not indicate an error and you can ignore this message): INVALID_ARGUMENT: You must feed a value for placeholder tensor 'gradients/split_1_grad/concat/split_1/split_dim' with dtype int32\n",
            "\t [[{{node gradients/split_1_grad/concat/split_1/split_dim}}]]\n"
          ]
        },
        {
          "name": "stdout",
          "output_type": "stream",
          "text": [
            "26/28 [==========================>...] - ETA: 0s - loss: 0.0177"
          ]
        },
        {
          "name": "stderr",
          "output_type": "stream",
          "text": [
            "2023-05-14 13:15:28.841906: I tensorflow/core/common_runtime/executor.cc:1197] [/device:CPU:0] (DEBUG INFO) Executor start aborting (this does not indicate an error and you can ignore this message): INVALID_ARGUMENT: You must feed a value for placeholder tensor 'gradients/split_2_grad/concat/split_2/split_dim' with dtype int32\n",
            "\t [[{{node gradients/split_2_grad/concat/split_2/split_dim}}]]\n",
            "2023-05-14 13:15:28.846173: I tensorflow/core/common_runtime/executor.cc:1197] [/device:CPU:0] (DEBUG INFO) Executor start aborting (this does not indicate an error and you can ignore this message): INVALID_ARGUMENT: You must feed a value for placeholder tensor 'gradients/split_grad/concat/split/split_dim' with dtype int32\n",
            "\t [[{{node gradients/split_grad/concat/split/split_dim}}]]\n",
            "2023-05-14 13:15:28.848841: I tensorflow/core/common_runtime/executor.cc:1197] [/device:CPU:0] (DEBUG INFO) Executor start aborting (this does not indicate an error and you can ignore this message): INVALID_ARGUMENT: You must feed a value for placeholder tensor 'gradients/split_1_grad/concat/split_1/split_dim' with dtype int32\n",
            "\t [[{{node gradients/split_1_grad/concat/split_1/split_dim}}]]\n",
            "2023-05-14 13:15:29.175068: I tensorflow/core/common_runtime/executor.cc:1197] [/device:CPU:0] (DEBUG INFO) Executor start aborting (this does not indicate an error and you can ignore this message): INVALID_ARGUMENT: You must feed a value for placeholder tensor 'gradients/split_2_grad/concat/split_2/split_dim' with dtype int32\n",
            "\t [[{{node gradients/split_2_grad/concat/split_2/split_dim}}]]\n",
            "2023-05-14 13:15:29.177493: I tensorflow/core/common_runtime/executor.cc:1197] [/device:CPU:0] (DEBUG INFO) Executor start aborting (this does not indicate an error and you can ignore this message): INVALID_ARGUMENT: You must feed a value for placeholder tensor 'gradients/split_grad/concat/split/split_dim' with dtype int32\n",
            "\t [[{{node gradients/split_grad/concat/split/split_dim}}]]\n",
            "2023-05-14 13:15:29.182004: I tensorflow/core/common_runtime/executor.cc:1197] [/device:CPU:0] (DEBUG INFO) Executor start aborting (this does not indicate an error and you can ignore this message): INVALID_ARGUMENT: You must feed a value for placeholder tensor 'gradients/split_1_grad/concat/split_1/split_dim' with dtype int32\n",
            "\t [[{{node gradients/split_1_grad/concat/split_1/split_dim}}]]\n"
          ]
        },
        {
          "name": "stdout",
          "output_type": "stream",
          "text": [
            "28/28 [==============================] - 7s 55ms/step - loss: 0.0168 - val_loss: 0.0346\n",
            "Epoch 2/100\n",
            "28/28 [==============================] - 0s 15ms/step - loss: 0.0016 - val_loss: 0.0020\n",
            "Epoch 3/100\n",
            "28/28 [==============================] - 1s 20ms/step - loss: 7.7827e-04 - val_loss: 0.0015\n",
            "Epoch 4/100\n",
            "28/28 [==============================] - 0s 16ms/step - loss: 7.2785e-04 - val_loss: 0.0013\n",
            "Epoch 5/100\n",
            "28/28 [==============================] - 1s 21ms/step - loss: 7.2192e-04 - val_loss: 0.0016\n",
            "Epoch 6/100\n",
            "28/28 [==============================] - 0s 17ms/step - loss: 6.9896e-04 - val_loss: 0.0014\n",
            "Epoch 7/100\n",
            "28/28 [==============================] - 0s 16ms/step - loss: 7.0359e-04 - val_loss: 0.0014\n",
            "Epoch 8/100\n",
            "28/28 [==============================] - 0s 18ms/step - loss: 6.9349e-04 - val_loss: 0.0018\n",
            "Epoch 9/100\n",
            "28/28 [==============================] - 1s 24ms/step - loss: 7.1051e-04 - val_loss: 0.0020\n",
            "Epoch 10/100\n",
            "28/28 [==============================] - 1s 22ms/step - loss: 7.2608e-04 - val_loss: 0.0032\n",
            "Epoch 11/100\n",
            "28/28 [==============================] - 1s 19ms/step - loss: 7.3439e-04 - val_loss: 0.0016\n",
            "Epoch 12/100\n",
            "28/28 [==============================] - 1s 30ms/step - loss: 6.5551e-04 - val_loss: 0.0016\n",
            "Epoch 13/100\n",
            "28/28 [==============================] - 0s 17ms/step - loss: 6.3772e-04 - val_loss: 0.0015\n",
            "Epoch 14/100\n",
            "28/28 [==============================] - 0s 17ms/step - loss: 6.2689e-04 - val_loss: 0.0012\n",
            "Epoch 15/100\n",
            "28/28 [==============================] - 1s 27ms/step - loss: 6.4729e-04 - val_loss: 0.0016\n",
            "Epoch 16/100\n",
            "28/28 [==============================] - 0s 17ms/step - loss: 6.2201e-04 - val_loss: 0.0022\n",
            "Epoch 17/100\n",
            "28/28 [==============================] - 0s 16ms/step - loss: 6.0781e-04 - val_loss: 0.0019\n",
            "Epoch 18/100\n",
            "28/28 [==============================] - 0s 16ms/step - loss: 6.2915e-04 - val_loss: 9.2159e-04\n",
            "Epoch 19/100\n",
            "28/28 [==============================] - 0s 16ms/step - loss: 6.0578e-04 - val_loss: 0.0022\n",
            "Epoch 20/100\n",
            "28/28 [==============================] - 0s 16ms/step - loss: 5.6841e-04 - val_loss: 0.0021\n",
            "Epoch 21/100\n",
            "28/28 [==============================] - 1s 19ms/step - loss: 5.7017e-04 - val_loss: 0.0011\n",
            "Epoch 22/100\n",
            "28/28 [==============================] - 1s 20ms/step - loss: 5.3064e-04 - val_loss: 0.0019\n",
            "Epoch 23/100\n",
            "28/28 [==============================] - 0s 16ms/step - loss: 5.2274e-04 - val_loss: 0.0014\n",
            "Epoch 24/100\n",
            "28/28 [==============================] - 0s 17ms/step - loss: 5.0383e-04 - val_loss: 0.0012\n",
            "Epoch 25/100\n",
            "28/28 [==============================] - 0s 17ms/step - loss: 5.0923e-04 - val_loss: 0.0018\n",
            "Epoch 26/100\n",
            "28/28 [==============================] - 0s 17ms/step - loss: 4.9606e-04 - val_loss: 9.1701e-04\n",
            "Epoch 27/100\n",
            "28/28 [==============================] - 0s 17ms/step - loss: 4.5985e-04 - val_loss: 8.6660e-04\n",
            "Epoch 28/100\n",
            "28/28 [==============================] - 0s 17ms/step - loss: 4.7026e-04 - val_loss: 8.1981e-04\n",
            "Epoch 29/100\n",
            "28/28 [==============================] - 0s 17ms/step - loss: 4.5256e-04 - val_loss: 0.0037\n",
            "Epoch 30/100\n",
            "28/28 [==============================] - 0s 17ms/step - loss: 4.1991e-04 - val_loss: 0.0024\n",
            "Epoch 31/100\n",
            "28/28 [==============================] - 1s 21ms/step - loss: 4.1265e-04 - val_loss: 0.0026\n",
            "Epoch 32/100\n",
            "28/28 [==============================] - 0s 18ms/step - loss: 4.1919e-04 - val_loss: 0.0018\n",
            "Epoch 33/100\n",
            "28/28 [==============================] - 1s 24ms/step - loss: 3.8942e-04 - val_loss: 0.0016\n",
            "Epoch 34/100\n",
            "28/28 [==============================] - 1s 18ms/step - loss: 4.0875e-04 - val_loss: 0.0017\n",
            "Epoch 35/100\n",
            "28/28 [==============================] - 0s 16ms/step - loss: 4.7829e-04 - val_loss: 6.1010e-04\n",
            "Epoch 36/100\n",
            "28/28 [==============================] - 0s 16ms/step - loss: 3.6612e-04 - val_loss: 0.0017\n",
            "Epoch 37/100\n",
            "28/28 [==============================] - 0s 16ms/step - loss: 4.2857e-04 - val_loss: 0.0017\n",
            "Epoch 38/100\n",
            "28/28 [==============================] - 1s 24ms/step - loss: 3.9577e-04 - val_loss: 0.0015\n",
            "Epoch 39/100\n",
            "28/28 [==============================] - 1s 27ms/step - loss: 3.7008e-04 - val_loss: 0.0017\n",
            "Epoch 40/100\n",
            "28/28 [==============================] - 0s 18ms/step - loss: 3.3997e-04 - val_loss: 0.0016\n",
            "Epoch 41/100\n",
            "28/28 [==============================] - 1s 21ms/step - loss: 3.3624e-04 - val_loss: 0.0015\n",
            "Epoch 42/100\n",
            "28/28 [==============================] - 1s 21ms/step - loss: 4.1377e-04 - val_loss: 0.0011\n",
            "Epoch 43/100\n",
            "28/28 [==============================] - 0s 18ms/step - loss: 3.4840e-04 - val_loss: 0.0021\n",
            "Epoch 44/100\n",
            "28/28 [==============================] - 0s 16ms/step - loss: 3.3171e-04 - val_loss: 0.0016\n",
            "Epoch 45/100\n",
            "28/28 [==============================] - 0s 18ms/step - loss: 3.7409e-04 - val_loss: 0.0021\n",
            "Epoch 46/100\n",
            "28/28 [==============================] - 0s 17ms/step - loss: 3.0972e-04 - val_loss: 0.0011\n",
            "Epoch 47/100\n",
            "28/28 [==============================] - 1s 22ms/step - loss: 2.9783e-04 - val_loss: 0.0019\n",
            "Epoch 48/100\n",
            "28/28 [==============================] - 1s 23ms/step - loss: 3.0288e-04 - val_loss: 0.0020\n",
            "Epoch 49/100\n",
            "28/28 [==============================] - 0s 18ms/step - loss: 2.9968e-04 - val_loss: 0.0014\n",
            "Epoch 50/100\n",
            "28/28 [==============================] - 0s 17ms/step - loss: 2.9878e-04 - val_loss: 7.5311e-04\n",
            "Epoch 51/100\n",
            "28/28 [==============================] - 1s 25ms/step - loss: 2.8606e-04 - val_loss: 0.0019\n",
            "Epoch 52/100\n",
            "28/28 [==============================] - 1s 25ms/step - loss: 2.9905e-04 - val_loss: 0.0011\n",
            "Epoch 53/100\n",
            "28/28 [==============================] - 1s 28ms/step - loss: 3.0055e-04 - val_loss: 0.0024\n",
            "Epoch 54/100\n",
            "28/28 [==============================] - 1s 27ms/step - loss: 2.9716e-04 - val_loss: 0.0011\n",
            "Epoch 55/100\n",
            "28/28 [==============================] - 1s 24ms/step - loss: 2.7721e-04 - val_loss: 0.0025\n",
            "Epoch 56/100\n",
            "28/28 [==============================] - 1s 27ms/step - loss: 2.8021e-04 - val_loss: 0.0023\n",
            "Epoch 57/100\n",
            "28/28 [==============================] - 0s 17ms/step - loss: 2.6604e-04 - val_loss: 0.0011\n",
            "Epoch 58/100\n",
            "28/28 [==============================] - 0s 15ms/step - loss: 2.9577e-04 - val_loss: 0.0016\n",
            "Epoch 59/100\n",
            "28/28 [==============================] - 0s 17ms/step - loss: 3.3090e-04 - val_loss: 6.5275e-04\n",
            "Epoch 60/100\n",
            "28/28 [==============================] - 1s 26ms/step - loss: 3.0989e-04 - val_loss: 5.1806e-04\n",
            "Epoch 61/100\n",
            "28/28 [==============================] - 0s 16ms/step - loss: 2.7418e-04 - val_loss: 6.7028e-04\n",
            "Epoch 62/100\n",
            "28/28 [==============================] - 0s 15ms/step - loss: 3.0273e-04 - val_loss: 5.7897e-04\n",
            "Epoch 63/100\n",
            "28/28 [==============================] - 0s 14ms/step - loss: 2.4527e-04 - val_loss: 5.8615e-04\n",
            "Epoch 64/100\n",
            "28/28 [==============================] - 0s 18ms/step - loss: 2.6852e-04 - val_loss: 6.7360e-04\n",
            "Epoch 65/100\n",
            "28/28 [==============================] - 1s 20ms/step - loss: 2.3672e-04 - val_loss: 5.3736e-04\n",
            "Epoch 66/100\n",
            "28/28 [==============================] - 1s 20ms/step - loss: 2.3525e-04 - val_loss: 6.9766e-04\n",
            "Epoch 67/100\n",
            "28/28 [==============================] - 0s 13ms/step - loss: 2.3876e-04 - val_loss: 4.6066e-04\n",
            "Epoch 68/100\n",
            "28/28 [==============================] - 0s 13ms/step - loss: 2.2782e-04 - val_loss: 4.5504e-04\n",
            "Epoch 69/100\n",
            "28/28 [==============================] - 0s 14ms/step - loss: 2.5378e-04 - val_loss: 5.1829e-04\n",
            "Epoch 70/100\n",
            "28/28 [==============================] - 0s 15ms/step - loss: 2.2538e-04 - val_loss: 8.9112e-04\n",
            "Epoch 71/100\n",
            "28/28 [==============================] - 0s 15ms/step - loss: 2.3398e-04 - val_loss: 4.3760e-04\n",
            "Epoch 72/100\n",
            "28/28 [==============================] - 0s 15ms/step - loss: 2.3455e-04 - val_loss: 9.9418e-04\n",
            "Epoch 73/100\n",
            "28/28 [==============================] - 0s 13ms/step - loss: 2.2090e-04 - val_loss: 4.4939e-04\n",
            "Epoch 74/100\n",
            "28/28 [==============================] - 0s 13ms/step - loss: 2.4355e-04 - val_loss: 0.0010\n",
            "Epoch 75/100\n",
            "28/28 [==============================] - 0s 13ms/step - loss: 2.3931e-04 - val_loss: 9.7233e-04\n",
            "Epoch 76/100\n",
            "28/28 [==============================] - 0s 13ms/step - loss: 2.5092e-04 - val_loss: 4.1470e-04\n",
            "Epoch 77/100\n",
            "28/28 [==============================] - 0s 16ms/step - loss: 2.1682e-04 - val_loss: 7.1114e-04\n",
            "Epoch 78/100\n",
            "28/28 [==============================] - 0s 13ms/step - loss: 2.3484e-04 - val_loss: 4.2692e-04\n",
            "Epoch 79/100\n",
            "28/28 [==============================] - 0s 13ms/step - loss: 2.1307e-04 - val_loss: 4.1947e-04\n",
            "Epoch 80/100\n",
            "28/28 [==============================] - 0s 13ms/step - loss: 2.2093e-04 - val_loss: 4.4018e-04\n",
            "Epoch 81/100\n",
            "28/28 [==============================] - 0s 12ms/step - loss: 1.9615e-04 - val_loss: 4.4603e-04\n",
            "Epoch 82/100\n",
            "28/28 [==============================] - 0s 13ms/step - loss: 2.2787e-04 - val_loss: 6.0583e-04\n",
            "Epoch 83/100\n",
            "28/28 [==============================] - 0s 13ms/step - loss: 2.0309e-04 - val_loss: 5.1861e-04\n",
            "Epoch 84/100\n",
            "28/28 [==============================] - 0s 14ms/step - loss: 2.0327e-04 - val_loss: 6.2374e-04\n",
            "Epoch 85/100\n",
            "28/28 [==============================] - 0s 13ms/step - loss: 1.8821e-04 - val_loss: 4.5283e-04\n",
            "Epoch 86/100\n",
            "28/28 [==============================] - 0s 13ms/step - loss: 1.8482e-04 - val_loss: 5.1405e-04\n",
            "Epoch 87/100\n",
            "28/28 [==============================] - 0s 15ms/step - loss: 1.8059e-04 - val_loss: 4.5851e-04\n",
            "Epoch 88/100\n",
            "28/28 [==============================] - 0s 16ms/step - loss: 1.8729e-04 - val_loss: 6.1771e-04\n",
            "Epoch 89/100\n",
            "28/28 [==============================] - 0s 13ms/step - loss: 1.8419e-04 - val_loss: 6.6786e-04\n",
            "Epoch 90/100\n",
            "28/28 [==============================] - 1s 20ms/step - loss: 1.9511e-04 - val_loss: 4.4021e-04\n",
            "Epoch 91/100\n",
            "28/28 [==============================] - 0s 16ms/step - loss: 1.8065e-04 - val_loss: 4.8836e-04\n",
            "Epoch 92/100\n",
            "28/28 [==============================] - 0s 17ms/step - loss: 1.8615e-04 - val_loss: 0.0012\n",
            "Epoch 93/100\n",
            "28/28 [==============================] - 0s 14ms/step - loss: 1.8120e-04 - val_loss: 5.2088e-04\n",
            "Epoch 94/100\n",
            "28/28 [==============================] - 0s 13ms/step - loss: 1.7978e-04 - val_loss: 4.3176e-04\n",
            "Epoch 95/100\n",
            "28/28 [==============================] - 0s 15ms/step - loss: 1.9603e-04 - val_loss: 7.6704e-04\n",
            "Epoch 96/100\n",
            "28/28 [==============================] - 0s 15ms/step - loss: 1.7790e-04 - val_loss: 6.3093e-04\n",
            "Epoch 97/100\n",
            "28/28 [==============================] - 0s 13ms/step - loss: 2.5228e-04 - val_loss: 4.6602e-04\n",
            "Epoch 98/100\n",
            "28/28 [==============================] - 0s 14ms/step - loss: 1.6882e-04 - val_loss: 4.5830e-04\n",
            "Epoch 99/100\n",
            "28/28 [==============================] - 0s 15ms/step - loss: 1.7791e-04 - val_loss: 5.1812e-04\n",
            "Epoch 100/100\n",
            "28/28 [==============================] - 0s 13ms/step - loss: 1.8846e-04 - val_loss: 9.3424e-04\n"
          ]
        },
        {
          "data": {
            "text/plain": [
              "<keras.callbacks.History at 0x7f50c4d35100>"
            ]
          },
          "execution_count": 16,
          "metadata": {},
          "output_type": "execute_result"
        }
      ],
      "source": [
        "model = Sequential()\n",
        "model.add(LSTM(50, return_sequences=True, input_shape=(seq_length, 1)))\n",
        "model.add(LSTM(50))\n",
        "model.add(Dense(1))\n",
        "model.compile(loss='mean_squared_error', optimizer='adam')\n",
        "\n",
        "model.fit(x_train, y_train, validation_split=0.25, epochs=100, batch_size=32)"
      ]
    },
    {
      "cell_type": "code",
      "execution_count": 17,
      "metadata": {},
      "outputs": [
        {
          "data": {
            "text/plain": [
              "(298,)"
            ]
          },
          "execution_count": 17,
          "metadata": {},
          "output_type": "execute_result"
        }
      ],
      "source": [
        "y_test.shape"
      ]
    },
    {
      "cell_type": "code",
      "execution_count": 18,
      "metadata": {},
      "outputs": [
        {
          "data": {
            "text/plain": [
              "(298, 10, 1)"
            ]
          },
          "execution_count": 18,
          "metadata": {},
          "output_type": "execute_result"
        }
      ],
      "source": [
        "x_test.shape"
      ]
    },
    {
      "cell_type": "code",
      "execution_count": 19,
      "metadata": {
        "colab": {
          "base_uri": "https://localhost:8080/",
          "height": 1000
        },
        "id": "-cwPgtdg-Cyz",
        "outputId": "99ee3c59-4ff2-45ff-f2b5-6d9b211b758d"
      },
      "outputs": [
        {
          "name": "stderr",
          "output_type": "stream",
          "text": [
            "2023-05-14 13:16:36.287748: I tensorflow/core/common_runtime/executor.cc:1197] [/device:CPU:0] (DEBUG INFO) Executor start aborting (this does not indicate an error and you can ignore this message): INVALID_ARGUMENT: You must feed a value for placeholder tensor 'gradients/split_2_grad/concat/split_2/split_dim' with dtype int32\n",
            "\t [[{{node gradients/split_2_grad/concat/split_2/split_dim}}]]\n",
            "2023-05-14 13:16:36.289896: I tensorflow/core/common_runtime/executor.cc:1197] [/device:CPU:0] (DEBUG INFO) Executor start aborting (this does not indicate an error and you can ignore this message): INVALID_ARGUMENT: You must feed a value for placeholder tensor 'gradients/split_grad/concat/split/split_dim' with dtype int32\n",
            "\t [[{{node gradients/split_grad/concat/split/split_dim}}]]\n",
            "2023-05-14 13:16:36.292669: I tensorflow/core/common_runtime/executor.cc:1197] [/device:CPU:0] (DEBUG INFO) Executor start aborting (this does not indicate an error and you can ignore this message): INVALID_ARGUMENT: You must feed a value for placeholder tensor 'gradients/split_1_grad/concat/split_1/split_dim' with dtype int32\n",
            "\t [[{{node gradients/split_1_grad/concat/split_1/split_dim}}]]\n",
            "2023-05-14 13:16:36.705627: I tensorflow/core/common_runtime/executor.cc:1197] [/device:CPU:0] (DEBUG INFO) Executor start aborting (this does not indicate an error and you can ignore this message): INVALID_ARGUMENT: You must feed a value for placeholder tensor 'gradients/split_2_grad/concat/split_2/split_dim' with dtype int32\n",
            "\t [[{{node gradients/split_2_grad/concat/split_2/split_dim}}]]\n",
            "2023-05-14 13:16:36.709061: I tensorflow/core/common_runtime/executor.cc:1197] [/device:CPU:0] (DEBUG INFO) Executor start aborting (this does not indicate an error and you can ignore this message): INVALID_ARGUMENT: You must feed a value for placeholder tensor 'gradients/split_grad/concat/split/split_dim' with dtype int32\n",
            "\t [[{{node gradients/split_grad/concat/split/split_dim}}]]\n",
            "2023-05-14 13:16:36.711922: I tensorflow/core/common_runtime/executor.cc:1197] [/device:CPU:0] (DEBUG INFO) Executor start aborting (this does not indicate an error and you can ignore this message): INVALID_ARGUMENT: You must feed a value for placeholder tensor 'gradients/split_1_grad/concat/split_1/split_dim' with dtype int32\n",
            "\t [[{{node gradients/split_1_grad/concat/split_1/split_dim}}]]\n"
          ]
        },
        {
          "name": "stdout",
          "output_type": "stream",
          "text": [
            "10/10 [==============================] - 1s 7ms/step\n",
            "RMSE: 270.84\n",
            "MAE: 216.71\n",
            "MAPE: 17.15%\n"
          ]
        }
      ],
      "source": [
        "predictions = model.predict(x_test)\n",
        "\n",
        "predictions = scaler.inverse_transform(predictions)\n",
        "y_true = scaler.inverse_transform([y_test])\n",
        "\n",
        "\n",
        "\n",
        "rmse = np.sqrt(np.mean(((predictions - y_true) ** 2)))\n",
        "print('RMSE: %.2f' % rmse)\n",
        "\n",
        "mae = np.mean(np.abs(predictions - y_true))\n",
        "print('MAE: %.2f' % mae)\n",
        "\n",
        "mape = np.mean(np.abs((predictions - y_true) / y_true)) * 100\n",
        "print('MAPE: %.2f%%' % mape)\n"
      ]
    },
    {
      "cell_type": "code",
      "execution_count": 20,
      "metadata": {},
      "outputs": [],
      "source": [
        "def forecast_accuracy(forecast, actual):\n",
        "    mape = np.mean(np.abs(forecast - actual)/np.abs(actual))  # Mean Absolute Percentage Error\n",
        "    me = np.mean(forecast - actual)             # ME \n",
        "    mae = np.mean(np.abs(forecast - actual))    # MAE\n",
        "    mpe = np.mean((forecast - actual)/actual)   # MPE\n",
        "    rmse = np.mean((forecast - actual)**2)**.5  # RMSE\n",
        "    corr = np.corrcoef(forecast, actual)[0,1]   # corr\n",
        "    mins = np.amin(np.hstack([forecast[:,None], \n",
        "                              actual[:,None]]), axis=1)\n",
        "    maxs = np.amax(np.hstack([forecast[:,None], \n",
        "                              actual[:,None]]), axis=1)\n",
        "    minmax = 1 - np.mean(mins/maxs)             # minmax\n",
        "    return({'mape':mape, 'me':me, 'mae': mae, \n",
        "            'mpe': mpe, 'rmse':rmse, 'corr':corr, 'minmax':minmax})\n",
        "\n",
        "def adjust(val, length= 6): return str(val).ljust(length)"
      ]
    },
    {
      "cell_type": "code",
      "execution_count": 21,
      "metadata": {},
      "outputs": [
        {
          "name": "stdout",
          "output_type": "stream",
          "text": [
            "\n",
            "Forecast Accuracy of: VN Index\n",
            "mape   :  0.0201\n",
            "me     :  -20.9579\n",
            "mae    :  26.397\n",
            "mpe    :  -0.0154\n",
            "rmse   :  31.3855\n",
            "corr   :  0.9929\n",
            "minmax :  0.0201\n"
          ]
        }
      ],
      "source": [
        "print('\\nForecast Accuracy of: VN Index')\n",
        "accuracy_prod = forecast_accuracy(predictions.flatten(), y_true.flatten())\n",
        "for k, v in accuracy_prod.items():\n",
        "    print(adjust(k), ': ', round(v,4))"
      ]
    },
    {
      "cell_type": "code",
      "execution_count": 22,
      "metadata": {},
      "outputs": [
        {
          "data": {
            "image/png": "[encoded data removed]",
            "text/plain": [
              "<Figure size 1000x600 with 1 Axes>"
            ]
          },
          "metadata": {},
          "output_type": "display_data"
        }
      ],
      "source": [
        "plt.figure(figsize=(10, 6))\n",
        "plt.plot(np.arange(0, y_true.shape[1]), y_true.flatten(), color='blue', label='Actual VN30 Price')\n",
        "plt.plot(np.arange(0, len(predictions)), predictions.flatten(), color='red', label='Predicted VN30 Price')\n",
        "plt.title('VN30 Price Prediction using LSTM')\n",
        "plt.xlabel('Time')\n",
        "plt.ylabel('VN30 Price')\n",
        "plt.legend()\n",
        "plt.show()"
      ]
    },
    {
      "cell_type": "code",
      "execution_count": 23,
      "metadata": {},
      "outputs": [
        {
          "data": {
            "text/plain": [
              "1"
            ]
          },
          "execution_count": 23,
          "metadata": {},
          "output_type": "execute_result"
        }
      ],
      "source": [
        "len(y_true)"
      ]
    }
  ],
  "metadata": {
    "colab": {
      "provenance": []
    },
    "kernelspec": {
      "display_name": "Python 3",
      "name": "python3"
    },
    "language_info": {
      "codemirror_mode": {
        "name": "ipython",
        "version": 3
      },
      "file_extension": ".py",
      "mimetype": "text/x-python",
      "name": "python",
      "nbconvert_exporter": "python",
      "pygments_lexer": "ipython3",
      "version": "3.8.0"
    }
  },
  "nbformat": 4,
  "nbformat_minor": 0
}
