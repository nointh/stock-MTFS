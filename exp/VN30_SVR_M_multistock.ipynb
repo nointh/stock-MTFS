{
  "cells": [
    {
      "attachments": {},
      "cell_type": "markdown",
      "metadata": {
        "id": "view-in-github"
      },
      "source": [
        "<a href=\"https://colab.research.google.com/github/srivatsan88/End-to-End-Time-Series/blob/master/Multivariate_Time_Series_using_VAR.ipynb\" target=\"_parent\"><img src=\"https://colab.research.google.com/assets/colab-badge.svg\" alt=\"Open In Colab\"/></a>"
      ]
    },
    {
      "cell_type": "code",
      "execution_count": 1,
      "metadata": {
        "id": "A8edhGvXoqdT"
      },
      "outputs": [
        {
          "data": {
            "text/html": [
              "<div>\n",
              "<style scoped>\n",
              "    .dataframe tbody tr th:only-of-type {\n",
              "        vertical-align: middle;\n",
              "    }\n",
              "\n",
              "    .dataframe tbody tr th {\n",
              "        vertical-align: top;\n",
              "    }\n",
              "\n",
              "    .dataframe thead th {\n",
              "        text-align: right;\n",
              "    }\n",
              "</style>\n",
              "<table border=\"1\" class=\"dataframe\">\n",
              "  <thead>\n",
              "    <tr style=\"text-align: right;\">\n",
              "      <th></th>\n",
              "      <th>BID</th>\n",
              "      <th>BVH</th>\n",
              "      <th>CTG</th>\n",
              "      <th>FPT</th>\n",
              "      <th>GAS</th>\n",
              "      <th>HPG</th>\n",
              "      <th>KDH</th>\n",
              "      <th>MBB</th>\n",
              "      <th>MSN</th>\n",
              "      <th>MWG</th>\n",
              "      <th>...</th>\n",
              "      <th>PNJ</th>\n",
              "      <th>REE</th>\n",
              "      <th>SBT</th>\n",
              "      <th>SSI</th>\n",
              "      <th>STB</th>\n",
              "      <th>TCH</th>\n",
              "      <th>VCB</th>\n",
              "      <th>VIC</th>\n",
              "      <th>VNM</th>\n",
              "      <th>VN30</th>\n",
              "    </tr>\n",
              "  </thead>\n",
              "  <tbody>\n",
              "    <tr>\n",
              "      <th>2016-12-30</th>\n",
              "      <td>10531.3</td>\n",
              "      <td>58200.0</td>\n",
              "      <td>15050.0</td>\n",
              "      <td>15852.0</td>\n",
              "      <td>60600.0</td>\n",
              "      <td>6770.2</td>\n",
              "      <td>9221.5</td>\n",
              "      <td>5151.6</td>\n",
              "      <td>43200.0</td>\n",
              "      <td>18328.0</td>\n",
              "      <td>...</td>\n",
              "      <td>22097.6</td>\n",
              "      <td>24650.0</td>\n",
              "      <td>20035.1</td>\n",
              "      <td>9521.4</td>\n",
              "      <td>9450.0</td>\n",
              "      <td>12181.1</td>\n",
              "      <td>26307.0</td>\n",
              "      <td>34711.0</td>\n",
              "      <td>99213.0</td>\n",
              "      <td>628.21</td>\n",
              "    </tr>\n",
              "    <tr>\n",
              "      <th>2017-01-03</th>\n",
              "      <td>11235.8</td>\n",
              "      <td>59300.0</td>\n",
              "      <td>16100.0</td>\n",
              "      <td>16158.2</td>\n",
              "      <td>60100.0</td>\n",
              "      <td>6903.6</td>\n",
              "      <td>9198.4</td>\n",
              "      <td>5059.6</td>\n",
              "      <td>43600.0</td>\n",
              "      <td>18411.0</td>\n",
              "      <td>...</td>\n",
              "      <td>22164.0</td>\n",
              "      <td>25000.0</td>\n",
              "      <td>21261.8</td>\n",
              "      <td>9740.0</td>\n",
              "      <td>8790.0</td>\n",
              "      <td>12181.1</td>\n",
              "      <td>27643.0</td>\n",
              "      <td>34380.0</td>\n",
              "      <td>100082.0</td>\n",
              "      <td>633.89</td>\n",
              "    </tr>\n",
              "    <tr>\n",
              "      <th>2017-01-04</th>\n",
              "      <td>11458.3</td>\n",
              "      <td>60100.0</td>\n",
              "      <td>16400.0</td>\n",
              "      <td>16302.3</td>\n",
              "      <td>61500.0</td>\n",
              "      <td>6903.6</td>\n",
              "      <td>9198.4</td>\n",
              "      <td>5004.4</td>\n",
              "      <td>42333.0</td>\n",
              "      <td>18481.0</td>\n",
              "      <td>...</td>\n",
              "      <td>22230.5</td>\n",
              "      <td>25000.0</td>\n",
              "      <td>20771.1</td>\n",
              "      <td>9740.0</td>\n",
              "      <td>8200.0</td>\n",
              "      <td>12109.0</td>\n",
              "      <td>27457.0</td>\n",
              "      <td>34752.0</td>\n",
              "      <td>100240.0</td>\n",
              "      <td>632.70</td>\n",
              "    </tr>\n",
              "    <tr>\n",
              "      <th>2017-01-05</th>\n",
              "      <td>11421.2</td>\n",
              "      <td>61100.0</td>\n",
              "      <td>16500.0</td>\n",
              "      <td>16248.3</td>\n",
              "      <td>61500.0</td>\n",
              "      <td>6919.3</td>\n",
              "      <td>8944.8</td>\n",
              "      <td>4967.6</td>\n",
              "      <td>42067.0</td>\n",
              "      <td>18540.0</td>\n",
              "      <td>...</td>\n",
              "      <td>22263.7</td>\n",
              "      <td>25300.0</td>\n",
              "      <td>20607.6</td>\n",
              "      <td>9764.3</td>\n",
              "      <td>8580.0</td>\n",
              "      <td>12289.2</td>\n",
              "      <td>27569.0</td>\n",
              "      <td>34959.0</td>\n",
              "      <td>100082.0</td>\n",
              "      <td>634.83</td>\n",
              "    </tr>\n",
              "    <tr>\n",
              "      <th>2017-01-06</th>\n",
              "      <td>11680.8</td>\n",
              "      <td>61400.0</td>\n",
              "      <td>16650.0</td>\n",
              "      <td>16194.3</td>\n",
              "      <td>60400.0</td>\n",
              "      <td>6809.4</td>\n",
              "      <td>9083.2</td>\n",
              "      <td>5059.6</td>\n",
              "      <td>42133.0</td>\n",
              "      <td>18540.0</td>\n",
              "      <td>...</td>\n",
              "      <td>22895.1</td>\n",
              "      <td>25000.0</td>\n",
              "      <td>20525.8</td>\n",
              "      <td>9861.4</td>\n",
              "      <td>8780.0</td>\n",
              "      <td>12217.1</td>\n",
              "      <td>28125.0</td>\n",
              "      <td>35620.0</td>\n",
              "      <td>99529.0</td>\n",
              "      <td>636.34</td>\n",
              "    </tr>\n",
              "  </tbody>\n",
              "</table>\n",
              "<p>5 rows × 22 columns</p>\n",
              "</div>"
            ],
            "text/plain": [
              "                BID      BVH      CTG      FPT      GAS     HPG     KDH  \\\n",
              "2016-12-30  10531.3  58200.0  15050.0  15852.0  60600.0  6770.2  9221.5   \n",
              "2017-01-03  11235.8  59300.0  16100.0  16158.2  60100.0  6903.6  9198.4   \n",
              "2017-01-04  11458.3  60100.0  16400.0  16302.3  61500.0  6903.6  9198.4   \n",
              "2017-01-05  11421.2  61100.0  16500.0  16248.3  61500.0  6919.3  8944.8   \n",
              "2017-01-06  11680.8  61400.0  16650.0  16194.3  60400.0  6809.4  9083.2   \n",
              "\n",
              "               MBB      MSN      MWG  ...      PNJ      REE      SBT     SSI  \\\n",
              "2016-12-30  5151.6  43200.0  18328.0  ...  22097.6  24650.0  20035.1  9521.4   \n",
              "2017-01-03  5059.6  43600.0  18411.0  ...  22164.0  25000.0  21261.8  9740.0   \n",
              "2017-01-04  5004.4  42333.0  18481.0  ...  22230.5  25000.0  20771.1  9740.0   \n",
              "2017-01-05  4967.6  42067.0  18540.0  ...  22263.7  25300.0  20607.6  9764.3   \n",
              "2017-01-06  5059.6  42133.0  18540.0  ...  22895.1  25000.0  20525.8  9861.4   \n",
              "\n",
              "               STB      TCH      VCB      VIC       VNM    VN30  \n",
              "2016-12-30  9450.0  12181.1  26307.0  34711.0   99213.0  628.21  \n",
              "2017-01-03  8790.0  12181.1  27643.0  34380.0  100082.0  633.89  \n",
              "2017-01-04  8200.0  12109.0  27457.0  34752.0  100240.0  632.70  \n",
              "2017-01-05  8580.0  12289.2  27569.0  34959.0  100082.0  634.83  \n",
              "2017-01-06  8780.0  12217.1  28125.0  35620.0   99529.0  636.34  \n",
              "\n",
              "[5 rows x 22 columns]"
            ]
          },
          "execution_count": 1,
          "metadata": {},
          "output_type": "execute_result"
        }
      ],
      "source": [
        "from math import sqrt\n",
        "import numpy as np\n",
        "import pandas as pd\n",
        "from matplotlib import pyplot as plt\n",
        "from pandas import read_csv\n",
        "from pandas import DataFrame\n",
        "from pandas import concat\n",
        "from sklearn.preprocessing import MinMaxScaler\n",
        "from sklearn import linear_model\n",
        "from sklearn.metrics import mean_squared_error\n",
        "from sklearn.ensemble import RandomForestRegressor\n",
        "from sklearn.multioutput import MultiOutputRegressor\n",
        "from sklearn.svm import SVR\n",
        "\n",
        "# load dataset\n",
        "stock_price_df = read_csv('./data/VN30_price.csv', header=0, index_col=0)\n",
        "values = stock_price_df.values\n",
        "# ensure all data is float\n",
        "values = values.astype('float32')\n",
        "# normalize features\n",
        "stock_price_df.head()"
      ]
    },
    {
      "cell_type": "code",
      "execution_count": 2,
      "metadata": {},
      "outputs": [],
      "source": [
        "column_names = stock_price_df.columns"
      ]
    },
    {
      "cell_type": "code",
      "execution_count": 3,
      "metadata": {},
      "outputs": [],
      "source": [
        "# convert series to supervised learning\n",
        "def series_to_supervised(data, n_in=1, n_out=1, dropnan=True):\n",
        "\tn_vars = 1 if type(data) is list else data.shape[1]\n",
        "\tdf = DataFrame(data)\n",
        "\tcols, names = list(), list()\n",
        "\t# input sequence (t-n, ... t-1)\n",
        "\tfor i in range(n_in, 0, -1):\n",
        "\t\tcols.append(df.shift(i))\n",
        "\t\tnames += [('{}(t-{})'.format(column_names[j], i)) for j in range(n_vars)]\n",
        "\t# forecast sequence (t, t+1, ... t+n)\n",
        "\tfor i in range(0, n_out):\n",
        "\t\tcols.append(df.shift(-i))\n",
        "\t\tif i == 0:\n",
        "\t\t\tnames += [('{}(t)'.format(column_names[j])) for j in range(n_vars)]\n",
        "\t\telse:\n",
        "\t\t\tnames += [('{}(t+{})'.format(column_names[j], i)) for j in range(n_vars)]\n",
        "\t# put it all together\n",
        "\tagg = concat(cols, axis=1)\n",
        "\tagg.columns = names\n",
        "\t# drop rows with NaN values\n",
        "\tif dropnan:\n",
        "\t\tagg.dropna(inplace=True)\n",
        "\treturn agg\n"
      ]
    },
    {
      "cell_type": "code",
      "execution_count": 4,
      "metadata": {
        "id": "6_eLe27stfKq"
      },
      "outputs": [],
      "source": [
        "Shift_df = stock_price_df.copy()"
      ]
    },
    {
      "cell_type": "code",
      "execution_count": 5,
      "metadata": {},
      "outputs": [],
      "source": [
        "for col in column_names:\n",
        "    stock_price_df[\"Diff\" + column_names] = stock_price_df[column_names].diff()"
      ]
    },
    {
      "cell_type": "code",
      "execution_count": 6,
      "metadata": {},
      "outputs": [],
      "source": [
        "n_days_lag = 10\n",
        "n_features = len(column_names)\n",
        "\n",
        "reframed = series_to_supervised(stock_price_df[[f\"Diff{col}\" for col in column_names]], n_days_lag, 1)\n"
      ]
    },
    {
      "cell_type": "code",
      "execution_count": 7,
      "metadata": {},
      "outputs": [
        {
          "data": {
            "text/html": [
              "<div>\n",
              "<style scoped>\n",
              "    .dataframe tbody tr th:only-of-type {\n",
              "        vertical-align: middle;\n",
              "    }\n",
              "\n",
              "    .dataframe tbody tr th {\n",
              "        vertical-align: top;\n",
              "    }\n",
              "\n",
              "    .dataframe thead th {\n",
              "        text-align: right;\n",
              "    }\n",
              "</style>\n",
              "<table border=\"1\" class=\"dataframe\">\n",
              "  <thead>\n",
              "    <tr style=\"text-align: right;\">\n",
              "      <th></th>\n",
              "      <th>BID(t-10)</th>\n",
              "      <th>BVH(t-10)</th>\n",
              "      <th>CTG(t-10)</th>\n",
              "      <th>FPT(t-10)</th>\n",
              "      <th>GAS(t-10)</th>\n",
              "      <th>HPG(t-10)</th>\n",
              "      <th>KDH(t-10)</th>\n",
              "      <th>MBB(t-10)</th>\n",
              "      <th>MSN(t-10)</th>\n",
              "      <th>MWG(t-10)</th>\n",
              "      <th>...</th>\n",
              "      <th>PNJ(t)</th>\n",
              "      <th>REE(t)</th>\n",
              "      <th>SBT(t)</th>\n",
              "      <th>SSI(t)</th>\n",
              "      <th>STB(t)</th>\n",
              "      <th>TCH(t)</th>\n",
              "      <th>VCB(t)</th>\n",
              "      <th>VIC(t)</th>\n",
              "      <th>VNM(t)</th>\n",
              "      <th>VN30(t)</th>\n",
              "    </tr>\n",
              "  </thead>\n",
              "  <tbody>\n",
              "    <tr>\n",
              "      <th>2017-01-17</th>\n",
              "      <td>704.5</td>\n",
              "      <td>1100.0</td>\n",
              "      <td>1050.0</td>\n",
              "      <td>306.2</td>\n",
              "      <td>-500.0</td>\n",
              "      <td>133.4</td>\n",
              "      <td>-23.1</td>\n",
              "      <td>-92.0</td>\n",
              "      <td>400.0</td>\n",
              "      <td>83.0</td>\n",
              "      <td>...</td>\n",
              "      <td>-66.5</td>\n",
              "      <td>0.0</td>\n",
              "      <td>0.0</td>\n",
              "      <td>97.2</td>\n",
              "      <td>280.0</td>\n",
              "      <td>-360.3</td>\n",
              "      <td>1187.0</td>\n",
              "      <td>-165.0</td>\n",
              "      <td>-316.0</td>\n",
              "      <td>4.84</td>\n",
              "    </tr>\n",
              "    <tr>\n",
              "      <th>2017-01-18</th>\n",
              "      <td>222.5</td>\n",
              "      <td>800.0</td>\n",
              "      <td>300.0</td>\n",
              "      <td>144.1</td>\n",
              "      <td>1400.0</td>\n",
              "      <td>0.0</td>\n",
              "      <td>0.0</td>\n",
              "      <td>-55.2</td>\n",
              "      <td>-1267.0</td>\n",
              "      <td>70.0</td>\n",
              "      <td>...</td>\n",
              "      <td>99.7</td>\n",
              "      <td>750.0</td>\n",
              "      <td>0.0</td>\n",
              "      <td>-97.2</td>\n",
              "      <td>210.0</td>\n",
              "      <td>-144.2</td>\n",
              "      <td>-482.0</td>\n",
              "      <td>-455.0</td>\n",
              "      <td>-79.0</td>\n",
              "      <td>-4.44</td>\n",
              "    </tr>\n",
              "    <tr>\n",
              "      <th>2017-01-19</th>\n",
              "      <td>-37.1</td>\n",
              "      <td>1000.0</td>\n",
              "      <td>100.0</td>\n",
              "      <td>-54.0</td>\n",
              "      <td>0.0</td>\n",
              "      <td>15.7</td>\n",
              "      <td>-253.6</td>\n",
              "      <td>-36.8</td>\n",
              "      <td>-266.0</td>\n",
              "      <td>59.0</td>\n",
              "      <td>...</td>\n",
              "      <td>0.0</td>\n",
              "      <td>0.0</td>\n",
              "      <td>-245.3</td>\n",
              "      <td>-121.4</td>\n",
              "      <td>140.0</td>\n",
              "      <td>-108.1</td>\n",
              "      <td>-223.0</td>\n",
              "      <td>-82.0</td>\n",
              "      <td>0.0</td>\n",
              "      <td>-2.10</td>\n",
              "    </tr>\n",
              "    <tr>\n",
              "      <th>2017-01-20</th>\n",
              "      <td>259.6</td>\n",
              "      <td>300.0</td>\n",
              "      <td>150.0</td>\n",
              "      <td>-54.0</td>\n",
              "      <td>-1100.0</td>\n",
              "      <td>-109.9</td>\n",
              "      <td>138.4</td>\n",
              "      <td>92.0</td>\n",
              "      <td>66.0</td>\n",
              "      <td>0.0</td>\n",
              "      <td>...</td>\n",
              "      <td>0.0</td>\n",
              "      <td>-150.0</td>\n",
              "      <td>245.3</td>\n",
              "      <td>0.0</td>\n",
              "      <td>-90.0</td>\n",
              "      <td>756.8</td>\n",
              "      <td>0.0</td>\n",
              "      <td>0.0</td>\n",
              "      <td>790.0</td>\n",
              "      <td>3.28</td>\n",
              "    </tr>\n",
              "    <tr>\n",
              "      <th>2017-01-23</th>\n",
              "      <td>333.7</td>\n",
              "      <td>200.0</td>\n",
              "      <td>450.0</td>\n",
              "      <td>90.0</td>\n",
              "      <td>100.0</td>\n",
              "      <td>-39.2</td>\n",
              "      <td>0.0</td>\n",
              "      <td>-18.4</td>\n",
              "      <td>-400.0</td>\n",
              "      <td>-129.0</td>\n",
              "      <td>...</td>\n",
              "      <td>0.0</td>\n",
              "      <td>-750.0</td>\n",
              "      <td>-81.7</td>\n",
              "      <td>-72.9</td>\n",
              "      <td>50.0</td>\n",
              "      <td>0.0</td>\n",
              "      <td>75.0</td>\n",
              "      <td>0.0</td>\n",
              "      <td>790.0</td>\n",
              "      <td>1.14</td>\n",
              "    </tr>\n",
              "  </tbody>\n",
              "</table>\n",
              "<p>5 rows × 242 columns</p>\n",
              "</div>"
            ],
            "text/plain": [
              "            BID(t-10)  BVH(t-10)  CTG(t-10)  FPT(t-10)  GAS(t-10)  HPG(t-10)  \\\n",
              "2017-01-17      704.5     1100.0     1050.0      306.2     -500.0      133.4   \n",
              "2017-01-18      222.5      800.0      300.0      144.1     1400.0        0.0   \n",
              "2017-01-19      -37.1     1000.0      100.0      -54.0        0.0       15.7   \n",
              "2017-01-20      259.6      300.0      150.0      -54.0    -1100.0     -109.9   \n",
              "2017-01-23      333.7      200.0      450.0       90.0      100.0      -39.2   \n",
              "\n",
              "            KDH(t-10)  MBB(t-10)  MSN(t-10)  MWG(t-10)  ...  PNJ(t)  REE(t)  \\\n",
              "2017-01-17      -23.1      -92.0      400.0       83.0  ...   -66.5     0.0   \n",
              "2017-01-18        0.0      -55.2    -1267.0       70.0  ...    99.7   750.0   \n",
              "2017-01-19     -253.6      -36.8     -266.0       59.0  ...     0.0     0.0   \n",
              "2017-01-20      138.4       92.0       66.0        0.0  ...     0.0  -150.0   \n",
              "2017-01-23        0.0      -18.4     -400.0     -129.0  ...     0.0  -750.0   \n",
              "\n",
              "            SBT(t)  SSI(t)  STB(t)  TCH(t)  VCB(t)  VIC(t)  VNM(t)  VN30(t)  \n",
              "2017-01-17     0.0    97.2   280.0  -360.3  1187.0  -165.0  -316.0     4.84  \n",
              "2017-01-18     0.0   -97.2   210.0  -144.2  -482.0  -455.0   -79.0    -4.44  \n",
              "2017-01-19  -245.3  -121.4   140.0  -108.1  -223.0   -82.0     0.0    -2.10  \n",
              "2017-01-20   245.3     0.0   -90.0   756.8     0.0     0.0   790.0     3.28  \n",
              "2017-01-23   -81.7   -72.9    50.0     0.0    75.0     0.0   790.0     1.14  \n",
              "\n",
              "[5 rows x 242 columns]"
            ]
          },
          "execution_count": 7,
          "metadata": {},
          "output_type": "execute_result"
        }
      ],
      "source": [
        "reframed.head()"
      ]
    },
    {
      "cell_type": "code",
      "execution_count": 8,
      "metadata": {
        "colab": {
          "base_uri": "https://localhost:8080/"
        },
        "id": "zflJjxO9_k4H",
        "outputId": "b30c3928-aac3-48fe-adbb-49d57e2ad999"
      },
      "outputs": [
        {
          "name": "stdout",
          "output_type": "stream",
          "text": [
            "(1191, 220) (1191, 22) (298, 220) (298, 22)\n"
          ]
        }
      ],
      "source": [
        "# split into train and test sets\n",
        "n_obs = n_days_lag * n_features\n",
        "\n",
        "values = reframed.values\n",
        "n_train_days = int(len(reframed.index) * 0.8)\n",
        "train = values[:n_train_days, :]\n",
        "test = values[n_train_days:, :]\n",
        "# split into input and outputs\n",
        "#y is the VN30 price\n",
        "train_X, train_y = train[:, :n_obs], train[:, n_obs:]\n",
        "test_X, test_y = test[:, :n_obs], test[:, n_obs:]\n",
        "# reshape input to be 3D [samples, timesteps, features]\n",
        "# train_X = train_X.reshape((train_X.shape[0], n_days_lag, n_features))\n",
        "# test_X = test_X.reshape((test_X.shape[0], n_days_lag, n_features))\n",
        "print(train_X.shape, train_y.shape, test_X.shape, test_y.shape)"
      ]
    },
    {
      "cell_type": "code",
      "execution_count": 9,
      "metadata": {},
      "outputs": [],
      "source": [
        "test_df = stock_price_df[n_train_days:]\n",
        "train_df = stock_price_df[:n_train_days]"
      ]
    },
    {
      "cell_type": "code",
      "execution_count": 10,
      "metadata": {},
      "outputs": [
        {
          "data": {
            "text/html": [
              "<style>#sk-container-id-1 {color: black;background-color: white;}#sk-container-id-1 pre{padding: 0;}#sk-container-id-1 div.sk-toggleable {background-color: white;}#sk-container-id-1 label.sk-toggleable__label {cursor: pointer;display: block;width: 100%;margin-bottom: 0;padding: 0.3em;box-sizing: border-box;text-align: center;}#sk-container-id-1 label.sk-toggleable__label-arrow:before {content: \"▸\";float: left;margin-right: 0.25em;color: #696969;}#sk-container-id-1 label.sk-toggleable__label-arrow:hover:before {color: black;}#sk-container-id-1 div.sk-estimator:hover label.sk-toggleable__label-arrow:before {color: black;}#sk-container-id-1 div.sk-toggleable__content {max-height: 0;max-width: 0;overflow: hidden;text-align: left;background-color: #f0f8ff;}#sk-container-id-1 div.sk-toggleable__content pre {margin: 0.2em;color: black;border-radius: 0.25em;background-color: #f0f8ff;}#sk-container-id-1 input.sk-toggleable__control:checked~div.sk-toggleable__content {max-height: 200px;max-width: 100%;overflow: auto;}#sk-container-id-1 input.sk-toggleable__control:checked~label.sk-toggleable__label-arrow:before {content: \"▾\";}#sk-container-id-1 div.sk-estimator input.sk-toggleable__control:checked~label.sk-toggleable__label {background-color: #d4ebff;}#sk-container-id-1 div.sk-label input.sk-toggleable__control:checked~label.sk-toggleable__label {background-color: #d4ebff;}#sk-container-id-1 input.sk-hidden--visually {border: 0;clip: rect(1px 1px 1px 1px);clip: rect(1px, 1px, 1px, 1px);height: 1px;margin: -1px;overflow: hidden;padding: 0;position: absolute;width: 1px;}#sk-container-id-1 div.sk-estimator {font-family: monospace;background-color: #f0f8ff;border: 1px dotted black;border-radius: 0.25em;box-sizing: border-box;margin-bottom: 0.5em;}#sk-container-id-1 div.sk-estimator:hover {background-color: #d4ebff;}#sk-container-id-1 div.sk-parallel-item::after {content: \"\";width: 100%;border-bottom: 1px solid gray;flex-grow: 1;}#sk-container-id-1 div.sk-label:hover label.sk-toggleable__label {background-color: #d4ebff;}#sk-container-id-1 div.sk-serial::before {content: \"\";position: absolute;border-left: 1px solid gray;box-sizing: border-box;top: 0;bottom: 0;left: 50%;z-index: 0;}#sk-container-id-1 div.sk-serial {display: flex;flex-direction: column;align-items: center;background-color: white;padding-right: 0.2em;padding-left: 0.2em;position: relative;}#sk-container-id-1 div.sk-item {position: relative;z-index: 1;}#sk-container-id-1 div.sk-parallel {display: flex;align-items: stretch;justify-content: center;background-color: white;position: relative;}#sk-container-id-1 div.sk-item::before, #sk-container-id-1 div.sk-parallel-item::before {content: \"\";position: absolute;border-left: 1px solid gray;box-sizing: border-box;top: 0;bottom: 0;left: 50%;z-index: -1;}#sk-container-id-1 div.sk-parallel-item {display: flex;flex-direction: column;z-index: 1;position: relative;background-color: white;}#sk-container-id-1 div.sk-parallel-item:first-child::after {align-self: flex-end;width: 50%;}#sk-container-id-1 div.sk-parallel-item:last-child::after {align-self: flex-start;width: 50%;}#sk-container-id-1 div.sk-parallel-item:only-child::after {width: 0;}#sk-container-id-1 div.sk-dashed-wrapped {border: 1px dashed gray;margin: 0 0.4em 0.5em 0.4em;box-sizing: border-box;padding-bottom: 0.4em;background-color: white;}#sk-container-id-1 div.sk-label label {font-family: monospace;font-weight: bold;display: inline-block;line-height: 1.2em;}#sk-container-id-1 div.sk-label-container {text-align: center;}#sk-container-id-1 div.sk-container {/* jupyter's `normalize.less` sets `[hidden] { display: none; }` but bootstrap.min.css set `[hidden] { display: none !important; }` so we also need the `!important` here to be able to override the default hidden behavior on the sphinx rendered scikit-learn.org. See: https://github.com/scikit-learn/scikit-learn/issues/21755 */display: inline-block !important;position: relative;}#sk-container-id-1 div.sk-text-repr-fallback {display: none;}</style><div id=\"sk-container-id-1\" class=\"sk-top-container\"><div class=\"sk-text-repr-fallback\"><pre>MultiOutputRegressor(estimator=SVR(epsilon=0.2))</pre><b>In a Jupyter environment, please rerun this cell to show the HTML representation or trust the notebook. <br />On GitHub, the HTML representation is unable to render, please try loading this page with nbviewer.org.</b></div><div class=\"sk-container\" hidden><div class=\"sk-item sk-dashed-wrapped\"><div class=\"sk-label-container\"><div class=\"sk-label sk-toggleable\"><input class=\"sk-toggleable__control sk-hidden--visually\" id=\"sk-estimator-id-1\" type=\"checkbox\" ><label for=\"sk-estimator-id-1\" class=\"sk-toggleable__label sk-toggleable__label-arrow\">MultiOutputRegressor</label><div class=\"sk-toggleable__content\"><pre>MultiOutputRegressor(estimator=SVR(epsilon=0.2))</pre></div></div></div><div class=\"sk-parallel\"><div class=\"sk-parallel-item\"><div class=\"sk-item\"><div class=\"sk-label-container\"><div class=\"sk-label sk-toggleable\"><input class=\"sk-toggleable__control sk-hidden--visually\" id=\"sk-estimator-id-2\" type=\"checkbox\" ><label for=\"sk-estimator-id-2\" class=\"sk-toggleable__label sk-toggleable__label-arrow\">estimator: SVR</label><div class=\"sk-toggleable__content\"><pre>SVR(epsilon=0.2)</pre></div></div></div><div class=\"sk-serial\"><div class=\"sk-item\"><div class=\"sk-estimator sk-toggleable\"><input class=\"sk-toggleable__control sk-hidden--visually\" id=\"sk-estimator-id-3\" type=\"checkbox\" ><label for=\"sk-estimator-id-3\" class=\"sk-toggleable__label sk-toggleable__label-arrow\">SVR</label><div class=\"sk-toggleable__content\"><pre>SVR(epsilon=0.2)</pre></div></div></div></div></div></div></div></div></div></div>"
            ],
            "text/plain": [
              "MultiOutputRegressor(estimator=SVR(epsilon=0.2))"
            ]
          },
          "execution_count": 10,
          "metadata": {},
          "output_type": "execute_result"
        }
      ],
      "source": [
        "SVR_model = RandomForestRegressor()\n",
        "svr = SVR(epsilon=0.2)\n",
        "\n",
        "# Create the Multioutput Regressor\n",
        "SVR_model = MultiOutputRegressor(svr)\n",
        "\n",
        "SVR_model.fit(train_X, train_y)\n"
      ]
    },
    {
      "cell_type": "code",
      "execution_count": 11,
      "metadata": {},
      "outputs": [],
      "source": [
        "train_idx = stock_price_df.index <= reframed[:n_train_days].index[-1]\n",
        "test_idx = ~train_idx\n",
        "\n",
        "train_idx[:n_days_lag+1] = False"
      ]
    },
    {
      "cell_type": "code",
      "execution_count": 12,
      "metadata": {},
      "outputs": [
        {
          "data": {
            "text/plain": [
              "0.0028920184249984116"
            ]
          },
          "execution_count": 12,
          "metadata": {},
          "output_type": "execute_result"
        }
      ],
      "source": [
        "SVR_model.score(train_X, train_y)"
      ]
    },
    {
      "cell_type": "code",
      "execution_count": 13,
      "metadata": {},
      "outputs": [
        {
          "data": {
            "text/plain": [
              "-0.006326709565596515"
            ]
          },
          "execution_count": 13,
          "metadata": {},
          "output_type": "execute_result"
        }
      ],
      "source": [
        "SVR_model.score(test_X, test_y)"
      ]
    },
    {
      "cell_type": "code",
      "execution_count": 14,
      "metadata": {},
      "outputs": [
        {
          "data": {
            "text/plain": [
              "(1191,)"
            ]
          },
          "execution_count": 14,
          "metadata": {},
          "output_type": "execute_result"
        }
      ],
      "source": [
        "SVR_model.predict(train_X)[:, 1].shape"
      ]
    },
    {
      "cell_type": "code",
      "execution_count": 15,
      "metadata": {},
      "outputs": [],
      "source": [
        "for i, col in enumerate(column_names):\n",
        "    stock_price_df[f'Shift{col}'] = stock_price_df[col].shift(1)\n",
        "    prev = stock_price_df[f'Shift{col}']\n",
        "    stock_price_df.loc[train_idx, f'{col}-SVR_1_step_train'] = prev[train_idx] + SVR_model.predict(train_X)[:, i]\n",
        "    stock_price_df.loc[test_idx, f'{col}-SVR_1_step_test'] = prev[test_idx] + SVR_model.predict(test_X)[:, i]"
      ]
    },
    {
      "cell_type": "code",
      "execution_count": 16,
      "metadata": {},
      "outputs": [],
      "source": [
        "observe_date = reframed[n_train_days-10:].index[0]"
      ]
    },
    {
      "cell_type": "code",
      "execution_count": 17,
      "metadata": {},
      "outputs": [
        {
          "data": {
            "text/plain": [
              "<Axes: >"
            ]
          },
          "execution_count": 17,
          "metadata": {},
          "output_type": "execute_result"
        },
        {
          "data": {
            "text/plain": [
              "<Figure size 1000x600 with 0 Axes>"
            ]
          },
          "metadata": {},
          "output_type": "display_data"
        },
        {
          "data": {
            "image/png": "[encoded data removed]",
            "text/plain": [
              "<Figure size 1500x500 with 1 Axes>"
            ]
          },
          "metadata": {},
          "output_type": "display_data"
        }
      ],
      "source": [
        "plt.figure(figsize=(10, 6))\n",
        "stock_price_df[stock_price_df.index > observe_date][['VN30', 'VN30-SVR_1_step_train', 'VN30-SVR_1_step_test']].plot(figsize=(15,5))"
      ]
    },
    {
      "cell_type": "code",
      "execution_count": 18,
      "metadata": {},
      "outputs": [
        {
          "data": {
            "text/plain": [
              "(1, 220)"
            ]
          },
          "execution_count": 18,
          "metadata": {},
          "output_type": "execute_result"
        }
      ],
      "source": [
        "test_X[[0], :].shape"
      ]
    },
    {
      "cell_type": "code",
      "execution_count": 19,
      "metadata": {},
      "outputs": [
        {
          "data": {
            "text/plain": [
              "array([[  197.8 ,   -99.  ,  -195.2 , ...,   300.  ,  -380.4 ,   -11.74],\n",
              "       [ -277.  , -1873.  ,   -97.6 , ...,   100.  ,  -475.4 ,     5.65],\n",
              "       [ -277.  ,   -99.  ,   -97.7 , ...,  2800.  ,   760.7 ,    33.84],\n",
              "       ...,\n",
              "       [  100.  ,  -150.  ,  -250.  , ...,   500.  ,   600.  ,    19.59],\n",
              "       [  200.  ,  -250.  ,   350.  , ...,   100.  ,   400.  ,     6.59],\n",
              "       [ -100.  ,   100.  ,  -200.  , ...,   100.  ,     0.  ,    -5.65]])"
            ]
          },
          "execution_count": 19,
          "metadata": {},
          "output_type": "execute_result"
        }
      ],
      "source": [
        "test_X"
      ]
    },
    {
      "cell_type": "code",
      "execution_count": 20,
      "metadata": {},
      "outputs": [],
      "source": [
        "n_observe_days = 5\n",
        "multistep_forecasting = []\n",
        "last_x = test_X[[0]]\n",
        "while len(multistep_forecasting) < n_observe_days:\n",
        "    p = SVR_model.predict(last_x)\n",
        "    multistep_forecasting.append(p)\n",
        "    last_x = np.roll(last_x, -n_features)\n",
        "    for i in range(n_features):\n",
        "        last_x[0, -(n_features-i)] = p[0, i]\n"
      ]
    },
    {
      "cell_type": "code",
      "execution_count": 21,
      "metadata": {},
      "outputs": [
        {
          "data": {
            "text/plain": [
              "5"
            ]
          },
          "execution_count": 21,
          "metadata": {},
          "output_type": "execute_result"
        }
      ],
      "source": [
        "import copy\n",
        "multistep_idx = copy.deepcopy(test_idx)\n",
        "multistep_idx[n_train_days+n_days_lag+1+n_observe_days:] = False\n",
        "multistep_idx.sum()"
      ]
    },
    {
      "cell_type": "code",
      "execution_count": 22,
      "metadata": {},
      "outputs": [],
      "source": [
        "for i, col in enumerate(column_names):\n",
        "    last_train = stock_price_df.iloc[n_train_days+n_days_lag][col]\n",
        "    stock_price_df.loc[multistep_idx, f'{col}-SVR_multistep'] = last_train + np.cumsum([p[0,i] for  p in multistep_forecasting])"
      ]
    },
    {
      "cell_type": "code",
      "execution_count": 23,
      "metadata": {},
      "outputs": [
        {
          "data": {
            "text/plain": [
              "<Axes: >"
            ]
          },
          "execution_count": 23,
          "metadata": {},
          "output_type": "execute_result"
        },
        {
          "data": {
            "image/png": "[encoded data removed]",
            "text/plain": [
              "<Figure size 1500x500 with 1 Axes>"
            ]
          },
          "metadata": {},
          "output_type": "display_data"
        }
      ],
      "source": [
        "stock_price_df[multistep_idx][['VN30', 'VN30-SVR_multistep', 'VN30-SVR_1_step_test']].plot(figsize=(15,5))"
      ]
    },
    {
      "cell_type": "code",
      "execution_count": 24,
      "metadata": {},
      "outputs": [],
      "source": [
        "from joblib import dump, load\n",
        "\n",
        "dump(SVR_model, 'SVR_model.joblib')\n",
        "\n",
        "SVR_model = load('SVR_model.joblib')\n",
        "\n",
        "\n",
        "Shift_df = stock_price_df.copy()\n",
        "for col in column_names:\n",
        "    stock_price_df[f\"Diff{col}\"] = stock_price_df[col].diff()\n",
        "\n",
        "n_days_lag = 10\n",
        "n_features = len(column_names)\n",
        "reframed = series_to_supervised(stock_price_df[[f\"Diff{col}\" for col in column_names]], n_days_lag, 1)\n",
        "n_obs = n_days_lag * n_features\n",
        "\n",
        "last_input_sequence = reframed.values[-1:, :n_obs]\n",
        "\n"
      ]
    },
    {
      "cell_type": "code",
      "execution_count": 25,
      "metadata": {},
      "outputs": [
        {
          "data": {
            "text/plain": [
              "(1, 220)"
            ]
          },
          "execution_count": 25,
          "metadata": {},
          "output_type": "execute_result"
        }
      ],
      "source": [
        "last_input_sequence.shape"
      ]
    },
    {
      "cell_type": "code",
      "execution_count": 26,
      "metadata": {},
      "outputs": [],
      "source": [
        "a = []\n",
        "b = np.random.rand(1, 22)\n",
        "a.append(b)"
      ]
    },
    {
      "cell_type": "code",
      "execution_count": 27,
      "metadata": {},
      "outputs": [
        {
          "data": {
            "text/plain": [
              "(1, 22)"
            ]
          },
          "execution_count": 27,
          "metadata": {},
          "output_type": "execute_result"
        }
      ],
      "source": [
        "prediction = SVR_model.predict(last_input_sequence)\n",
        "prediction.shape"
      ]
    },
    {
      "cell_type": "code",
      "execution_count": 28,
      "metadata": {},
      "outputs": [
        {
          "data": {
            "text/plain": [
              "(22,)"
            ]
          },
          "execution_count": 28,
          "metadata": {},
          "output_type": "execute_result"
        }
      ],
      "source": [
        "last_values = stock_price_df[column_names].iloc[-1]\n",
        "last_values.shape"
      ]
    },
    {
      "attachments": {},
      "cell_type": "markdown",
      "metadata": {},
      "source": [
        "PREDICT HERE"
      ]
    },
    {
      "cell_type": "code",
      "execution_count": 29,
      "metadata": {},
      "outputs": [
        {
          "data": {
            "text/html": [
              "<div>\n",
              "<style scoped>\n",
              "    .dataframe tbody tr th:only-of-type {\n",
              "        vertical-align: middle;\n",
              "    }\n",
              "\n",
              "    .dataframe tbody tr th {\n",
              "        vertical-align: top;\n",
              "    }\n",
              "\n",
              "    .dataframe thead th {\n",
              "        text-align: right;\n",
              "    }\n",
              "</style>\n",
              "<table border=\"1\" class=\"dataframe\">\n",
              "  <thead>\n",
              "    <tr style=\"text-align: right;\">\n",
              "      <th></th>\n",
              "      <th>BID</th>\n",
              "      <th>BVH</th>\n",
              "      <th>CTG</th>\n",
              "      <th>FPT</th>\n",
              "      <th>GAS</th>\n",
              "      <th>HPG</th>\n",
              "      <th>KDH</th>\n",
              "      <th>MBB</th>\n",
              "      <th>MSN</th>\n",
              "      <th>MWG</th>\n",
              "      <th>...</th>\n",
              "      <th>PNJ</th>\n",
              "      <th>REE</th>\n",
              "      <th>SBT</th>\n",
              "      <th>SSI</th>\n",
              "      <th>STB</th>\n",
              "      <th>TCH</th>\n",
              "      <th>VCB</th>\n",
              "      <th>VIC</th>\n",
              "      <th>VNM</th>\n",
              "      <th>VN30</th>\n",
              "    </tr>\n",
              "  </thead>\n",
              "  <tbody>\n",
              "    <tr>\n",
              "      <th>0</th>\n",
              "      <td>38601.539501</td>\n",
              "      <td>46599.617505</td>\n",
              "      <td>27249.998460</td>\n",
              "      <td>76928.199741</td>\n",
              "      <td>101503.477836</td>\n",
              "      <td>18013.292538</td>\n",
              "      <td>26499.270991</td>\n",
              "      <td>17101.329033</td>\n",
              "      <td>93000.398905</td>\n",
              "      <td>42929.791456</td>\n",
              "      <td>...</td>\n",
              "      <td>89901.677376</td>\n",
              "      <td>71500.091890</td>\n",
              "      <td>14500.084988</td>\n",
              "      <td>17700.202031</td>\n",
              "      <td>22498.854468</td>\n",
              "      <td>6828.365585</td>\n",
              "      <td>80000.598134</td>\n",
              "      <td>53800.557588</td>\n",
              "      <td>76099.392491</td>\n",
              "      <td>1005.609060</td>\n",
              "    </tr>\n",
              "    <tr>\n",
              "      <th>1</th>\n",
              "      <td>38601.521809</td>\n",
              "      <td>46600.213069</td>\n",
              "      <td>27247.237898</td>\n",
              "      <td>76957.325287</td>\n",
              "      <td>101508.501657</td>\n",
              "      <td>18027.253845</td>\n",
              "      <td>26498.476252</td>\n",
              "      <td>17101.839260</td>\n",
              "      <td>93001.135701</td>\n",
              "      <td>42959.219636</td>\n",
              "      <td>...</td>\n",
              "      <td>89903.680862</td>\n",
              "      <td>71500.528565</td>\n",
              "      <td>14500.702695</td>\n",
              "      <td>17700.067720</td>\n",
              "      <td>22497.528428</td>\n",
              "      <td>6867.180925</td>\n",
              "      <td>80000.765638</td>\n",
              "      <td>53801.466240</td>\n",
              "      <td>76098.720210</td>\n",
              "      <td>1006.929630</td>\n",
              "    </tr>\n",
              "    <tr>\n",
              "      <th>2</th>\n",
              "      <td>38602.571131</td>\n",
              "      <td>46599.796699</td>\n",
              "      <td>27245.728986</td>\n",
              "      <td>76984.107836</td>\n",
              "      <td>101512.408851</td>\n",
              "      <td>18039.582086</td>\n",
              "      <td>26497.747512</td>\n",
              "      <td>17102.138472</td>\n",
              "      <td>93000.468301</td>\n",
              "      <td>42986.766769</td>\n",
              "      <td>...</td>\n",
              "      <td>89902.855336</td>\n",
              "      <td>71499.720827</td>\n",
              "      <td>14500.550575</td>\n",
              "      <td>17699.662362</td>\n",
              "      <td>22496.594550</td>\n",
              "      <td>6904.777170</td>\n",
              "      <td>80000.076052</td>\n",
              "      <td>53801.188916</td>\n",
              "      <td>76097.747962</td>\n",
              "      <td>1007.230487</td>\n",
              "    </tr>\n",
              "    <tr>\n",
              "      <th>3</th>\n",
              "      <td>38602.843178</td>\n",
              "      <td>46598.854466</td>\n",
              "      <td>27245.385917</td>\n",
              "      <td>77011.836163</td>\n",
              "      <td>101515.370608</td>\n",
              "      <td>18051.922085</td>\n",
              "      <td>26497.165434</td>\n",
              "      <td>17102.038805</td>\n",
              "      <td>93000.740997</td>\n",
              "      <td>43014.491324</td>\n",
              "      <td>...</td>\n",
              "      <td>89904.467270</td>\n",
              "      <td>71499.344211</td>\n",
              "      <td>14498.939999</td>\n",
              "      <td>17698.914154</td>\n",
              "      <td>22496.536196</td>\n",
              "      <td>6941.282301</td>\n",
              "      <td>80000.191375</td>\n",
              "      <td>53800.769711</td>\n",
              "      <td>76098.045074</td>\n",
              "      <td>1008.026663</td>\n",
              "    </tr>\n",
              "    <tr>\n",
              "      <th>4</th>\n",
              "      <td>38604.501818</td>\n",
              "      <td>46599.789797</td>\n",
              "      <td>27244.771198</td>\n",
              "      <td>77039.565871</td>\n",
              "      <td>101517.503118</td>\n",
              "      <td>18067.027498</td>\n",
              "      <td>26497.939638</td>\n",
              "      <td>17102.826115</td>\n",
              "      <td>93000.598159</td>\n",
              "      <td>43045.733044</td>\n",
              "      <td>...</td>\n",
              "      <td>89906.076411</td>\n",
              "      <td>71500.561695</td>\n",
              "      <td>14498.555060</td>\n",
              "      <td>17699.206194</td>\n",
              "      <td>22497.109525</td>\n",
              "      <td>6978.214110</td>\n",
              "      <td>79999.850281</td>\n",
              "      <td>53801.807788</td>\n",
              "      <td>76098.043932</td>\n",
              "      <td>1009.709259</td>\n",
              "    </tr>\n",
              "  </tbody>\n",
              "</table>\n",
              "<p>5 rows × 22 columns</p>\n",
              "</div>"
            ],
            "text/plain": [
              "            BID           BVH           CTG           FPT            GAS  \\\n",
              "0  38601.539501  46599.617505  27249.998460  76928.199741  101503.477836   \n",
              "1  38601.521809  46600.213069  27247.237898  76957.325287  101508.501657   \n",
              "2  38602.571131  46599.796699  27245.728986  76984.107836  101512.408851   \n",
              "3  38602.843178  46598.854466  27245.385917  77011.836163  101515.370608   \n",
              "4  38604.501818  46599.789797  27244.771198  77039.565871  101517.503118   \n",
              "\n",
              "            HPG           KDH           MBB           MSN           MWG  ...  \\\n",
              "0  18013.292538  26499.270991  17101.329033  93000.398905  42929.791456  ...   \n",
              "1  18027.253845  26498.476252  17101.839260  93001.135701  42959.219636  ...   \n",
              "2  18039.582086  26497.747512  17102.138472  93000.468301  42986.766769  ...   \n",
              "3  18051.922085  26497.165434  17102.038805  93000.740997  43014.491324  ...   \n",
              "4  18067.027498  26497.939638  17102.826115  93000.598159  43045.733044  ...   \n",
              "\n",
              "            PNJ           REE           SBT           SSI           STB  \\\n",
              "0  89901.677376  71500.091890  14500.084988  17700.202031  22498.854468   \n",
              "1  89903.680862  71500.528565  14500.702695  17700.067720  22497.528428   \n",
              "2  89902.855336  71499.720827  14500.550575  17699.662362  22496.594550   \n",
              "3  89904.467270  71499.344211  14498.939999  17698.914154  22496.536196   \n",
              "4  89906.076411  71500.561695  14498.555060  17699.206194  22497.109525   \n",
              "\n",
              "           TCH           VCB           VIC           VNM         VN30  \n",
              "0  6828.365585  80000.598134  53800.557588  76099.392491  1005.609060  \n",
              "1  6867.180925  80000.765638  53801.466240  76098.720210  1006.929630  \n",
              "2  6904.777170  80000.076052  53801.188916  76097.747962  1007.230487  \n",
              "3  6941.282301  80000.191375  53800.769711  76098.045074  1008.026663  \n",
              "4  6978.214110  79999.850281  53801.807788  76098.043932  1009.709259  \n",
              "\n",
              "[5 rows x 22 columns]"
            ]
          },
          "execution_count": 29,
          "metadata": {},
          "output_type": "execute_result"
        }
      ],
      "source": [
        "from joblib import dump, load\n",
        "\n",
        "dump(SVR_model, 'save/SVR_model.joblib')\n",
        "\n",
        "SVR_model = load('save/SVR_model.joblib')\n",
        "\n",
        "\n",
        "Shift_df = stock_price_df.copy()\n",
        "for col in column_names:\n",
        "    stock_price_df[f\"Diff{col}\"] = stock_price_df[col].diff()\n",
        "\n",
        "n_days_lag = 10\n",
        "n_features = len(column_names)\n",
        "reframed = series_to_supervised(stock_price_df[[f\"Diff{col}\" for col in column_names]], n_days_lag, 1)\n",
        "n_obs = n_days_lag * n_features\n",
        "\n",
        "last_input_sequence = reframed.values[-1:, :n_obs]\n",
        "\n",
        "\n",
        "predictions = []\n",
        "last_values = stock_price_df[column_names].iloc[-1].values.reshape(1, n_features)\n",
        "n_predict = 5\n",
        "for i in range(n_predict):\n",
        "    prediction = SVR_model.predict(last_input_sequence)\n",
        "\n",
        "    prediction = prediction.reshape((1, n_features))\n",
        "\n",
        "\n",
        "    last_input_sequence = np.roll(last_input_sequence, -n_features)\n",
        "    last_input_sequence[:, -n_features:] = prediction\n",
        "    # print(type(prediction))\n",
        "    last_values = last_values + prediction\n",
        "    predictions.append(last_values)\n",
        "predictions = np.array(predictions).reshape(n_predict, n_features)\n",
        "predictions.shape\n",
        "predicted_values_df = pd.DataFrame(data=predictions, columns=column_names)\n",
        "predicted_values_df"
      ]
    },
    {
      "cell_type": "code",
      "execution_count": 30,
      "metadata": {},
      "outputs": [
        {
          "data": {
            "text/plain": [
              "0.0030913994151927707"
            ]
          },
          "execution_count": 30,
          "metadata": {},
          "output_type": "execute_result"
        }
      ],
      "source": [
        "multiouput_df = series_to_supervised(stock_price_df[[f\"Diff{col}\" for col in column_names]], n_days_lag, n_observe_days)\n",
        "n_obs = n_days_lag * n_features\n",
        "\n",
        "values = multiouput_df.values\n",
        "n_train_days = int(len(multiouput_df.index) * 0.9)\n",
        "train_m = values[:n_train_days, :]\n",
        "test_m = values[n_train_days:n_train_days+n_observe_days, :]\n",
        "train_X_m, train_y_m = train_m[:, :n_obs], train_m[:, n_obs:]\n",
        "test_X_m, test_y_m = test_m[:, :n_obs], test_m[:, n_obs:]\n",
        "multioutput_SVR_model = RandomForestRegressor()\n",
        "mo_svr = SVR(epsilon=0.2)\n",
        "multioutput_SVR_model = MultiOutputRegressor(mo_svr)\n",
        "multioutput_SVR_model.fit(train_X_m, train_y_m)\n",
        "multioutput_SVR_model.score(train_X_m, train_y_m)"
      ]
    },
    {
      "cell_type": "code",
      "execution_count": 31,
      "metadata": {},
      "outputs": [
        {
          "data": {
            "text/html": [
              "<div>\n",
              "<style scoped>\n",
              "    .dataframe tbody tr th:only-of-type {\n",
              "        vertical-align: middle;\n",
              "    }\n",
              "\n",
              "    .dataframe tbody tr th {\n",
              "        vertical-align: top;\n",
              "    }\n",
              "\n",
              "    .dataframe thead th {\n",
              "        text-align: right;\n",
              "    }\n",
              "</style>\n",
              "<table border=\"1\" class=\"dataframe\">\n",
              "  <thead>\n",
              "    <tr style=\"text-align: right;\">\n",
              "      <th></th>\n",
              "      <th>BID(t-10)</th>\n",
              "      <th>BVH(t-10)</th>\n",
              "      <th>CTG(t-10)</th>\n",
              "      <th>FPT(t-10)</th>\n",
              "      <th>GAS(t-10)</th>\n",
              "      <th>HPG(t-10)</th>\n",
              "      <th>KDH(t-10)</th>\n",
              "      <th>MBB(t-10)</th>\n",
              "      <th>MSN(t-10)</th>\n",
              "      <th>MWG(t-10)</th>\n",
              "      <th>...</th>\n",
              "      <th>PNJ(t+4)</th>\n",
              "      <th>REE(t+4)</th>\n",
              "      <th>SBT(t+4)</th>\n",
              "      <th>SSI(t+4)</th>\n",
              "      <th>STB(t+4)</th>\n",
              "      <th>TCH(t+4)</th>\n",
              "      <th>VCB(t+4)</th>\n",
              "      <th>VIC(t+4)</th>\n",
              "      <th>VNM(t+4)</th>\n",
              "      <th>VN30(t+4)</th>\n",
              "    </tr>\n",
              "  </thead>\n",
              "  <tbody>\n",
              "    <tr>\n",
              "      <th>2017-01-17</th>\n",
              "      <td>704.5</td>\n",
              "      <td>1100.0</td>\n",
              "      <td>1050.0</td>\n",
              "      <td>306.2</td>\n",
              "      <td>-500.0</td>\n",
              "      <td>133.4</td>\n",
              "      <td>-23.1</td>\n",
              "      <td>-92.0</td>\n",
              "      <td>400.0</td>\n",
              "      <td>83.0</td>\n",
              "      <td>...</td>\n",
              "      <td>0.0</td>\n",
              "      <td>-750.0</td>\n",
              "      <td>-81.7</td>\n",
              "      <td>-72.9</td>\n",
              "      <td>50.0</td>\n",
              "      <td>0.0</td>\n",
              "      <td>75.0</td>\n",
              "      <td>0.0</td>\n",
              "      <td>790.0</td>\n",
              "      <td>1.14</td>\n",
              "    </tr>\n",
              "    <tr>\n",
              "      <th>2017-01-18</th>\n",
              "      <td>222.5</td>\n",
              "      <td>800.0</td>\n",
              "      <td>300.0</td>\n",
              "      <td>144.1</td>\n",
              "      <td>1400.0</td>\n",
              "      <td>0.0</td>\n",
              "      <td>0.0</td>\n",
              "      <td>-55.2</td>\n",
              "      <td>-1267.0</td>\n",
              "      <td>70.0</td>\n",
              "      <td>...</td>\n",
              "      <td>-99.7</td>\n",
              "      <td>500.0</td>\n",
              "      <td>0.0</td>\n",
              "      <td>24.3</td>\n",
              "      <td>300.0</td>\n",
              "      <td>-108.1</td>\n",
              "      <td>371.0</td>\n",
              "      <td>-413.0</td>\n",
              "      <td>0.0</td>\n",
              "      <td>3.90</td>\n",
              "    </tr>\n",
              "    <tr>\n",
              "      <th>2017-01-19</th>\n",
              "      <td>-37.1</td>\n",
              "      <td>1000.0</td>\n",
              "      <td>100.0</td>\n",
              "      <td>-54.0</td>\n",
              "      <td>0.0</td>\n",
              "      <td>15.7</td>\n",
              "      <td>-253.6</td>\n",
              "      <td>-36.8</td>\n",
              "      <td>-266.0</td>\n",
              "      <td>59.0</td>\n",
              "      <td>...</td>\n",
              "      <td>132.9</td>\n",
              "      <td>350.0</td>\n",
              "      <td>-81.8</td>\n",
              "      <td>72.9</td>\n",
              "      <td>350.0</td>\n",
              "      <td>216.2</td>\n",
              "      <td>519.0</td>\n",
              "      <td>413.0</td>\n",
              "      <td>790.0</td>\n",
              "      <td>5.47</td>\n",
              "    </tr>\n",
              "    <tr>\n",
              "      <th>2017-01-20</th>\n",
              "      <td>259.6</td>\n",
              "      <td>300.0</td>\n",
              "      <td>150.0</td>\n",
              "      <td>-54.0</td>\n",
              "      <td>-1100.0</td>\n",
              "      <td>-109.9</td>\n",
              "      <td>138.4</td>\n",
              "      <td>92.0</td>\n",
              "      <td>66.0</td>\n",
              "      <td>0.0</td>\n",
              "      <td>...</td>\n",
              "      <td>498.5</td>\n",
              "      <td>300.0</td>\n",
              "      <td>-245.3</td>\n",
              "      <td>218.6</td>\n",
              "      <td>-150.0</td>\n",
              "      <td>-108.1</td>\n",
              "      <td>111.0</td>\n",
              "      <td>413.0</td>\n",
              "      <td>3159.0</td>\n",
              "      <td>8.19</td>\n",
              "    </tr>\n",
              "    <tr>\n",
              "      <th>2017-01-23</th>\n",
              "      <td>333.7</td>\n",
              "      <td>200.0</td>\n",
              "      <td>450.0</td>\n",
              "      <td>90.0</td>\n",
              "      <td>100.0</td>\n",
              "      <td>-39.2</td>\n",
              "      <td>0.0</td>\n",
              "      <td>-18.4</td>\n",
              "      <td>-400.0</td>\n",
              "      <td>-129.0</td>\n",
              "      <td>...</td>\n",
              "      <td>-133.0</td>\n",
              "      <td>-100.0</td>\n",
              "      <td>0.0</td>\n",
              "      <td>-72.9</td>\n",
              "      <td>0.0</td>\n",
              "      <td>-72.1</td>\n",
              "      <td>-556.0</td>\n",
              "      <td>-413.0</td>\n",
              "      <td>711.0</td>\n",
              "      <td>-1.80</td>\n",
              "    </tr>\n",
              "    <tr>\n",
              "      <th>...</th>\n",
              "      <td>...</td>\n",
              "      <td>...</td>\n",
              "      <td>...</td>\n",
              "      <td>...</td>\n",
              "      <td>...</td>\n",
              "      <td>...</td>\n",
              "      <td>...</td>\n",
              "      <td>...</td>\n",
              "      <td>...</td>\n",
              "      <td>...</td>\n",
              "      <td>...</td>\n",
              "      <td>...</td>\n",
              "      <td>...</td>\n",
              "      <td>...</td>\n",
              "      <td>...</td>\n",
              "      <td>...</td>\n",
              "      <td>...</td>\n",
              "      <td>...</td>\n",
              "      <td>...</td>\n",
              "      <td>...</td>\n",
              "      <td>...</td>\n",
              "    </tr>\n",
              "    <tr>\n",
              "      <th>2022-12-20</th>\n",
              "      <td>-2150.0</td>\n",
              "      <td>-2500.0</td>\n",
              "      <td>-1600.0</td>\n",
              "      <td>-2300.0</td>\n",
              "      <td>-3700.0</td>\n",
              "      <td>-1400.0</td>\n",
              "      <td>-1550.0</td>\n",
              "      <td>-1300.0</td>\n",
              "      <td>-3000.0</td>\n",
              "      <td>-3250.0</td>\n",
              "      <td>...</td>\n",
              "      <td>-450.0</td>\n",
              "      <td>-3600.0</td>\n",
              "      <td>-1000.0</td>\n",
              "      <td>-1250.0</td>\n",
              "      <td>-1600.0</td>\n",
              "      <td>-480.0</td>\n",
              "      <td>-200.0</td>\n",
              "      <td>-2200.0</td>\n",
              "      <td>-200.0</td>\n",
              "      <td>-46.36</td>\n",
              "    </tr>\n",
              "    <tr>\n",
              "      <th>2022-12-21</th>\n",
              "      <td>-100.0</td>\n",
              "      <td>300.0</td>\n",
              "      <td>350.0</td>\n",
              "      <td>500.0</td>\n",
              "      <td>-2700.0</td>\n",
              "      <td>-350.0</td>\n",
              "      <td>350.0</td>\n",
              "      <td>-400.0</td>\n",
              "      <td>-2000.0</td>\n",
              "      <td>500.0</td>\n",
              "      <td>...</td>\n",
              "      <td>0.0</td>\n",
              "      <td>1700.0</td>\n",
              "      <td>100.0</td>\n",
              "      <td>1150.0</td>\n",
              "      <td>600.0</td>\n",
              "      <td>420.0</td>\n",
              "      <td>200.0</td>\n",
              "      <td>500.0</td>\n",
              "      <td>600.0</td>\n",
              "      <td>19.59</td>\n",
              "    </tr>\n",
              "    <tr>\n",
              "      <th>2022-12-22</th>\n",
              "      <td>0.0</td>\n",
              "      <td>200.0</td>\n",
              "      <td>450.0</td>\n",
              "      <td>500.0</td>\n",
              "      <td>-800.0</td>\n",
              "      <td>650.0</td>\n",
              "      <td>400.0</td>\n",
              "      <td>800.0</td>\n",
              "      <td>-4000.0</td>\n",
              "      <td>1150.0</td>\n",
              "      <td>...</td>\n",
              "      <td>1500.0</td>\n",
              "      <td>-200.0</td>\n",
              "      <td>450.0</td>\n",
              "      <td>-50.0</td>\n",
              "      <td>400.0</td>\n",
              "      <td>0.0</td>\n",
              "      <td>900.0</td>\n",
              "      <td>100.0</td>\n",
              "      <td>400.0</td>\n",
              "      <td>6.59</td>\n",
              "    </tr>\n",
              "    <tr>\n",
              "      <th>2022-12-23</th>\n",
              "      <td>200.0</td>\n",
              "      <td>-600.0</td>\n",
              "      <td>250.0</td>\n",
              "      <td>1000.0</td>\n",
              "      <td>0.0</td>\n",
              "      <td>300.0</td>\n",
              "      <td>-250.0</td>\n",
              "      <td>100.0</td>\n",
              "      <td>1000.0</td>\n",
              "      <td>200.0</td>\n",
              "      <td>...</td>\n",
              "      <td>3500.0</td>\n",
              "      <td>0.0</td>\n",
              "      <td>200.0</td>\n",
              "      <td>-550.0</td>\n",
              "      <td>-550.0</td>\n",
              "      <td>-40.0</td>\n",
              "      <td>700.0</td>\n",
              "      <td>100.0</td>\n",
              "      <td>0.0</td>\n",
              "      <td>-5.65</td>\n",
              "    </tr>\n",
              "    <tr>\n",
              "      <th>2022-12-26</th>\n",
              "      <td>-1100.0</td>\n",
              "      <td>600.0</td>\n",
              "      <td>-600.0</td>\n",
              "      <td>-1000.0</td>\n",
              "      <td>-1000.0</td>\n",
              "      <td>-600.0</td>\n",
              "      <td>-2100.0</td>\n",
              "      <td>-500.0</td>\n",
              "      <td>0.0</td>\n",
              "      <td>-300.0</td>\n",
              "      <td>...</td>\n",
              "      <td>3900.0</td>\n",
              "      <td>-300.0</td>\n",
              "      <td>0.0</td>\n",
              "      <td>100.0</td>\n",
              "      <td>150.0</td>\n",
              "      <td>-70.0</td>\n",
              "      <td>-700.0</td>\n",
              "      <td>200.0</td>\n",
              "      <td>-900.0</td>\n",
              "      <td>-3.11</td>\n",
              "    </tr>\n",
              "  </tbody>\n",
              "</table>\n",
              "<p>1485 rows × 330 columns</p>\n",
              "</div>"
            ],
            "text/plain": [
              "            BID(t-10)  BVH(t-10)  CTG(t-10)  FPT(t-10)  GAS(t-10)  HPG(t-10)  \\\n",
              "2017-01-17      704.5     1100.0     1050.0      306.2     -500.0      133.4   \n",
              "2017-01-18      222.5      800.0      300.0      144.1     1400.0        0.0   \n",
              "2017-01-19      -37.1     1000.0      100.0      -54.0        0.0       15.7   \n",
              "2017-01-20      259.6      300.0      150.0      -54.0    -1100.0     -109.9   \n",
              "2017-01-23      333.7      200.0      450.0       90.0      100.0      -39.2   \n",
              "...               ...        ...        ...        ...        ...        ...   \n",
              "2022-12-20    -2150.0    -2500.0    -1600.0    -2300.0    -3700.0    -1400.0   \n",
              "2022-12-21     -100.0      300.0      350.0      500.0    -2700.0     -350.0   \n",
              "2022-12-22        0.0      200.0      450.0      500.0     -800.0      650.0   \n",
              "2022-12-23      200.0     -600.0      250.0     1000.0        0.0      300.0   \n",
              "2022-12-26    -1100.0      600.0     -600.0    -1000.0    -1000.0     -600.0   \n",
              "\n",
              "            KDH(t-10)  MBB(t-10)  MSN(t-10)  MWG(t-10)  ...  PNJ(t+4)  \\\n",
              "2017-01-17      -23.1      -92.0      400.0       83.0  ...       0.0   \n",
              "2017-01-18        0.0      -55.2    -1267.0       70.0  ...     -99.7   \n",
              "2017-01-19     -253.6      -36.8     -266.0       59.0  ...     132.9   \n",
              "2017-01-20      138.4       92.0       66.0        0.0  ...     498.5   \n",
              "2017-01-23        0.0      -18.4     -400.0     -129.0  ...    -133.0   \n",
              "...               ...        ...        ...        ...  ...       ...   \n",
              "2022-12-20    -1550.0    -1300.0    -3000.0    -3250.0  ...    -450.0   \n",
              "2022-12-21      350.0     -400.0    -2000.0      500.0  ...       0.0   \n",
              "2022-12-22      400.0      800.0    -4000.0     1150.0  ...    1500.0   \n",
              "2022-12-23     -250.0      100.0     1000.0      200.0  ...    3500.0   \n",
              "2022-12-26    -2100.0     -500.0        0.0     -300.0  ...    3900.0   \n",
              "\n",
              "            REE(t+4)  SBT(t+4)  SSI(t+4)  STB(t+4)  TCH(t+4)  VCB(t+4)  \\\n",
              "2017-01-17    -750.0     -81.7     -72.9      50.0       0.0      75.0   \n",
              "2017-01-18     500.0       0.0      24.3     300.0    -108.1     371.0   \n",
              "2017-01-19     350.0     -81.8      72.9     350.0     216.2     519.0   \n",
              "2017-01-20     300.0    -245.3     218.6    -150.0    -108.1     111.0   \n",
              "2017-01-23    -100.0       0.0     -72.9       0.0     -72.1    -556.0   \n",
              "...              ...       ...       ...       ...       ...       ...   \n",
              "2022-12-20   -3600.0   -1000.0   -1250.0   -1600.0    -480.0    -200.0   \n",
              "2022-12-21    1700.0     100.0    1150.0     600.0     420.0     200.0   \n",
              "2022-12-22    -200.0     450.0     -50.0     400.0       0.0     900.0   \n",
              "2022-12-23       0.0     200.0    -550.0    -550.0     -40.0     700.0   \n",
              "2022-12-26    -300.0       0.0     100.0     150.0     -70.0    -700.0   \n",
              "\n",
              "            VIC(t+4)  VNM(t+4)  VN30(t+4)  \n",
              "2017-01-17       0.0     790.0       1.14  \n",
              "2017-01-18    -413.0       0.0       3.90  \n",
              "2017-01-19     413.0     790.0       5.47  \n",
              "2017-01-20     413.0    3159.0       8.19  \n",
              "2017-01-23    -413.0     711.0      -1.80  \n",
              "...              ...       ...        ...  \n",
              "2022-12-20   -2200.0    -200.0     -46.36  \n",
              "2022-12-21     500.0     600.0      19.59  \n",
              "2022-12-22     100.0     400.0       6.59  \n",
              "2022-12-23     100.0       0.0      -5.65  \n",
              "2022-12-26     200.0    -900.0      -3.11  \n",
              "\n",
              "[1485 rows x 330 columns]"
            ]
          },
          "execution_count": 31,
          "metadata": {},
          "output_type": "execute_result"
        }
      ],
      "source": [
        "multiouput_df"
      ]
    },
    {
      "cell_type": "code",
      "execution_count": 32,
      "metadata": {},
      "outputs": [
        {
          "data": {
            "text/plain": [
              "-0.5692859722092319"
            ]
          },
          "execution_count": 32,
          "metadata": {},
          "output_type": "execute_result"
        }
      ],
      "source": [
        "multioutput_SVR_model.score(test_X_m, test_y_m)"
      ]
    },
    {
      "cell_type": "code",
      "execution_count": 33,
      "metadata": {},
      "outputs": [
        {
          "data": {
            "text/plain": [
              "(1, 220)"
            ]
          },
          "execution_count": 33,
          "metadata": {},
          "output_type": "execute_result"
        }
      ],
      "source": [
        "test_X_m[[0]].shape"
      ]
    },
    {
      "cell_type": "code",
      "execution_count": 34,
      "metadata": {},
      "outputs": [
        {
          "data": {
            "text/plain": [
              "3.7811891917713405"
            ]
          },
          "execution_count": 34,
          "metadata": {},
          "output_type": "execute_result"
        }
      ],
      "source": [
        "multioutput_SVR_model.predict(test_X_m[[0]])[0,5]"
      ]
    },
    {
      "cell_type": "code",
      "execution_count": 35,
      "metadata": {},
      "outputs": [],
      "source": [
        "multiouput_predict = multioutput_SVR_model.predict(test_X_m[[0]])\n",
        "for i, col in enumerate(column_names):\n",
        "    last_train = stock_price_df.iloc[n_train_days+n_days_lag][col]\n",
        "    stock_price_df.loc[multistep_idx, f'{col}-SVR_multioutput'] = last_train + np.cumsum([multiouput_predict[0, t*n_features+i] for t in range(n_observe_days)])"
      ]
    },
    {
      "cell_type": "code",
      "execution_count": 36,
      "metadata": {},
      "outputs": [
        {
          "data": {
            "text/plain": [
              "<Axes: >"
            ]
          },
          "execution_count": 36,
          "metadata": {},
          "output_type": "execute_result"
        },
        {
          "data": {
            "image/png": "[encoded data removed]",
            "text/plain": [
              "<Figure size 1500x500 with 1 Axes>"
            ]
          },
          "metadata": {},
          "output_type": "display_data"
        }
      ],
      "source": [
        "stock_price_df[multistep_idx][['VN30', 'VN30-SVR_multistep', 'VN30-SVR_multioutput', 'VN30-SVR_1_step_test']].plot(figsize=(15,5))"
      ]
    },
    {
      "cell_type": "code",
      "execution_count": 37,
      "metadata": {},
      "outputs": [],
      "source": [
        "def forecast_accuracy(forecast, actual):\n",
        "    mape = np.mean(np.abs(forecast - actual)/np.abs(actual))  # MAPE\n",
        "    me = np.mean(forecast - actual)             # ME\n",
        "    mae = np.mean(np.abs(forecast - actual))    # MAE\n",
        "    mpe = np.mean((forecast - actual)/actual)   # MPE\n",
        "    rmse = np.mean((forecast - actual)**2)**.5  # RMSE\n",
        "    corr = np.corrcoef(forecast, actual)[0,1]   # corr\n",
        "    mins = np.amin(np.hstack([forecast[:,None], \n",
        "                              actual[:,None]]), axis=1)\n",
        "    maxs = np.amax(np.hstack([forecast[:,None], \n",
        "                              actual[:,None]]), axis=1)\n",
        "    minmax = 1 - np.mean(mins/maxs)             # minmax\n",
        "    return({'mape':mape, 'me':me, 'mae': mae, \n",
        "            'mpe': mpe, 'rmse':rmse, 'corr':corr, 'minmax':minmax})\n",
        "def adjust(val, length= 6): return str(val).ljust(length)\n"
      ]
    },
    {
      "cell_type": "code",
      "execution_count": 38,
      "metadata": {},
      "outputs": [
        {
          "name": "stdout",
          "output_type": "stream",
          "text": [
            "\n",
            "Forecast Accuracy of Incremental multistep (base on one step ahead): VN30\n",
            "mape   :  0.0231\n",
            "me     :  -35.2574\n",
            "mae    :  35.2574\n",
            "mpe    :  -0.0231\n",
            "rmse   :  38.9337\n",
            "corr   :  0.686\n",
            "minmax :  0.0231\n",
            "\n",
            "Forecast Accuracy of Multi output model n_step ahead: VN30\n",
            "mape   :  0.1158\n",
            "me     :  -175.6883\n",
            "mae    :  175.6883\n",
            "mpe    :  -0.1158\n",
            "rmse   :  176.4627\n",
            "corr   :  0.6398\n",
            "minmax :  0.1158\n"
          ]
        }
      ],
      "source": [
        "test = stock_price_df.copy()[['VN30-SVR_multistep', 'VN30-SVR_multioutput', 'VN30']]\n",
        "test.dropna(inplace=True)\n",
        "print('\\nForecast Accuracy of Incremental multistep (base on one step ahead): VN30')\n",
        "accuracy_prod = forecast_accuracy(test['VN30-SVR_multistep'].values, test['VN30'].values)\n",
        "for k, v in accuracy_prod.items():\n",
        "    print(adjust(k), ': ', round(v,4))\n",
        "print('\\nForecast Accuracy of Multi output model n_step ahead: VN30')\n",
        "accuracy_prod = forecast_accuracy(test['VN30-SVR_multioutput'].values, test['VN30'].values)\n",
        "for k, v in accuracy_prod.items():\n",
        "    print(adjust(k), ': ', round(v,4))"
      ]
    },
    {
      "cell_type": "code",
      "execution_count": 39,
      "metadata": {},
      "outputs": [
        {
          "name": "stdout",
          "output_type": "stream",
          "text": [
            "mape   :  0.1158\n",
            "me     :  -175.6883\n",
            "mae    :  175.6883\n",
            "mpe    :  -0.1158\n",
            "rmse   :  176.4627\n",
            "corr   :  0.6398\n",
            "minmax :  0.1158\n"
          ]
        }
      ],
      "source": [
        "accuracy_prod = forecast_accuracy(test['VN30-SVR_multioutput'].values, test['VN30'].values)\n",
        "for k, v in accuracy_prod.items():\n",
        "    print(adjust(k), ': ', round(v,4))"
      ]
    },
    {
      "cell_type": "code",
      "execution_count": 40,
      "metadata": {},
      "outputs": [
        {
          "name": "stdout",
          "output_type": "stream",
          "text": [
            "\n",
            "Forecast Accuracy of One-step ahead: VN30\n",
            "mape   :  0.0112\n",
            "me     :  3.1508\n",
            "mae    :  14.0096\n",
            "mpe    :  0.0026\n",
            "rmse   :  19.6025\n",
            "corr   :  0.995\n",
            "minmax :  0.011\n"
          ]
        }
      ],
      "source": [
        "print('\\nForecast Accuracy of One-step ahead: VN30')\n",
        "test = stock_price_df.copy()[['VN30-SVR_1_step_test', 'VN30']]\n",
        "test.dropna(inplace=True)\n",
        "accuracy_prod = forecast_accuracy(test['VN30-SVR_1_step_test'].values, test['VN30'].values)\n",
        "for k, v in accuracy_prod.items():\n",
        "    print(adjust(k), ': ', round(v,4))"
      ]
    },
    {
      "cell_type": "code",
      "execution_count": 41,
      "metadata": {},
      "outputs": [
        {
          "data": {
            "text/plain": [
              "<Axes: >"
            ]
          },
          "execution_count": 41,
          "metadata": {},
          "output_type": "execute_result"
        },
        {
          "data": {
            "image/png": "[encoded data removed]",
            "text/plain": [
              "<Figure size 1500x500 with 1 Axes>"
            ]
          },
          "metadata": {},
          "output_type": "display_data"
        }
      ],
      "source": [
        "test.plot(figsize=(15,5))"
      ]
    }
  ],
  "metadata": {
    "colab": {
      "provenance": []
    },
    "kernelspec": {
      "display_name": ".venv",
      "language": "python",
      "name": "python3"
    },
    "language_info": {
      "codemirror_mode": {
        "name": "ipython",
        "version": 3
      },
      "file_extension": ".py",
      "mimetype": "text/x-python",
      "name": "python",
      "nbconvert_exporter": "python",
      "pygments_lexer": "ipython3",
      "version": "3.8.0"
    },
    "vscode": {
      "interpreter": {
        "hash": "b273ddc9e63a42ceba2cdf86641043f9b32f514c6d31ad06631c60d916be2654"
      }
    }
  },
  "nbformat": 4,
  "nbformat_minor": 0
}
